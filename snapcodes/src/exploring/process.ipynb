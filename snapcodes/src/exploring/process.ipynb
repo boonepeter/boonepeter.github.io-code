{
 "cells": [
  {
   "cell_type": "code",
   "execution_count": 1,
   "id": "artistic-resolution",
   "metadata": {},
   "outputs": [],
   "source": [
    "import os\n",
    "import matplotlib.pyplot as plt\n",
    "from skimage import io, img_as_ubyte\n",
    "from skimage.filters import threshold_otsu\n",
    "from skimage.color import rgb2gray, rgba2rgb\n",
    "from skimage.measure import label, regionprops\n",
    "from skimage.transform import resize, rotate"
   ]
  },
  {
   "cell_type": "code",
   "execution_count": 2,
   "id": "european-citizenship",
   "metadata": {},
   "outputs": [
    {
     "ename": "FileNotFoundError",
     "evalue": "No such file: '/Users/pboonebenchsci.com/repos/boonepeter.github.io-code/snapcodes/src/imgs/mask.jpeg'",
     "output_type": "error",
     "traceback": [
      "\u001b[0;31m---------------------------------------------------------------------------\u001b[0m",
      "\u001b[0;31mFileNotFoundError\u001b[0m                         Traceback (most recent call last)",
      "\u001b[0;32m<ipython-input-2-4e6fe7ef5315>\u001b[0m in \u001b[0;36m<module>\u001b[0;34m\u001b[0m\n\u001b[1;32m      1\u001b[0m \u001b[0mfilepath\u001b[0m \u001b[0;34m=\u001b[0m \u001b[0;34m'imgs/mask.jpeg'\u001b[0m\u001b[0;34m\u001b[0m\u001b[0;34m\u001b[0m\u001b[0m\n\u001b[0;32m----> 2\u001b[0;31m \u001b[0mim\u001b[0m \u001b[0;34m=\u001b[0m \u001b[0mio\u001b[0m\u001b[0;34m.\u001b[0m\u001b[0mimread\u001b[0m\u001b[0;34m(\u001b[0m\u001b[0mfilepath\u001b[0m\u001b[0;34m)\u001b[0m\u001b[0;34m\u001b[0m\u001b[0;34m\u001b[0m\u001b[0m\n\u001b[0m\u001b[1;32m      3\u001b[0m \u001b[0mmask\u001b[0m \u001b[0;34m=\u001b[0m \u001b[0mim\u001b[0m \u001b[0;34m>\u001b[0m \u001b[0mthreshold_otsu\u001b[0m\u001b[0;34m(\u001b[0m\u001b[0mim\u001b[0m\u001b[0;34m)\u001b[0m\u001b[0;34m\u001b[0m\u001b[0;34m\u001b[0m\u001b[0m\n\u001b[1;32m      4\u001b[0m \u001b[0mio\u001b[0m\u001b[0;34m.\u001b[0m\u001b[0mimshow\u001b[0m\u001b[0;34m(\u001b[0m\u001b[0mimg_as_ubyte\u001b[0m\u001b[0;34m(\u001b[0m\u001b[0mmask\u001b[0m\u001b[0;34m)\u001b[0m\u001b[0;34m)\u001b[0m\u001b[0;34m\u001b[0m\u001b[0;34m\u001b[0m\u001b[0m\n",
      "\u001b[0;32m/usr/local/lib/python3.9/site-packages/skimage/io/_io.py\u001b[0m in \u001b[0;36mimread\u001b[0;34m(fname, as_gray, plugin, **plugin_args)\u001b[0m\n\u001b[1;32m     46\u001b[0m \u001b[0;34m\u001b[0m\u001b[0m\n\u001b[1;32m     47\u001b[0m     \u001b[0;32mwith\u001b[0m \u001b[0mfile_or_url_context\u001b[0m\u001b[0;34m(\u001b[0m\u001b[0mfname\u001b[0m\u001b[0;34m)\u001b[0m \u001b[0;32mas\u001b[0m \u001b[0mfname\u001b[0m\u001b[0;34m:\u001b[0m\u001b[0;34m\u001b[0m\u001b[0;34m\u001b[0m\u001b[0m\n\u001b[0;32m---> 48\u001b[0;31m         \u001b[0mimg\u001b[0m \u001b[0;34m=\u001b[0m \u001b[0mcall_plugin\u001b[0m\u001b[0;34m(\u001b[0m\u001b[0;34m'imread'\u001b[0m\u001b[0;34m,\u001b[0m \u001b[0mfname\u001b[0m\u001b[0;34m,\u001b[0m \u001b[0mplugin\u001b[0m\u001b[0;34m=\u001b[0m\u001b[0mplugin\u001b[0m\u001b[0;34m,\u001b[0m \u001b[0;34m**\u001b[0m\u001b[0mplugin_args\u001b[0m\u001b[0;34m)\u001b[0m\u001b[0;34m\u001b[0m\u001b[0;34m\u001b[0m\u001b[0m\n\u001b[0m\u001b[1;32m     49\u001b[0m \u001b[0;34m\u001b[0m\u001b[0m\n\u001b[1;32m     50\u001b[0m     \u001b[0;32mif\u001b[0m \u001b[0;32mnot\u001b[0m \u001b[0mhasattr\u001b[0m\u001b[0;34m(\u001b[0m\u001b[0mimg\u001b[0m\u001b[0;34m,\u001b[0m \u001b[0;34m'ndim'\u001b[0m\u001b[0;34m)\u001b[0m\u001b[0;34m:\u001b[0m\u001b[0;34m\u001b[0m\u001b[0;34m\u001b[0m\u001b[0m\n",
      "\u001b[0;32m/usr/local/lib/python3.9/site-packages/skimage/io/manage_plugins.py\u001b[0m in \u001b[0;36mcall_plugin\u001b[0;34m(kind, *args, **kwargs)\u001b[0m\n\u001b[1;32m    205\u001b[0m                                (plugin, kind))\n\u001b[1;32m    206\u001b[0m \u001b[0;34m\u001b[0m\u001b[0m\n\u001b[0;32m--> 207\u001b[0;31m     \u001b[0;32mreturn\u001b[0m \u001b[0mfunc\u001b[0m\u001b[0;34m(\u001b[0m\u001b[0;34m*\u001b[0m\u001b[0margs\u001b[0m\u001b[0;34m,\u001b[0m \u001b[0;34m**\u001b[0m\u001b[0mkwargs\u001b[0m\u001b[0;34m)\u001b[0m\u001b[0;34m\u001b[0m\u001b[0;34m\u001b[0m\u001b[0m\n\u001b[0m\u001b[1;32m    208\u001b[0m \u001b[0;34m\u001b[0m\u001b[0m\n\u001b[1;32m    209\u001b[0m \u001b[0;34m\u001b[0m\u001b[0m\n",
      "\u001b[0;32m/usr/local/lib/python3.9/site-packages/skimage/io/_plugins/imageio_plugin.py\u001b[0m in \u001b[0;36mimread\u001b[0;34m(*args, **kwargs)\u001b[0m\n\u001b[1;32m      8\u001b[0m \u001b[0;34m@\u001b[0m\u001b[0mwraps\u001b[0m\u001b[0;34m(\u001b[0m\u001b[0mimageio_imread\u001b[0m\u001b[0;34m)\u001b[0m\u001b[0;34m\u001b[0m\u001b[0;34m\u001b[0m\u001b[0m\n\u001b[1;32m      9\u001b[0m \u001b[0;32mdef\u001b[0m \u001b[0mimread\u001b[0m\u001b[0;34m(\u001b[0m\u001b[0;34m*\u001b[0m\u001b[0margs\u001b[0m\u001b[0;34m,\u001b[0m \u001b[0;34m**\u001b[0m\u001b[0mkwargs\u001b[0m\u001b[0;34m)\u001b[0m\u001b[0;34m:\u001b[0m\u001b[0;34m\u001b[0m\u001b[0;34m\u001b[0m\u001b[0m\n\u001b[0;32m---> 10\u001b[0;31m     \u001b[0;32mreturn\u001b[0m \u001b[0mnp\u001b[0m\u001b[0;34m.\u001b[0m\u001b[0masarray\u001b[0m\u001b[0;34m(\u001b[0m\u001b[0mimageio_imread\u001b[0m\u001b[0;34m(\u001b[0m\u001b[0;34m*\u001b[0m\u001b[0margs\u001b[0m\u001b[0;34m,\u001b[0m \u001b[0;34m**\u001b[0m\u001b[0mkwargs\u001b[0m\u001b[0;34m)\u001b[0m\u001b[0;34m)\u001b[0m\u001b[0;34m\u001b[0m\u001b[0;34m\u001b[0m\u001b[0m\n\u001b[0m",
      "\u001b[0;32m/usr/local/lib/python3.9/site-packages/imageio/core/functions.py\u001b[0m in \u001b[0;36mimread\u001b[0;34m(uri, format, **kwargs)\u001b[0m\n\u001b[1;32m    263\u001b[0m \u001b[0;34m\u001b[0m\u001b[0m\n\u001b[1;32m    264\u001b[0m     \u001b[0;31m# Get reader and read first\u001b[0m\u001b[0;34m\u001b[0m\u001b[0;34m\u001b[0m\u001b[0m\n\u001b[0;32m--> 265\u001b[0;31m     \u001b[0mreader\u001b[0m \u001b[0;34m=\u001b[0m \u001b[0mread\u001b[0m\u001b[0;34m(\u001b[0m\u001b[0muri\u001b[0m\u001b[0;34m,\u001b[0m \u001b[0mformat\u001b[0m\u001b[0;34m,\u001b[0m \u001b[0;34m\"i\"\u001b[0m\u001b[0;34m,\u001b[0m \u001b[0;34m**\u001b[0m\u001b[0mkwargs\u001b[0m\u001b[0;34m)\u001b[0m\u001b[0;34m\u001b[0m\u001b[0;34m\u001b[0m\u001b[0m\n\u001b[0m\u001b[1;32m    266\u001b[0m     \u001b[0;32mwith\u001b[0m \u001b[0mreader\u001b[0m\u001b[0;34m:\u001b[0m\u001b[0;34m\u001b[0m\u001b[0;34m\u001b[0m\u001b[0m\n\u001b[1;32m    267\u001b[0m         \u001b[0;32mreturn\u001b[0m \u001b[0mreader\u001b[0m\u001b[0;34m.\u001b[0m\u001b[0mget_data\u001b[0m\u001b[0;34m(\u001b[0m\u001b[0;36m0\u001b[0m\u001b[0;34m)\u001b[0m\u001b[0;34m\u001b[0m\u001b[0;34m\u001b[0m\u001b[0m\n",
      "\u001b[0;32m/usr/local/lib/python3.9/site-packages/imageio/core/functions.py\u001b[0m in \u001b[0;36mget_reader\u001b[0;34m(uri, format, mode, **kwargs)\u001b[0m\n\u001b[1;32m    170\u001b[0m \u001b[0;34m\u001b[0m\u001b[0m\n\u001b[1;32m    171\u001b[0m     \u001b[0;31m# Create request object\u001b[0m\u001b[0;34m\u001b[0m\u001b[0;34m\u001b[0m\u001b[0m\n\u001b[0;32m--> 172\u001b[0;31m     \u001b[0mrequest\u001b[0m \u001b[0;34m=\u001b[0m \u001b[0mRequest\u001b[0m\u001b[0;34m(\u001b[0m\u001b[0muri\u001b[0m\u001b[0;34m,\u001b[0m \u001b[0;34m\"r\"\u001b[0m \u001b[0;34m+\u001b[0m \u001b[0mmode\u001b[0m\u001b[0;34m,\u001b[0m \u001b[0;34m**\u001b[0m\u001b[0mkwargs\u001b[0m\u001b[0;34m)\u001b[0m\u001b[0;34m\u001b[0m\u001b[0;34m\u001b[0m\u001b[0m\n\u001b[0m\u001b[1;32m    173\u001b[0m \u001b[0;34m\u001b[0m\u001b[0m\n\u001b[1;32m    174\u001b[0m     \u001b[0;31m# Get format\u001b[0m\u001b[0;34m\u001b[0m\u001b[0;34m\u001b[0m\u001b[0m\n",
      "\u001b[0;32m/usr/local/lib/python3.9/site-packages/imageio/core/request.py\u001b[0m in \u001b[0;36m__init__\u001b[0;34m(self, uri, mode, **kwargs)\u001b[0m\n\u001b[1;32m    122\u001b[0m \u001b[0;34m\u001b[0m\u001b[0m\n\u001b[1;32m    123\u001b[0m         \u001b[0;31m# Parse what was given\u001b[0m\u001b[0;34m\u001b[0m\u001b[0;34m\u001b[0m\u001b[0m\n\u001b[0;32m--> 124\u001b[0;31m         \u001b[0mself\u001b[0m\u001b[0;34m.\u001b[0m\u001b[0m_parse_uri\u001b[0m\u001b[0;34m(\u001b[0m\u001b[0muri\u001b[0m\u001b[0;34m)\u001b[0m\u001b[0;34m\u001b[0m\u001b[0;34m\u001b[0m\u001b[0m\n\u001b[0m\u001b[1;32m    125\u001b[0m \u001b[0;34m\u001b[0m\u001b[0m\n\u001b[1;32m    126\u001b[0m         \u001b[0;31m# Set extension\u001b[0m\u001b[0;34m\u001b[0m\u001b[0;34m\u001b[0m\u001b[0m\n",
      "\u001b[0;32m/usr/local/lib/python3.9/site-packages/imageio/core/request.py\u001b[0m in \u001b[0;36m_parse_uri\u001b[0;34m(self, uri)\u001b[0m\n\u001b[1;32m    258\u001b[0m                 \u001b[0;31m# Reading: check that the file exists (but is allowed a dir)\u001b[0m\u001b[0;34m\u001b[0m\u001b[0;34m\u001b[0m\u001b[0m\n\u001b[1;32m    259\u001b[0m                 \u001b[0;32mif\u001b[0m \u001b[0;32mnot\u001b[0m \u001b[0mos\u001b[0m\u001b[0;34m.\u001b[0m\u001b[0mpath\u001b[0m\u001b[0;34m.\u001b[0m\u001b[0mexists\u001b[0m\u001b[0;34m(\u001b[0m\u001b[0mfn\u001b[0m\u001b[0;34m)\u001b[0m\u001b[0;34m:\u001b[0m\u001b[0;34m\u001b[0m\u001b[0;34m\u001b[0m\u001b[0m\n\u001b[0;32m--> 260\u001b[0;31m                     \u001b[0;32mraise\u001b[0m \u001b[0mFileNotFoundError\u001b[0m\u001b[0;34m(\u001b[0m\u001b[0;34m\"No such file: '%s'\"\u001b[0m \u001b[0;34m%\u001b[0m \u001b[0mfn\u001b[0m\u001b[0;34m)\u001b[0m\u001b[0;34m\u001b[0m\u001b[0;34m\u001b[0m\u001b[0m\n\u001b[0m\u001b[1;32m    261\u001b[0m             \u001b[0;32melse\u001b[0m\u001b[0;34m:\u001b[0m\u001b[0;34m\u001b[0m\u001b[0;34m\u001b[0m\u001b[0m\n\u001b[1;32m    262\u001b[0m                 \u001b[0;31m# Writing: check that the directory to write to does exist\u001b[0m\u001b[0;34m\u001b[0m\u001b[0;34m\u001b[0m\u001b[0m\n",
      "\u001b[0;31mFileNotFoundError\u001b[0m: No such file: '/Users/pboonebenchsci.com/repos/boonepeter.github.io-code/snapcodes/src/imgs/mask.jpeg'"
     ]
    }
   ],
   "source": [
    "filepath = 'imgs/mask.jpeg'\n",
    "im = io.imread(filepath)\n",
    "mask = im > threshold_otsu(im)\n",
    "io.imshow(img_as_ubyte(mask))"
   ]
  },
  {
   "cell_type": "code",
   "execution_count": 3,
   "id": "precise-discussion",
   "metadata": {},
   "outputs": [],
   "source": [
    "def get_points(filepath):\n",
    "    im = io.imread(filepath)\n",
    "    im = rgb2gray(rgba2rgb(im))\n",
    "    t = threshold_otsu(im)\n",
    "    return im > t\n",
    "\n",
    "\n",
    "    \n",
    "def get_points_2(image):\n",
    "    if image.shape[2] == 4:\n",
    "        image = rgba2rgb(image)\n",
    "    im = rgb2gray(image)\n",
    "    t = threshold_otsu(im)\n",
    "    return im > t"
   ]
  },
  {
   "cell_type": "code",
   "execution_count": 4,
   "id": "narrow-sector",
   "metadata": {},
   "outputs": [],
   "source": [
    "p = get_points(\"imgs/codes/snapcode.png\")"
   ]
  },
  {
   "cell_type": "code",
   "execution_count": 5,
   "id": "spanish-listening",
   "metadata": {},
   "outputs": [
    {
     "data": {
      "text/plain": [
       "<matplotlib.image.AxesImage at 0x195e2c8b0>"
      ]
     },
     "execution_count": 5,
     "metadata": {},
     "output_type": "execute_result"
    },
    {
     "data": {
      "image/png": "[encoded data removed]",
      "text/plain": [
       "<Figure size 432x288 with 1 Axes>"
      ]
     },
     "metadata": {
      "needs_background": "light"
     },
     "output_type": "display_data"
    }
   ],
   "source": [
    "io.imshow(img_as_ubyte(p))"
   ]
  },
  {
   "cell_type": "code",
   "execution_count": 6,
   "id": "visible-heading",
   "metadata": {},
   "outputs": [],
   "source": [
    "l = label(p, background=1)"
   ]
  },
  {
   "cell_type": "code",
   "execution_count": 7,
   "id": "sustained-swift",
   "metadata": {},
   "outputs": [
    {
     "name": "stderr",
     "output_type": "stream",
     "text": [
      "/usr/local/lib/python3.9/site-packages/skimage/io/_plugins/matplotlib_plugin.py:150: UserWarning: Low image data range; displaying image with stretched contrast.\n",
      "  lo, hi, cmap = _get_display_range(image)\n"
     ]
    },
    {
     "data": {
      "text/plain": [
       "<matplotlib.image.AxesImage at 0x195ece970>"
      ]
     },
     "execution_count": 7,
     "metadata": {},
     "output_type": "execute_result"
    },
    {
     "data": {
      "image/png": "[encoded data removed]",
      "text/plain": [
       "<Figure size 432x288 with 2 Axes>"
      ]
     },
     "metadata": {
      "needs_background": "light"
     },
     "output_type": "display_data"
    }
   ],
   "source": [
    "io.imshow(l)"
   ]
  },
  {
   "cell_type": "code",
   "execution_count": 8,
   "id": "supreme-prefix",
   "metadata": {},
   "outputs": [],
   "source": [
    "rp = regionprops(l)"
   ]
  },
  {
   "cell_type": "code",
   "execution_count": 9,
   "id": "compressed-joseph",
   "metadata": {},
   "outputs": [],
   "source": [
    "def process_and_plot(filepath):\n",
    "    p = get_points(filepath)\n",
    "    l = label(p, background=1)\n",
    "    rp = regionprops(l)\n",
    "    fig, ax = plt.subplots()\n",
    "    ax.imshow(l, cmap=plt.cm.gray)\n",
    "    minx, miny, (maxx, maxy) = 0, 0, l.shape\n",
    "    max_size = l.shape[0] * l.shape[1] // 500\n",
    "    for props in rp[:10]:\n",
    "        y0, x0 = props.centroid\n",
    "        minr, minc, maxr, maxc = props.bbox\n",
    "        bx = (minc, maxc, maxc, minc, minc)\n",
    "        by = (minr, minr, maxr, maxr, minr)\n",
    "        if props.bbox_area < max_size:\n",
    "            print(((minr / maxy) + (maxr / maxy)) / 2)\n",
    "            print(((minc / maxx) + (maxc / maxx)) / 2)\n",
    "            ax.plot(bx, by, '-b', linewidth=2.5)\n",
    "    print(minx, miny, maxx, maxy)\n",
    "    ax.axis()\n",
    "    plt.show()"
   ]
  },
  {
   "cell_type": "code",
   "execution_count": 10,
   "id": "opened-blanket",
   "metadata": {},
   "outputs": [],
   "source": [
    "def get_bb(filepath):\n",
    "    p = get_points(filepath)\n",
    "    l = label(p, background=1)\n",
    "    rp = regionprops(l)\n",
    "    fig, ax = plt.subplots()\n",
    "    ax.imshow(l, cmap=plt.cm.gray)\n",
    "    minx, miny, (maxx, maxy) = 0, 0, l.shape\n",
    "    max_size = l.shape[0] * l.shape[1] // 500\n",
    "    bbs = []\n",
    "    centers = []\n",
    "    for props in rp:\n",
    "        y0, x0 = props.centroid\n",
    "        minr, minc, maxr, maxc = props.bbox\n",
    "        bx = (minc, maxc, maxc, minc, minc)\n",
    "        by = (minr, minr, maxr, maxr, minr)\n",
    "        if props.bbox_area < max_size:\n",
    "            bbs.append((props.bbox[0] / maxx, props.bbox[1] / maxx, props.bbox[2] / maxx, props.bbox[3] / maxx))\n",
    "            centers.append(\n",
    "                (\n",
    "                    (((minr / maxy) + (maxr / maxy)) / 2), \n",
    "                    (((minc / maxx) + (maxc / maxx)) / 2)\n",
    "                ),\n",
    "            )\n",
    "            ax.plot(bx, by, '-b', linewidth=2.5)\n",
    "    ax.axis()\n",
    "    plt.show()\n",
    "    return bbs, centers"
   ]
  },
  {
   "cell_type": "code",
   "execution_count": 11,
   "id": "spread-capacity",
   "metadata": {},
   "outputs": [
    {
     "name": "stdout",
     "output_type": "stream",
     "text": [
      "0.0703125\n",
      "0.26171875\n",
      "0.0703125\n",
      "0.3095703125\n",
      "0.0703125\n",
      "0.404296875\n",
      "0.0703125\n",
      "0.5478515625\n",
      "0.07080078125\n",
      "0.166015625\n",
      "0.07080078125\n",
      "0.2138671875\n",
      "0.07080078125\n",
      "0.7861328125\n",
      "0.1181640625\n",
      "0.1181640625\n",
      "0.1181640625\n",
      "0.2138671875\n",
      "0 0 1024 1024\n"
     ]
    },
    {
     "data": {
      "image/png": "[encoded data removed]",
      "text/plain": [
       "<Figure size 432x288 with 1 Axes>"
      ]
     },
     "metadata": {
      "needs_background": "light"
     },
     "output_type": "display_data"
    }
   ],
   "source": [
    "process_and_plot(\"imgs/codes/snapcode.png\")"
   ]
  },
  {
   "cell_type": "code",
   "execution_count": 12,
   "id": "separate-addition",
   "metadata": {},
   "outputs": [
    {
     "ename": "FileNotFoundError",
     "evalue": "No such file: '/Users/pboonebenchsci.com/repos/boonepeter.github.io-code/snapcodes/src/imgs/all_dots.png'",
     "output_type": "error",
     "traceback": [
      "\u001b[0;31m---------------------------------------------------------------------------\u001b[0m",
      "\u001b[0;31mFileNotFoundError\u001b[0m                         Traceback (most recent call last)",
      "\u001b[0;32m<ipython-input-12-e873536e3b2d>\u001b[0m in \u001b[0;36m<module>\u001b[0;34m\u001b[0m\n\u001b[0;32m----> 1\u001b[0;31m \u001b[0mprocess_and_plot\u001b[0m\u001b[0;34m(\u001b[0m\u001b[0;34m\"imgs/all_dots.png\"\u001b[0m\u001b[0;34m)\u001b[0m\u001b[0;34m\u001b[0m\u001b[0;34m\u001b[0m\u001b[0m\n\u001b[0m",
      "\u001b[0;32m<ipython-input-9-e297923813db>\u001b[0m in \u001b[0;36mprocess_and_plot\u001b[0;34m(filepath)\u001b[0m\n\u001b[1;32m      1\u001b[0m \u001b[0;32mdef\u001b[0m \u001b[0mprocess_and_plot\u001b[0m\u001b[0;34m(\u001b[0m\u001b[0mfilepath\u001b[0m\u001b[0;34m)\u001b[0m\u001b[0;34m:\u001b[0m\u001b[0;34m\u001b[0m\u001b[0;34m\u001b[0m\u001b[0m\n\u001b[0;32m----> 2\u001b[0;31m     \u001b[0mp\u001b[0m \u001b[0;34m=\u001b[0m \u001b[0mget_points\u001b[0m\u001b[0;34m(\u001b[0m\u001b[0mfilepath\u001b[0m\u001b[0;34m)\u001b[0m\u001b[0;34m\u001b[0m\u001b[0;34m\u001b[0m\u001b[0m\n\u001b[0m\u001b[1;32m      3\u001b[0m     \u001b[0ml\u001b[0m \u001b[0;34m=\u001b[0m \u001b[0mlabel\u001b[0m\u001b[0;34m(\u001b[0m\u001b[0mp\u001b[0m\u001b[0;34m,\u001b[0m \u001b[0mbackground\u001b[0m\u001b[0;34m=\u001b[0m\u001b[0;36m1\u001b[0m\u001b[0;34m)\u001b[0m\u001b[0;34m\u001b[0m\u001b[0;34m\u001b[0m\u001b[0m\n\u001b[1;32m      4\u001b[0m     \u001b[0mrp\u001b[0m \u001b[0;34m=\u001b[0m \u001b[0mregionprops\u001b[0m\u001b[0;34m(\u001b[0m\u001b[0ml\u001b[0m\u001b[0;34m)\u001b[0m\u001b[0;34m\u001b[0m\u001b[0;34m\u001b[0m\u001b[0m\n\u001b[1;32m      5\u001b[0m     \u001b[0mfig\u001b[0m\u001b[0;34m,\u001b[0m \u001b[0max\u001b[0m \u001b[0;34m=\u001b[0m \u001b[0mplt\u001b[0m\u001b[0;34m.\u001b[0m\u001b[0msubplots\u001b[0m\u001b[0;34m(\u001b[0m\u001b[0;34m)\u001b[0m\u001b[0;34m\u001b[0m\u001b[0;34m\u001b[0m\u001b[0m\n",
      "\u001b[0;32m<ipython-input-3-e624232d1066>\u001b[0m in \u001b[0;36mget_points\u001b[0;34m(filepath)\u001b[0m\n\u001b[1;32m      1\u001b[0m \u001b[0;32mdef\u001b[0m \u001b[0mget_points\u001b[0m\u001b[0;34m(\u001b[0m\u001b[0mfilepath\u001b[0m\u001b[0;34m)\u001b[0m\u001b[0;34m:\u001b[0m\u001b[0;34m\u001b[0m\u001b[0;34m\u001b[0m\u001b[0m\n\u001b[0;32m----> 2\u001b[0;31m     \u001b[0mim\u001b[0m \u001b[0;34m=\u001b[0m \u001b[0mio\u001b[0m\u001b[0;34m.\u001b[0m\u001b[0mimread\u001b[0m\u001b[0;34m(\u001b[0m\u001b[0mfilepath\u001b[0m\u001b[0;34m)\u001b[0m\u001b[0;34m\u001b[0m\u001b[0;34m\u001b[0m\u001b[0m\n\u001b[0m\u001b[1;32m      3\u001b[0m     \u001b[0mim\u001b[0m \u001b[0;34m=\u001b[0m \u001b[0mrgb2gray\u001b[0m\u001b[0;34m(\u001b[0m\u001b[0mrgba2rgb\u001b[0m\u001b[0;34m(\u001b[0m\u001b[0mim\u001b[0m\u001b[0;34m)\u001b[0m\u001b[0;34m)\u001b[0m\u001b[0;34m\u001b[0m\u001b[0;34m\u001b[0m\u001b[0m\n\u001b[1;32m      4\u001b[0m     \u001b[0mt\u001b[0m \u001b[0;34m=\u001b[0m \u001b[0mthreshold_otsu\u001b[0m\u001b[0;34m(\u001b[0m\u001b[0mim\u001b[0m\u001b[0;34m)\u001b[0m\u001b[0;34m\u001b[0m\u001b[0;34m\u001b[0m\u001b[0m\n\u001b[1;32m      5\u001b[0m     \u001b[0;32mreturn\u001b[0m \u001b[0mim\u001b[0m \u001b[0;34m>\u001b[0m \u001b[0mt\u001b[0m\u001b[0;34m\u001b[0m\u001b[0;34m\u001b[0m\u001b[0m\n",
      "\u001b[0;32m/usr/local/lib/python3.9/site-packages/skimage/io/_io.py\u001b[0m in \u001b[0;36mimread\u001b[0;34m(fname, as_gray, plugin, **plugin_args)\u001b[0m\n\u001b[1;32m     46\u001b[0m \u001b[0;34m\u001b[0m\u001b[0m\n\u001b[1;32m     47\u001b[0m     \u001b[0;32mwith\u001b[0m \u001b[0mfile_or_url_context\u001b[0m\u001b[0;34m(\u001b[0m\u001b[0mfname\u001b[0m\u001b[0;34m)\u001b[0m \u001b[0;32mas\u001b[0m \u001b[0mfname\u001b[0m\u001b[0;34m:\u001b[0m\u001b[0;34m\u001b[0m\u001b[0;34m\u001b[0m\u001b[0m\n\u001b[0;32m---> 48\u001b[0;31m         \u001b[0mimg\u001b[0m \u001b[0;34m=\u001b[0m \u001b[0mcall_plugin\u001b[0m\u001b[0;34m(\u001b[0m\u001b[0;34m'imread'\u001b[0m\u001b[0;34m,\u001b[0m \u001b[0mfname\u001b[0m\u001b[0;34m,\u001b[0m \u001b[0mplugin\u001b[0m\u001b[0;34m=\u001b[0m\u001b[0mplugin\u001b[0m\u001b[0;34m,\u001b[0m \u001b[0;34m**\u001b[0m\u001b[0mplugin_args\u001b[0m\u001b[0;34m)\u001b[0m\u001b[0;34m\u001b[0m\u001b[0;34m\u001b[0m\u001b[0m\n\u001b[0m\u001b[1;32m     49\u001b[0m \u001b[0;34m\u001b[0m\u001b[0m\n\u001b[1;32m     50\u001b[0m     \u001b[0;32mif\u001b[0m \u001b[0;32mnot\u001b[0m \u001b[0mhasattr\u001b[0m\u001b[0;34m(\u001b[0m\u001b[0mimg\u001b[0m\u001b[0;34m,\u001b[0m \u001b[0;34m'ndim'\u001b[0m\u001b[0;34m)\u001b[0m\u001b[0;34m:\u001b[0m\u001b[0;34m\u001b[0m\u001b[0;34m\u001b[0m\u001b[0m\n",
      "\u001b[0;32m/usr/local/lib/python3.9/site-packages/skimage/io/manage_plugins.py\u001b[0m in \u001b[0;36mcall_plugin\u001b[0;34m(kind, *args, **kwargs)\u001b[0m\n\u001b[1;32m    205\u001b[0m                                (plugin, kind))\n\u001b[1;32m    206\u001b[0m \u001b[0;34m\u001b[0m\u001b[0m\n\u001b[0;32m--> 207\u001b[0;31m     \u001b[0;32mreturn\u001b[0m \u001b[0mfunc\u001b[0m\u001b[0;34m(\u001b[0m\u001b[0;34m*\u001b[0m\u001b[0margs\u001b[0m\u001b[0;34m,\u001b[0m \u001b[0;34m**\u001b[0m\u001b[0mkwargs\u001b[0m\u001b[0;34m)\u001b[0m\u001b[0;34m\u001b[0m\u001b[0;34m\u001b[0m\u001b[0m\n\u001b[0m\u001b[1;32m    208\u001b[0m \u001b[0;34m\u001b[0m\u001b[0m\n\u001b[1;32m    209\u001b[0m \u001b[0;34m\u001b[0m\u001b[0m\n",
      "\u001b[0;32m/usr/local/lib/python3.9/site-packages/skimage/io/_plugins/imageio_plugin.py\u001b[0m in \u001b[0;36mimread\u001b[0;34m(*args, **kwargs)\u001b[0m\n\u001b[1;32m      8\u001b[0m \u001b[0;34m@\u001b[0m\u001b[0mwraps\u001b[0m\u001b[0;34m(\u001b[0m\u001b[0mimageio_imread\u001b[0m\u001b[0;34m)\u001b[0m\u001b[0;34m\u001b[0m\u001b[0;34m\u001b[0m\u001b[0m\n\u001b[1;32m      9\u001b[0m \u001b[0;32mdef\u001b[0m \u001b[0mimread\u001b[0m\u001b[0;34m(\u001b[0m\u001b[0;34m*\u001b[0m\u001b[0margs\u001b[0m\u001b[0;34m,\u001b[0m \u001b[0;34m**\u001b[0m\u001b[0mkwargs\u001b[0m\u001b[0;34m)\u001b[0m\u001b[0;34m:\u001b[0m\u001b[0;34m\u001b[0m\u001b[0;34m\u001b[0m\u001b[0m\n\u001b[0;32m---> 10\u001b[0;31m     \u001b[0;32mreturn\u001b[0m \u001b[0mnp\u001b[0m\u001b[0;34m.\u001b[0m\u001b[0masarray\u001b[0m\u001b[0;34m(\u001b[0m\u001b[0mimageio_imread\u001b[0m\u001b[0;34m(\u001b[0m\u001b[0;34m*\u001b[0m\u001b[0margs\u001b[0m\u001b[0;34m,\u001b[0m \u001b[0;34m**\u001b[0m\u001b[0mkwargs\u001b[0m\u001b[0;34m)\u001b[0m\u001b[0;34m)\u001b[0m\u001b[0;34m\u001b[0m\u001b[0;34m\u001b[0m\u001b[0m\n\u001b[0m",
      "\u001b[0;32m/usr/local/lib/python3.9/site-packages/imageio/core/functions.py\u001b[0m in \u001b[0;36mimread\u001b[0;34m(uri, format, **kwargs)\u001b[0m\n\u001b[1;32m    263\u001b[0m \u001b[0;34m\u001b[0m\u001b[0m\n\u001b[1;32m    264\u001b[0m     \u001b[0;31m# Get reader and read first\u001b[0m\u001b[0;34m\u001b[0m\u001b[0;34m\u001b[0m\u001b[0m\n\u001b[0;32m--> 265\u001b[0;31m     \u001b[0mreader\u001b[0m \u001b[0;34m=\u001b[0m \u001b[0mread\u001b[0m\u001b[0;34m(\u001b[0m\u001b[0muri\u001b[0m\u001b[0;34m,\u001b[0m \u001b[0mformat\u001b[0m\u001b[0;34m,\u001b[0m \u001b[0;34m\"i\"\u001b[0m\u001b[0;34m,\u001b[0m \u001b[0;34m**\u001b[0m\u001b[0mkwargs\u001b[0m\u001b[0;34m)\u001b[0m\u001b[0;34m\u001b[0m\u001b[0;34m\u001b[0m\u001b[0m\n\u001b[0m\u001b[1;32m    266\u001b[0m     \u001b[0;32mwith\u001b[0m \u001b[0mreader\u001b[0m\u001b[0;34m:\u001b[0m\u001b[0;34m\u001b[0m\u001b[0;34m\u001b[0m\u001b[0m\n\u001b[1;32m    267\u001b[0m         \u001b[0;32mreturn\u001b[0m \u001b[0mreader\u001b[0m\u001b[0;34m.\u001b[0m\u001b[0mget_data\u001b[0m\u001b[0;34m(\u001b[0m\u001b[0;36m0\u001b[0m\u001b[0;34m)\u001b[0m\u001b[0;34m\u001b[0m\u001b[0;34m\u001b[0m\u001b[0m\n",
      "\u001b[0;32m/usr/local/lib/python3.9/site-packages/imageio/core/functions.py\u001b[0m in \u001b[0;36mget_reader\u001b[0;34m(uri, format, mode, **kwargs)\u001b[0m\n\u001b[1;32m    170\u001b[0m \u001b[0;34m\u001b[0m\u001b[0m\n\u001b[1;32m    171\u001b[0m     \u001b[0;31m# Create request object\u001b[0m\u001b[0;34m\u001b[0m\u001b[0;34m\u001b[0m\u001b[0m\n\u001b[0;32m--> 172\u001b[0;31m     \u001b[0mrequest\u001b[0m \u001b[0;34m=\u001b[0m \u001b[0mRequest\u001b[0m\u001b[0;34m(\u001b[0m\u001b[0muri\u001b[0m\u001b[0;34m,\u001b[0m \u001b[0;34m\"r\"\u001b[0m \u001b[0;34m+\u001b[0m \u001b[0mmode\u001b[0m\u001b[0;34m,\u001b[0m \u001b[0;34m**\u001b[0m\u001b[0mkwargs\u001b[0m\u001b[0;34m)\u001b[0m\u001b[0;34m\u001b[0m\u001b[0;34m\u001b[0m\u001b[0m\n\u001b[0m\u001b[1;32m    173\u001b[0m \u001b[0;34m\u001b[0m\u001b[0m\n\u001b[1;32m    174\u001b[0m     \u001b[0;31m# Get format\u001b[0m\u001b[0;34m\u001b[0m\u001b[0;34m\u001b[0m\u001b[0m\n",
      "\u001b[0;32m/usr/local/lib/python3.9/site-packages/imageio/core/request.py\u001b[0m in \u001b[0;36m__init__\u001b[0;34m(self, uri, mode, **kwargs)\u001b[0m\n\u001b[1;32m    122\u001b[0m \u001b[0;34m\u001b[0m\u001b[0m\n\u001b[1;32m    123\u001b[0m         \u001b[0;31m# Parse what was given\u001b[0m\u001b[0;34m\u001b[0m\u001b[0;34m\u001b[0m\u001b[0m\n\u001b[0;32m--> 124\u001b[0;31m         \u001b[0mself\u001b[0m\u001b[0;34m.\u001b[0m\u001b[0m_parse_uri\u001b[0m\u001b[0;34m(\u001b[0m\u001b[0muri\u001b[0m\u001b[0;34m)\u001b[0m\u001b[0;34m\u001b[0m\u001b[0;34m\u001b[0m\u001b[0m\n\u001b[0m\u001b[1;32m    125\u001b[0m \u001b[0;34m\u001b[0m\u001b[0m\n\u001b[1;32m    126\u001b[0m         \u001b[0;31m# Set extension\u001b[0m\u001b[0;34m\u001b[0m\u001b[0;34m\u001b[0m\u001b[0m\n",
      "\u001b[0;32m/usr/local/lib/python3.9/site-packages/imageio/core/request.py\u001b[0m in \u001b[0;36m_parse_uri\u001b[0;34m(self, uri)\u001b[0m\n\u001b[1;32m    258\u001b[0m                 \u001b[0;31m# Reading: check that the file exists (but is allowed a dir)\u001b[0m\u001b[0;34m\u001b[0m\u001b[0;34m\u001b[0m\u001b[0m\n\u001b[1;32m    259\u001b[0m                 \u001b[0;32mif\u001b[0m \u001b[0;32mnot\u001b[0m \u001b[0mos\u001b[0m\u001b[0;34m.\u001b[0m\u001b[0mpath\u001b[0m\u001b[0;34m.\u001b[0m\u001b[0mexists\u001b[0m\u001b[0;34m(\u001b[0m\u001b[0mfn\u001b[0m\u001b[0;34m)\u001b[0m\u001b[0;34m:\u001b[0m\u001b[0;34m\u001b[0m\u001b[0;34m\u001b[0m\u001b[0m\n\u001b[0;32m--> 260\u001b[0;31m                     \u001b[0;32mraise\u001b[0m \u001b[0mFileNotFoundError\u001b[0m\u001b[0;34m(\u001b[0m\u001b[0;34m\"No such file: '%s'\"\u001b[0m \u001b[0;34m%\u001b[0m \u001b[0mfn\u001b[0m\u001b[0;34m)\u001b[0m\u001b[0;34m\u001b[0m\u001b[0;34m\u001b[0m\u001b[0m\n\u001b[0m\u001b[1;32m    261\u001b[0m             \u001b[0;32melse\u001b[0m\u001b[0;34m:\u001b[0m\u001b[0;34m\u001b[0m\u001b[0;34m\u001b[0m\u001b[0m\n\u001b[1;32m    262\u001b[0m                 \u001b[0;31m# Writing: check that the directory to write to does exist\u001b[0m\u001b[0;34m\u001b[0m\u001b[0;34m\u001b[0m\u001b[0m\n",
      "\u001b[0;31mFileNotFoundError\u001b[0m: No such file: '/Users/pboonebenchsci.com/repos/boonepeter.github.io-code/snapcodes/src/imgs/all_dots.png'"
     ]
    }
   ],
   "source": [
    "process_and_plot(\"imgs/all_dots.png\")"
   ]
  },
  {
   "cell_type": "code",
   "execution_count": 13,
   "id": "entire-instrumentation",
   "metadata": {},
   "outputs": [
    {
     "name": "stdout",
     "output_type": "stream",
     "text": [
      "212\n"
     ]
    }
   ],
   "source": [
    "points = [\n",
    "    [0 for i in range(17)],\n",
    "    [0 for i in range(19)],\n",
    "    [0 for i in range(19)],\n",
    "    [0 for i in range(12)],\n",
    "    [0 for i in range(10)],\n",
    "    [0 for i in range(8)], \n",
    "    [0 for i in range(6)],\n",
    "    [0 for i in range(6)],\n",
    "    [0 for i in range(6)],\n",
    "    [0 for i in range(6)],\n",
    "    [0 for i in range(6)],\n",
    "    [0 for i in range(6)],\n",
    "    [0 for i in range(6)],\n",
    "    [0 for i in range(8)], \n",
    "    [0 for i in range(10)],\n",
    "    [0 for i in range(12)],\n",
    "    [0 for i in range(19)],\n",
    "    [0 for i in range(19)],\n",
    "    [0 for i in range(17)],    \n",
    "]\n",
    "total = 0\n",
    "for i in points:\n",
    "    for j in i:\n",
    "        total += 1\n",
    "print(total)"
   ]
  },
  {
   "cell_type": "code",
   "execution_count": 14,
   "id": "direct-debate",
   "metadata": {},
   "outputs": [
    {
     "ename": "FileNotFoundError",
     "evalue": "No such file: '/Users/pboonebenchsci.com/repos/boonepeter.github.io-code/snapcodes/src/imgs/all_dots.png'",
     "output_type": "error",
     "traceback": [
      "\u001b[0;31m---------------------------------------------------------------------------\u001b[0m",
      "\u001b[0;31mFileNotFoundError\u001b[0m                         Traceback (most recent call last)",
      "\u001b[0;32m<ipython-input-14-16a7b313b63d>\u001b[0m in \u001b[0;36m<module>\u001b[0;34m\u001b[0m\n\u001b[0;32m----> 1\u001b[0;31m \u001b[0mbbs\u001b[0m\u001b[0;34m,\u001b[0m \u001b[0mcenters\u001b[0m \u001b[0;34m=\u001b[0m \u001b[0mget_bb\u001b[0m\u001b[0;34m(\u001b[0m\u001b[0;34m\"imgs/all_dots.png\"\u001b[0m\u001b[0;34m)\u001b[0m\u001b[0;34m\u001b[0m\u001b[0;34m\u001b[0m\u001b[0m\n\u001b[0m",
      "\u001b[0;32m<ipython-input-10-263279f405e6>\u001b[0m in \u001b[0;36mget_bb\u001b[0;34m(filepath)\u001b[0m\n\u001b[1;32m      1\u001b[0m \u001b[0;32mdef\u001b[0m \u001b[0mget_bb\u001b[0m\u001b[0;34m(\u001b[0m\u001b[0mfilepath\u001b[0m\u001b[0;34m)\u001b[0m\u001b[0;34m:\u001b[0m\u001b[0;34m\u001b[0m\u001b[0;34m\u001b[0m\u001b[0m\n\u001b[0;32m----> 2\u001b[0;31m     \u001b[0mp\u001b[0m \u001b[0;34m=\u001b[0m \u001b[0mget_points\u001b[0m\u001b[0;34m(\u001b[0m\u001b[0mfilepath\u001b[0m\u001b[0;34m)\u001b[0m\u001b[0;34m\u001b[0m\u001b[0;34m\u001b[0m\u001b[0m\n\u001b[0m\u001b[1;32m      3\u001b[0m     \u001b[0ml\u001b[0m \u001b[0;34m=\u001b[0m \u001b[0mlabel\u001b[0m\u001b[0;34m(\u001b[0m\u001b[0mp\u001b[0m\u001b[0;34m,\u001b[0m \u001b[0mbackground\u001b[0m\u001b[0;34m=\u001b[0m\u001b[0;36m1\u001b[0m\u001b[0;34m)\u001b[0m\u001b[0;34m\u001b[0m\u001b[0;34m\u001b[0m\u001b[0m\n\u001b[1;32m      4\u001b[0m     \u001b[0mrp\u001b[0m \u001b[0;34m=\u001b[0m \u001b[0mregionprops\u001b[0m\u001b[0;34m(\u001b[0m\u001b[0ml\u001b[0m\u001b[0;34m)\u001b[0m\u001b[0;34m\u001b[0m\u001b[0;34m\u001b[0m\u001b[0m\n\u001b[1;32m      5\u001b[0m     \u001b[0mfig\u001b[0m\u001b[0;34m,\u001b[0m \u001b[0max\u001b[0m \u001b[0;34m=\u001b[0m \u001b[0mplt\u001b[0m\u001b[0;34m.\u001b[0m\u001b[0msubplots\u001b[0m\u001b[0;34m(\u001b[0m\u001b[0;34m)\u001b[0m\u001b[0;34m\u001b[0m\u001b[0;34m\u001b[0m\u001b[0m\n",
      "\u001b[0;32m<ipython-input-3-e624232d1066>\u001b[0m in \u001b[0;36mget_points\u001b[0;34m(filepath)\u001b[0m\n\u001b[1;32m      1\u001b[0m \u001b[0;32mdef\u001b[0m \u001b[0mget_points\u001b[0m\u001b[0;34m(\u001b[0m\u001b[0mfilepath\u001b[0m\u001b[0;34m)\u001b[0m\u001b[0;34m:\u001b[0m\u001b[0;34m\u001b[0m\u001b[0;34m\u001b[0m\u001b[0m\n\u001b[0;32m----> 2\u001b[0;31m     \u001b[0mim\u001b[0m \u001b[0;34m=\u001b[0m \u001b[0mio\u001b[0m\u001b[0;34m.\u001b[0m\u001b[0mimread\u001b[0m\u001b[0;34m(\u001b[0m\u001b[0mfilepath\u001b[0m\u001b[0;34m)\u001b[0m\u001b[0;34m\u001b[0m\u001b[0;34m\u001b[0m\u001b[0m\n\u001b[0m\u001b[1;32m      3\u001b[0m     \u001b[0mim\u001b[0m \u001b[0;34m=\u001b[0m \u001b[0mrgb2gray\u001b[0m\u001b[0;34m(\u001b[0m\u001b[0mrgba2rgb\u001b[0m\u001b[0;34m(\u001b[0m\u001b[0mim\u001b[0m\u001b[0;34m)\u001b[0m\u001b[0;34m)\u001b[0m\u001b[0;34m\u001b[0m\u001b[0;34m\u001b[0m\u001b[0m\n\u001b[1;32m      4\u001b[0m     \u001b[0mt\u001b[0m \u001b[0;34m=\u001b[0m \u001b[0mthreshold_otsu\u001b[0m\u001b[0;34m(\u001b[0m\u001b[0mim\u001b[0m\u001b[0;34m)\u001b[0m\u001b[0;34m\u001b[0m\u001b[0;34m\u001b[0m\u001b[0m\n\u001b[1;32m      5\u001b[0m     \u001b[0;32mreturn\u001b[0m \u001b[0mim\u001b[0m \u001b[0;34m>\u001b[0m \u001b[0mt\u001b[0m\u001b[0;34m\u001b[0m\u001b[0;34m\u001b[0m\u001b[0m\n",
      "\u001b[0;32m/usr/local/lib/python3.9/site-packages/skimage/io/_io.py\u001b[0m in \u001b[0;36mimread\u001b[0;34m(fname, as_gray, plugin, **plugin_args)\u001b[0m\n\u001b[1;32m     46\u001b[0m \u001b[0;34m\u001b[0m\u001b[0m\n\u001b[1;32m     47\u001b[0m     \u001b[0;32mwith\u001b[0m \u001b[0mfile_or_url_context\u001b[0m\u001b[0;34m(\u001b[0m\u001b[0mfname\u001b[0m\u001b[0;34m)\u001b[0m \u001b[0;32mas\u001b[0m \u001b[0mfname\u001b[0m\u001b[0;34m:\u001b[0m\u001b[0;34m\u001b[0m\u001b[0;34m\u001b[0m\u001b[0m\n\u001b[0;32m---> 48\u001b[0;31m         \u001b[0mimg\u001b[0m \u001b[0;34m=\u001b[0m \u001b[0mcall_plugin\u001b[0m\u001b[0;34m(\u001b[0m\u001b[0;34m'imread'\u001b[0m\u001b[0;34m,\u001b[0m \u001b[0mfname\u001b[0m\u001b[0;34m,\u001b[0m \u001b[0mplugin\u001b[0m\u001b[0;34m=\u001b[0m\u001b[0mplugin\u001b[0m\u001b[0;34m,\u001b[0m \u001b[0;34m**\u001b[0m\u001b[0mplugin_args\u001b[0m\u001b[0;34m)\u001b[0m\u001b[0;34m\u001b[0m\u001b[0;34m\u001b[0m\u001b[0m\n\u001b[0m\u001b[1;32m     49\u001b[0m \u001b[0;34m\u001b[0m\u001b[0m\n\u001b[1;32m     50\u001b[0m     \u001b[0;32mif\u001b[0m \u001b[0;32mnot\u001b[0m \u001b[0mhasattr\u001b[0m\u001b[0;34m(\u001b[0m\u001b[0mimg\u001b[0m\u001b[0;34m,\u001b[0m \u001b[0;34m'ndim'\u001b[0m\u001b[0;34m)\u001b[0m\u001b[0;34m:\u001b[0m\u001b[0;34m\u001b[0m\u001b[0;34m\u001b[0m\u001b[0m\n",
      "\u001b[0;32m/usr/local/lib/python3.9/site-packages/skimage/io/manage_plugins.py\u001b[0m in \u001b[0;36mcall_plugin\u001b[0;34m(kind, *args, **kwargs)\u001b[0m\n\u001b[1;32m    205\u001b[0m                                (plugin, kind))\n\u001b[1;32m    206\u001b[0m \u001b[0;34m\u001b[0m\u001b[0m\n\u001b[0;32m--> 207\u001b[0;31m     \u001b[0;32mreturn\u001b[0m \u001b[0mfunc\u001b[0m\u001b[0;34m(\u001b[0m\u001b[0;34m*\u001b[0m\u001b[0margs\u001b[0m\u001b[0;34m,\u001b[0m \u001b[0;34m**\u001b[0m\u001b[0mkwargs\u001b[0m\u001b[0;34m)\u001b[0m\u001b[0;34m\u001b[0m\u001b[0;34m\u001b[0m\u001b[0m\n\u001b[0m\u001b[1;32m    208\u001b[0m \u001b[0;34m\u001b[0m\u001b[0m\n\u001b[1;32m    209\u001b[0m \u001b[0;34m\u001b[0m\u001b[0m\n",
      "\u001b[0;32m/usr/local/lib/python3.9/site-packages/skimage/io/_plugins/imageio_plugin.py\u001b[0m in \u001b[0;36mimread\u001b[0;34m(*args, **kwargs)\u001b[0m\n\u001b[1;32m      8\u001b[0m \u001b[0;34m@\u001b[0m\u001b[0mwraps\u001b[0m\u001b[0;34m(\u001b[0m\u001b[0mimageio_imread\u001b[0m\u001b[0;34m)\u001b[0m\u001b[0;34m\u001b[0m\u001b[0;34m\u001b[0m\u001b[0m\n\u001b[1;32m      9\u001b[0m \u001b[0;32mdef\u001b[0m \u001b[0mimread\u001b[0m\u001b[0;34m(\u001b[0m\u001b[0;34m*\u001b[0m\u001b[0margs\u001b[0m\u001b[0;34m,\u001b[0m \u001b[0;34m**\u001b[0m\u001b[0mkwargs\u001b[0m\u001b[0;34m)\u001b[0m\u001b[0;34m:\u001b[0m\u001b[0;34m\u001b[0m\u001b[0;34m\u001b[0m\u001b[0m\n\u001b[0;32m---> 10\u001b[0;31m     \u001b[0;32mreturn\u001b[0m \u001b[0mnp\u001b[0m\u001b[0;34m.\u001b[0m\u001b[0masarray\u001b[0m\u001b[0;34m(\u001b[0m\u001b[0mimageio_imread\u001b[0m\u001b[0;34m(\u001b[0m\u001b[0;34m*\u001b[0m\u001b[0margs\u001b[0m\u001b[0;34m,\u001b[0m \u001b[0;34m**\u001b[0m\u001b[0mkwargs\u001b[0m\u001b[0;34m)\u001b[0m\u001b[0;34m)\u001b[0m\u001b[0;34m\u001b[0m\u001b[0;34m\u001b[0m\u001b[0m\n\u001b[0m",
      "\u001b[0;32m/usr/local/lib/python3.9/site-packages/imageio/core/functions.py\u001b[0m in \u001b[0;36mimread\u001b[0;34m(uri, format, **kwargs)\u001b[0m\n\u001b[1;32m    263\u001b[0m \u001b[0;34m\u001b[0m\u001b[0m\n\u001b[1;32m    264\u001b[0m     \u001b[0;31m# Get reader and read first\u001b[0m\u001b[0;34m\u001b[0m\u001b[0;34m\u001b[0m\u001b[0m\n\u001b[0;32m--> 265\u001b[0;31m     \u001b[0mreader\u001b[0m \u001b[0;34m=\u001b[0m \u001b[0mread\u001b[0m\u001b[0;34m(\u001b[0m\u001b[0muri\u001b[0m\u001b[0;34m,\u001b[0m \u001b[0mformat\u001b[0m\u001b[0;34m,\u001b[0m \u001b[0;34m\"i\"\u001b[0m\u001b[0;34m,\u001b[0m \u001b[0;34m**\u001b[0m\u001b[0mkwargs\u001b[0m\u001b[0;34m)\u001b[0m\u001b[0;34m\u001b[0m\u001b[0;34m\u001b[0m\u001b[0m\n\u001b[0m\u001b[1;32m    266\u001b[0m     \u001b[0;32mwith\u001b[0m \u001b[0mreader\u001b[0m\u001b[0;34m:\u001b[0m\u001b[0;34m\u001b[0m\u001b[0;34m\u001b[0m\u001b[0m\n\u001b[1;32m    267\u001b[0m         \u001b[0;32mreturn\u001b[0m \u001b[0mreader\u001b[0m\u001b[0;34m.\u001b[0m\u001b[0mget_data\u001b[0m\u001b[0;34m(\u001b[0m\u001b[0;36m0\u001b[0m\u001b[0;34m)\u001b[0m\u001b[0;34m\u001b[0m\u001b[0;34m\u001b[0m\u001b[0m\n",
      "\u001b[0;32m/usr/local/lib/python3.9/site-packages/imageio/core/functions.py\u001b[0m in \u001b[0;36mget_reader\u001b[0;34m(uri, format, mode, **kwargs)\u001b[0m\n\u001b[1;32m    170\u001b[0m \u001b[0;34m\u001b[0m\u001b[0m\n\u001b[1;32m    171\u001b[0m     \u001b[0;31m# Create request object\u001b[0m\u001b[0;34m\u001b[0m\u001b[0;34m\u001b[0m\u001b[0m\n\u001b[0;32m--> 172\u001b[0;31m     \u001b[0mrequest\u001b[0m \u001b[0;34m=\u001b[0m \u001b[0mRequest\u001b[0m\u001b[0;34m(\u001b[0m\u001b[0muri\u001b[0m\u001b[0;34m,\u001b[0m \u001b[0;34m\"r\"\u001b[0m \u001b[0;34m+\u001b[0m \u001b[0mmode\u001b[0m\u001b[0;34m,\u001b[0m \u001b[0;34m**\u001b[0m\u001b[0mkwargs\u001b[0m\u001b[0;34m)\u001b[0m\u001b[0;34m\u001b[0m\u001b[0;34m\u001b[0m\u001b[0m\n\u001b[0m\u001b[1;32m    173\u001b[0m \u001b[0;34m\u001b[0m\u001b[0m\n\u001b[1;32m    174\u001b[0m     \u001b[0;31m# Get format\u001b[0m\u001b[0;34m\u001b[0m\u001b[0;34m\u001b[0m\u001b[0m\n",
      "\u001b[0;32m/usr/local/lib/python3.9/site-packages/imageio/core/request.py\u001b[0m in \u001b[0;36m__init__\u001b[0;34m(self, uri, mode, **kwargs)\u001b[0m\n\u001b[1;32m    122\u001b[0m \u001b[0;34m\u001b[0m\u001b[0m\n\u001b[1;32m    123\u001b[0m         \u001b[0;31m# Parse what was given\u001b[0m\u001b[0;34m\u001b[0m\u001b[0;34m\u001b[0m\u001b[0m\n\u001b[0;32m--> 124\u001b[0;31m         \u001b[0mself\u001b[0m\u001b[0;34m.\u001b[0m\u001b[0m_parse_uri\u001b[0m\u001b[0;34m(\u001b[0m\u001b[0muri\u001b[0m\u001b[0;34m)\u001b[0m\u001b[0;34m\u001b[0m\u001b[0;34m\u001b[0m\u001b[0m\n\u001b[0m\u001b[1;32m    125\u001b[0m \u001b[0;34m\u001b[0m\u001b[0m\n\u001b[1;32m    126\u001b[0m         \u001b[0;31m# Set extension\u001b[0m\u001b[0;34m\u001b[0m\u001b[0;34m\u001b[0m\u001b[0m\n",
      "\u001b[0;32m/usr/local/lib/python3.9/site-packages/imageio/core/request.py\u001b[0m in \u001b[0;36m_parse_uri\u001b[0;34m(self, uri)\u001b[0m\n\u001b[1;32m    258\u001b[0m                 \u001b[0;31m# Reading: check that the file exists (but is allowed a dir)\u001b[0m\u001b[0;34m\u001b[0m\u001b[0;34m\u001b[0m\u001b[0m\n\u001b[1;32m    259\u001b[0m                 \u001b[0;32mif\u001b[0m \u001b[0;32mnot\u001b[0m \u001b[0mos\u001b[0m\u001b[0;34m.\u001b[0m\u001b[0mpath\u001b[0m\u001b[0;34m.\u001b[0m\u001b[0mexists\u001b[0m\u001b[0;34m(\u001b[0m\u001b[0mfn\u001b[0m\u001b[0;34m)\u001b[0m\u001b[0;34m:\u001b[0m\u001b[0;34m\u001b[0m\u001b[0;34m\u001b[0m\u001b[0m\n\u001b[0;32m--> 260\u001b[0;31m                     \u001b[0;32mraise\u001b[0m \u001b[0mFileNotFoundError\u001b[0m\u001b[0;34m(\u001b[0m\u001b[0;34m\"No such file: '%s'\"\u001b[0m \u001b[0;34m%\u001b[0m \u001b[0mfn\u001b[0m\u001b[0;34m)\u001b[0m\u001b[0;34m\u001b[0m\u001b[0;34m\u001b[0m\u001b[0m\n\u001b[0m\u001b[1;32m    261\u001b[0m             \u001b[0;32melse\u001b[0m\u001b[0;34m:\u001b[0m\u001b[0;34m\u001b[0m\u001b[0;34m\u001b[0m\u001b[0m\n\u001b[1;32m    262\u001b[0m                 \u001b[0;31m# Writing: check that the directory to write to does exist\u001b[0m\u001b[0;34m\u001b[0m\u001b[0;34m\u001b[0m\u001b[0m\n",
      "\u001b[0;31mFileNotFoundError\u001b[0m: No such file: '/Users/pboonebenchsci.com/repos/boonepeter.github.io-code/snapcodes/src/imgs/all_dots.png'"
     ]
    }
   ],
   "source": [
    "bbs, centers = get_bb(\"imgs/all_dots.png\")"
   ]
  },
  {
   "cell_type": "code",
   "execution_count": 15,
   "id": "engaging-theology",
   "metadata": {},
   "outputs": [],
   "source": [
    "total = []\n",
    "for i in points:\n",
    "    total.extend(i)"
   ]
  },
  {
   "cell_type": "code",
   "execution_count": 16,
   "id": "enabling-reporter",
   "metadata": {},
   "outputs": [
    {
     "data": {
      "image/png": "[encoded data removed]",
      "text/plain": [
       "<Figure size 432x288 with 1 Axes>"
      ]
     },
     "metadata": {
      "needs_background": "light"
     },
     "output_type": "display_data"
    }
   ],
   "source": [
    "small_bbs, small_centers = get_bb(\"imgs/codes/snapcode.png\")"
   ]
  },
  {
   "cell_type": "code",
   "execution_count": 17,
   "id": "structured-sleeping",
   "metadata": {},
   "outputs": [
    {
     "ename": "NameError",
     "evalue": "name 'bbs' is not defined",
     "output_type": "error",
     "traceback": [
      "\u001b[0;31m---------------------------------------------------------------------------\u001b[0m",
      "\u001b[0;31mNameError\u001b[0m                                 Traceback (most recent call last)",
      "\u001b[0;32m<ipython-input-17-a332e8e82a82>\u001b[0m in \u001b[0;36m<module>\u001b[0;34m\u001b[0m\n\u001b[0;32m----> 1\u001b[0;31m \u001b[0mprint\u001b[0m\u001b[0;34m(\u001b[0m\u001b[0mbbs\u001b[0m\u001b[0;34m[\u001b[0m\u001b[0;34m:\u001b[0m\u001b[0;36m10\u001b[0m\u001b[0;34m]\u001b[0m\u001b[0;34m)\u001b[0m\u001b[0;34m\u001b[0m\u001b[0;34m\u001b[0m\u001b[0m\n\u001b[0m",
      "\u001b[0;31mNameError\u001b[0m: name 'bbs' is not defined"
     ]
    }
   ],
   "source": [
    "print(bbs[:10])"
   ]
  },
  {
   "cell_type": "code",
   "execution_count": 18,
   "id": "welsh-fortune",
   "metadata": {},
   "outputs": [],
   "source": [
    "def get_numbers(centers, bbs):\n",
    "    points = []\n",
    "    for i, b in enumerate(bbs):\n",
    "        for x, y in centers:\n",
    "            if x > b[0] and x < b[2] and y > b[1] and y < b[3]:\n",
    "                points.append(i)\n",
    "    return points"
   ]
  },
  {
   "cell_type": "code",
   "execution_count": 19,
   "id": "earlier-electricity",
   "metadata": {},
   "outputs": [],
   "source": [
    "files = [\n",
    "    os.path.join(\"imgs/codes\", f) \n",
    "    for f in os.listdir(\"imgs/codes\") \n",
    "    if f.endswith(\"png\")\n",
    "]"
   ]
  },
  {
   "cell_type": "code",
   "execution_count": 20,
   "id": "known-devil",
   "metadata": {},
   "outputs": [
    {
     "data": {
      "image/png": "[encoded data removed]",
      "text/plain": [
       "<Figure size 432x288 with 1 Axes>"
      ]
     },
     "metadata": {
      "needs_background": "light"
     },
     "output_type": "display_data"
    },
    {
     "ename": "NameError",
     "evalue": "name 'bbs' is not defined",
     "output_type": "error",
     "traceback": [
      "\u001b[0;31m---------------------------------------------------------------------------\u001b[0m",
      "\u001b[0;31mNameError\u001b[0m                                 Traceback (most recent call last)",
      "\u001b[0;32m<ipython-input-20-2298de8e86ae>\u001b[0m in \u001b[0;36m<module>\u001b[0;34m\u001b[0m\n\u001b[1;32m      2\u001b[0m \u001b[0;32mfor\u001b[0m \u001b[0mf\u001b[0m \u001b[0;32min\u001b[0m \u001b[0mfiles\u001b[0m\u001b[0;34m:\u001b[0m\u001b[0;34m\u001b[0m\u001b[0;34m\u001b[0m\u001b[0m\n\u001b[1;32m      3\u001b[0m     \u001b[0m_\u001b[0m\u001b[0;34m,\u001b[0m \u001b[0mcenters\u001b[0m \u001b[0;34m=\u001b[0m \u001b[0mget_bb\u001b[0m\u001b[0;34m(\u001b[0m\u001b[0mf\u001b[0m\u001b[0;34m)\u001b[0m\u001b[0;34m\u001b[0m\u001b[0;34m\u001b[0m\u001b[0m\n\u001b[0;32m----> 4\u001b[0;31m     \u001b[0mnums\u001b[0m \u001b[0;34m=\u001b[0m \u001b[0mget_numbers\u001b[0m\u001b[0;34m(\u001b[0m\u001b[0mcenters\u001b[0m\u001b[0;34m,\u001b[0m \u001b[0mbbs\u001b[0m\u001b[0;34m)\u001b[0m\u001b[0;34m\u001b[0m\u001b[0;34m\u001b[0m\u001b[0m\n\u001b[0m\u001b[1;32m      5\u001b[0m     \u001b[0;32mfor\u001b[0m \u001b[0mn\u001b[0m \u001b[0;32min\u001b[0m \u001b[0mnums\u001b[0m\u001b[0;34m:\u001b[0m\u001b[0;34m\u001b[0m\u001b[0;34m\u001b[0m\u001b[0m\n\u001b[1;32m      6\u001b[0m         \u001b[0mcounts\u001b[0m\u001b[0;34m[\u001b[0m\u001b[0mn\u001b[0m\u001b[0;34m]\u001b[0m \u001b[0;34m+=\u001b[0m \u001b[0;36m1\u001b[0m\u001b[0;34m\u001b[0m\u001b[0;34m\u001b[0m\u001b[0m\n",
      "\u001b[0;31mNameError\u001b[0m: name 'bbs' is not defined"
     ]
    }
   ],
   "source": [
    "counts = {i:0 for i in range(212)}\n",
    "for f in files:\n",
    "    _, centers = get_bb(f)\n",
    "    nums = get_numbers(centers, bbs)\n",
    "    for n in nums:\n",
    "        counts[n] += 1\n",
    "print(counts)"
   ]
  },
  {
   "cell_type": "code",
   "execution_count": null,
   "id": "supposed-brass",
   "metadata": {},
   "outputs": [],
   "source": [
    "image = io.imread(\"./imgs/codes/snapcode.png\")\n",
    "print(image[700][30:-50])\n"
   ]
  },
  {
   "cell_type": "code",
   "execution_count": 21,
   "id": "athletic-gravity",
   "metadata": {},
   "outputs": [
    {
     "ename": "NameError",
     "evalue": "name 'image' is not defined",
     "output_type": "error",
     "traceback": [
      "\u001b[0;31m---------------------------------------------------------------------------\u001b[0m",
      "\u001b[0;31mNameError\u001b[0m                                 Traceback (most recent call last)",
      "\u001b[0;32m<ipython-input-21-8be7919431da>\u001b[0m in \u001b[0;36m<module>\u001b[0;34m\u001b[0m\n\u001b[0;32m----> 1\u001b[0;31m \u001b[0mbinary\u001b[0m \u001b[0;34m=\u001b[0m \u001b[0mimage\u001b[0m\u001b[0;34m[\u001b[0m\u001b[0;34m:\u001b[0m\u001b[0;34m,\u001b[0m\u001b[0;34m:\u001b[0m\u001b[0;34m,\u001b[0m\u001b[0;36m0\u001b[0m\u001b[0;34m]\u001b[0m \u001b[0;34m>\u001b[0m \u001b[0;36m250\u001b[0m\u001b[0;34m\u001b[0m\u001b[0;34m\u001b[0m\u001b[0m\n\u001b[0m\u001b[1;32m      2\u001b[0m \u001b[0mbinary\u001b[0m \u001b[0;34m&=\u001b[0m \u001b[0mimage\u001b[0m\u001b[0;34m[\u001b[0m\u001b[0;34m:\u001b[0m\u001b[0;34m,\u001b[0m\u001b[0;34m:\u001b[0m\u001b[0;34m,\u001b[0m\u001b[0;36m1\u001b[0m\u001b[0;34m]\u001b[0m \u001b[0;34m>\u001b[0m \u001b[0;36m250\u001b[0m\u001b[0;34m\u001b[0m\u001b[0;34m\u001b[0m\u001b[0m\n\u001b[1;32m      3\u001b[0m \u001b[0mbinary\u001b[0m \u001b[0;34m&=\u001b[0m \u001b[0mimage\u001b[0m\u001b[0;34m[\u001b[0m\u001b[0;34m:\u001b[0m\u001b[0;34m,\u001b[0m\u001b[0;34m:\u001b[0m\u001b[0;34m,\u001b[0m\u001b[0;36m2\u001b[0m\u001b[0;34m]\u001b[0m \u001b[0;34m<\u001b[0m \u001b[0;36m5\u001b[0m\u001b[0;34m\u001b[0m\u001b[0;34m\u001b[0m\u001b[0m\n\u001b[1;32m      4\u001b[0m \u001b[0;34m\u001b[0m\u001b[0m\n\u001b[1;32m      5\u001b[0m \u001b[0;34m\u001b[0m\u001b[0m\n",
      "\u001b[0;31mNameError\u001b[0m: name 'image' is not defined"
     ]
    }
   ],
   "source": [
    "binary = image[:,:,0] > 250\n",
    "binary &= image[:,:,1] > 250\n",
    "binary &= image[:,:,2] < 5\n",
    "\n",
    "\n",
    "l = label(binary, background=0)\n",
    "rp = regionprops(l)\n",
    "bbox = rp[0].bbox\n",
    "print(rp)\n",
    "print(bbox)\n",
    "binary = binary[bbox[0]:bbox[2], bbox[1]:bbox[3]]\n"
   ]
  },
  {
   "cell_type": "code",
   "execution_count": 22,
   "id": "prime-curtis",
   "metadata": {},
   "outputs": [],
   "source": [
    "def threshold_and_crop(filepath, color=[250, 250, 5]):\n",
    "    im = io.imread(filepath)\n",
    "    binary = im[:,:,0] > color[0]\n",
    "    binary &= im[:,:,1] > color[1]\n",
    "    binary &= im[:,:,2] < color[2]\n",
    "    #io.imshow(img_as_ubyte(binary))\n",
    "    labeled = label(binary, background=0)\n",
    "    rp = regionprops(labeled)\n",
    "    max_size = 0\n",
    "    bbox = None\n",
    "    for r in rp:\n",
    "        if r.bbox_area > max_size:\n",
    "            bbox = r.bbox\n",
    "            max_size = r.bbox_area\n",
    "    return im[bbox[0]:bbox[2], bbox[1]:bbox[3], :]\n",
    "\n"
   ]
  },
  {
   "cell_type": "code",
   "execution_count": 23,
   "id": "binding-savannah",
   "metadata": {},
   "outputs": [
    {
     "data": {
      "text/plain": [
       "array([[[0, 0, 0, 0],\n",
       "        [0, 0, 0, 0],\n",
       "        [0, 0, 0, 0],\n",
       "        ...,\n",
       "        [0, 0, 0, 0],\n",
       "        [0, 0, 0, 0],\n",
       "        [0, 0, 0, 0]],\n",
       "\n",
       "       [[0, 0, 0, 0],\n",
       "        [0, 0, 0, 0],\n",
       "        [0, 0, 0, 0],\n",
       "        ...,\n",
       "        [0, 0, 0, 0],\n",
       "        [0, 0, 0, 0],\n",
       "        [0, 0, 0, 0]],\n",
       "\n",
       "       [[0, 0, 0, 0],\n",
       "        [0, 0, 0, 0],\n",
       "        [0, 0, 0, 0],\n",
       "        ...,\n",
       "        [0, 0, 0, 0],\n",
       "        [0, 0, 0, 0],\n",
       "        [0, 0, 0, 0]],\n",
       "\n",
       "       ...,\n",
       "\n",
       "       [[0, 0, 0, 0],\n",
       "        [0, 0, 0, 0],\n",
       "        [0, 0, 0, 0],\n",
       "        ...,\n",
       "        [0, 0, 0, 0],\n",
       "        [0, 0, 0, 0],\n",
       "        [0, 0, 0, 0]],\n",
       "\n",
       "       [[0, 0, 0, 0],\n",
       "        [0, 0, 0, 0],\n",
       "        [0, 0, 0, 0],\n",
       "        ...,\n",
       "        [0, 0, 0, 0],\n",
       "        [0, 0, 0, 0],\n",
       "        [0, 0, 0, 0]],\n",
       "\n",
       "       [[0, 0, 0, 0],\n",
       "        [0, 0, 0, 0],\n",
       "        [0, 0, 0, 0],\n",
       "        ...,\n",
       "        [0, 0, 0, 0],\n",
       "        [0, 0, 0, 0],\n",
       "        [0, 0, 0, 0]]], dtype=uint8)"
      ]
     },
     "execution_count": 23,
     "metadata": {},
     "output_type": "execute_result"
    }
   ],
   "source": [
    "threshold_and_crop(\"./imgs/codes/snapcode.png\")"
   ]
  },
  {
   "cell_type": "code",
   "execution_count": 24,
   "id": "bottom-savings",
   "metadata": {},
   "outputs": [
    {
     "data": {
      "text/plain": [
       "array([[[0, 0, 0, 0],\n",
       "        [0, 0, 0, 0],\n",
       "        [0, 0, 0, 0],\n",
       "        ...,\n",
       "        [0, 0, 0, 0],\n",
       "        [0, 0, 0, 0],\n",
       "        [0, 0, 0, 0]],\n",
       "\n",
       "       [[0, 0, 0, 0],\n",
       "        [0, 0, 0, 0],\n",
       "        [0, 0, 0, 0],\n",
       "        ...,\n",
       "        [0, 0, 0, 0],\n",
       "        [0, 0, 0, 0],\n",
       "        [0, 0, 0, 0]],\n",
       "\n",
       "       [[0, 0, 0, 0],\n",
       "        [0, 0, 0, 0],\n",
       "        [0, 0, 0, 0],\n",
       "        ...,\n",
       "        [0, 0, 0, 0],\n",
       "        [0, 0, 0, 0],\n",
       "        [0, 0, 0, 0]],\n",
       "\n",
       "       ...,\n",
       "\n",
       "       [[0, 0, 0, 0],\n",
       "        [0, 0, 0, 0],\n",
       "        [0, 0, 0, 0],\n",
       "        ...,\n",
       "        [0, 0, 0, 0],\n",
       "        [0, 0, 0, 0],\n",
       "        [0, 0, 0, 0]],\n",
       "\n",
       "       [[0, 0, 0, 0],\n",
       "        [0, 0, 0, 0],\n",
       "        [0, 0, 0, 0],\n",
       "        ...,\n",
       "        [0, 0, 0, 0],\n",
       "        [0, 0, 0, 0],\n",
       "        [0, 0, 0, 0]],\n",
       "\n",
       "       [[0, 0, 0, 0],\n",
       "        [0, 0, 0, 0],\n",
       "        [0, 0, 0, 0],\n",
       "        ...,\n",
       "        [0, 0, 0, 0],\n",
       "        [0, 0, 0, 0],\n",
       "        [0, 0, 0, 0]]], dtype=uint8)"
      ]
     },
     "execution_count": 24,
     "metadata": {},
     "output_type": "execute_result"
    }
   ],
   "source": [
    "threshold_and_crop(\"imgs/new/29939adc9b4ffa549817d3c2eb3fc04b (1).png\")"
   ]
  },
  {
   "cell_type": "code",
   "execution_count": 25,
   "id": "unlimited-marking",
   "metadata": {},
   "outputs": [],
   "source": [
    "files = os.listdir(\"imgs/people\")\n",
    "files = [os.path.join(\"imgs/people\", f) for f in files if f.endswith(\".jpeg\")]"
   ]
  },
  {
   "cell_type": "code",
   "execution_count": 26,
   "id": "white-horizon",
   "metadata": {},
   "outputs": [
    {
     "name": "stdout",
     "output_type": "stream",
     "text": [
      "imgs/people/FECYsfjXwAIEYmJ.jpeg\n"
     ]
    },
    {
     "ename": "TypeError",
     "evalue": "'NoneType' object is not subscriptable",
     "output_type": "error",
     "traceback": [
      "\u001b[0;31m---------------------------------------------------------------------------\u001b[0m",
      "\u001b[0;31mTypeError\u001b[0m                                 Traceback (most recent call last)",
      "\u001b[0;32m<ipython-input-26-55c34a90b08c>\u001b[0m in \u001b[0;36m<module>\u001b[0;34m\u001b[0m\n\u001b[1;32m      1\u001b[0m \u001b[0mprint\u001b[0m\u001b[0;34m(\u001b[0m\u001b[0mfiles\u001b[0m\u001b[0;34m[\u001b[0m\u001b[0;36m9\u001b[0m\u001b[0;34m]\u001b[0m\u001b[0;34m)\u001b[0m\u001b[0;34m\u001b[0m\u001b[0;34m\u001b[0m\u001b[0m\n\u001b[0;32m----> 2\u001b[0;31m \u001b[0mthreshold_and_crop\u001b[0m\u001b[0;34m(\u001b[0m\u001b[0mfiles\u001b[0m\u001b[0;34m[\u001b[0m\u001b[0;36m9\u001b[0m\u001b[0;34m]\u001b[0m\u001b[0;34m)\u001b[0m\u001b[0;34m\u001b[0m\u001b[0;34m\u001b[0m\u001b[0m\n\u001b[0m",
      "\u001b[0;32m<ipython-input-22-c169161e6207>\u001b[0m in \u001b[0;36mthreshold_and_crop\u001b[0;34m(filepath, color)\u001b[0m\n\u001b[1;32m     13\u001b[0m             \u001b[0mbbox\u001b[0m \u001b[0;34m=\u001b[0m \u001b[0mr\u001b[0m\u001b[0;34m.\u001b[0m\u001b[0mbbox\u001b[0m\u001b[0;34m\u001b[0m\u001b[0;34m\u001b[0m\u001b[0m\n\u001b[1;32m     14\u001b[0m             \u001b[0mmax_size\u001b[0m \u001b[0;34m=\u001b[0m \u001b[0mr\u001b[0m\u001b[0;34m.\u001b[0m\u001b[0mbbox_area\u001b[0m\u001b[0;34m\u001b[0m\u001b[0;34m\u001b[0m\u001b[0m\n\u001b[0;32m---> 15\u001b[0;31m     \u001b[0;32mreturn\u001b[0m \u001b[0mim\u001b[0m\u001b[0;34m[\u001b[0m\u001b[0mbbox\u001b[0m\u001b[0;34m[\u001b[0m\u001b[0;36m0\u001b[0m\u001b[0;34m]\u001b[0m\u001b[0;34m:\u001b[0m\u001b[0mbbox\u001b[0m\u001b[0;34m[\u001b[0m\u001b[0;36m2\u001b[0m\u001b[0;34m]\u001b[0m\u001b[0;34m,\u001b[0m \u001b[0mbbox\u001b[0m\u001b[0;34m[\u001b[0m\u001b[0;36m1\u001b[0m\u001b[0;34m]\u001b[0m\u001b[0;34m:\u001b[0m\u001b[0mbbox\u001b[0m\u001b[0;34m[\u001b[0m\u001b[0;36m3\u001b[0m\u001b[0;34m]\u001b[0m\u001b[0;34m,\u001b[0m \u001b[0;34m:\u001b[0m\u001b[0;34m]\u001b[0m\u001b[0;34m\u001b[0m\u001b[0;34m\u001b[0m\u001b[0m\n\u001b[0m\u001b[1;32m     16\u001b[0m \u001b[0;34m\u001b[0m\u001b[0m\n",
      "\u001b[0;31mTypeError\u001b[0m: 'NoneType' object is not subscriptable"
     ]
    }
   ],
   "source": [
    "print(files[9])\n",
    "threshold_and_crop(files[9])\n"
   ]
  },
  {
   "cell_type": "code",
   "execution_count": null,
   "id": "noted-andorra",
   "metadata": {},
   "outputs": [],
   "source": []
  },
  {
   "cell_type": "code",
   "execution_count": null,
   "id": "returning-saying",
   "metadata": {},
   "outputs": [],
   "source": []
  },
  {
   "cell_type": "code",
   "execution_count": 27,
   "id": "ranking-argument",
   "metadata": {},
   "outputs": [],
   "source": [
    "def get_bb_2(filepath):\n",
    "    im = threshold_and_crop(filepath)\n",
    "    p = get_points_2(im)\n",
    "    l = label(p, background=1)\n",
    "    rp = regionprops(l)\n",
    "    #fig, ax = plt.subplots()\n",
    "    #ax.imshow(l, cmap=plt.cm.gray)\n",
    "    minx, miny, (maxx, maxy) = 0, 0, l.shape\n",
    "    max_size = l.shape[0] * l.shape[1] // 500\n",
    "    min_size = l.shape[0] * l.shape[1] // 2000\n",
    "\n",
    "    bbs = []\n",
    "    centers = []\n",
    "    for props in rp:\n",
    "        y0, x0 = props.centroid\n",
    "        minr, minc, maxr, maxc = props.bbox\n",
    "        bx = (minc, maxc, maxc, minc, minc)\n",
    "        by = (minr, minr, maxr, maxr, minr)\n",
    "        if props.bbox_area < max_size and props.bbox_area > min_size:\n",
    "            bbs.append((props.bbox[0] / maxx, props.bbox[1] / maxx, props.bbox[2] / maxx, props.bbox[3] / maxx))\n",
    "            centers.append(\n",
    "                (\n",
    "                    (((minr / maxy) + (maxr / maxy)) / 2), \n",
    "                    (((minc / maxx) + (maxc / maxx)) / 2)\n",
    "                ),\n",
    "            )\n",
    "    #        ax.plot(bx, by, '-b', linewidth=2.5)\n",
    "    #ax.axis()\n",
    "    #plt.show()\n",
    "    return bbs, centers"
   ]
  },
  {
   "cell_type": "code",
   "execution_count": 28,
   "id": "distinguished-ocean",
   "metadata": {},
   "outputs": [],
   "source": [
    "n = [os.path.join(\"imgs/new\", f) for f in os.listdir('imgs/new') if f.endswith('.png')]"
   ]
  },
  {
   "cell_type": "code",
   "execution_count": 29,
   "id": "moved-chester",
   "metadata": {},
   "outputs": [],
   "source": [
    "files += n"
   ]
  },
  {
   "cell_type": "code",
   "execution_count": 31,
   "id": "permanent-interpretation",
   "metadata": {},
   "outputs": [
    {
     "name": "stdout",
     "output_type": "stream",
     "text": [
      "[1, 3, 4, 5, 6, 7, 8, 9, 11, 12, 13, 15, 18, 19, 20, 21, 23, 25, 28, 31, 32, 33, 34, 38, 39, 42, 43, 46, 47, 48, 50, 51, 54, 57, 58, 64, 65, 67, 68, 70, 71, 74, 77, 82, 83, 90, 91, 93, 94, 96, 108, 111, 113, 115, 117, 124, 125, 127, 130, 132, 136, 139, 141, 143, 147, 148, 150, 151, 153, 154, 156, 159, 160, 162, 163, 164, 165, 166, 167, 168, 169, 173, 177, 179, 181, 182, 185, 186, 187, 188, 192, 193, 196, 199, 201, 202, 204, 205, 210]\n",
      "[1, 2, 3, 5, 6, 7, 8, 12, 14, 18, 20, 21, 23, 24, 25, 26, 29, 34, 38, 39, 41, 42, 45, 47, 48, 55, 58, 61, 64, 68, 72, 75, 82, 83, 91, 93, 94, 98, 100, 101, 105, 115, 119, 122, 124, 125, 129, 131, 132, 133, 136, 138, 141, 142, 147, 151, 152, 154, 157, 158, 159, 161, 164, 165, 166, 168, 171, 174, 179, 181, 184, 185, 189, 193, 196, 197, 199, 200, 202, 203, 204, 205, 206, 208, 209, 210]\n",
      "[2, 4, 5, 8, 10, 13, 14, 15, 18, 19, 22, 23, 24, 30, 32, 38, 40, 41, 42, 44, 48, 49, 51, 55, 56, 57, 58, 60, 63, 64, 66, 68, 72, 75, 76, 77, 79, 80, 82, 83, 90, 91, 93, 94, 96, 104, 105, 108, 110, 111, 112, 116, 119, 122, 123, 124, 126, 127, 131, 133, 139, 143, 147, 149, 150, 151, 159, 160, 161, 162, 165, 166, 168, 169, 170, 172, 174, 177, 179, 180, 181, 183, 185, 186, 193, 197, 198, 199, 200, 201, 202, 205, 206, 207, 208, 209, 210]\n",
      "[4, 8, 11, 12, 13, 14, 18, 19, 22, 23, 25, 26, 27, 28, 29, 30, 31, 32, 34, 38, 39, 40, 41, 44, 46, 47, 48, 55, 58, 59, 60, 61, 65, 68, 69, 72, 73, 74, 75, 76, 77, 80, 82, 90, 91, 93, 94, 96, 98, 99, 101, 104, 105, 108, 110, 111, 112, 114, 115, 118, 119, 120, 122, 125, 132, 133, 136, 139, 143, 145, 147, 148, 153, 156, 157, 158, 160, 161, 162, 165, 169, 172, 173, 174, 175, 179, 181, 185, 186, 187, 188, 189, 190, 191, 193, 196, 200, 203, 204, 205, 206, 208]\n",
      "[2, 3, 4, 5, 7, 12, 15, 18, 19, 22, 25, 26, 28, 31, 38, 39, 40, 41, 42, 43, 45, 46, 47, 48, 51, 52, 53, 54, 56, 58, 65, 66, 68, 72, 74, 76, 78, 79, 81, 82, 83, 84, 90, 91, 93, 94, 96, 97, 98, 101, 104, 108, 110, 112, 115, 116, 122, 125, 129, 132, 133, 135, 143, 144, 147, 148, 149, 156, 159, 165, 167, 168, 170, 171, 173, 177, 179, 182, 183, 184, 187, 189, 191, 192, 193, 198, 199, 200, 201, 202, 204, 205, 206, 207, 210]\n",
      "[1, 2, 3, 4, 5, 7, 9, 10, 11, 12, 13, 15, 18, 19, 20, 22, 25, 27, 29, 32, 38, 40, 41, 46, 47, 50, 52, 53, 56, 57, 61, 64, 66, 69, 71, 72, 75, 76, 77, 79, 80, 81, 83, 90, 91, 93, 94, 96, 97, 99, 101, 104, 105, 108, 110, 115, 117, 119, 121, 123, 124, 125, 126, 127, 129, 133, 135, 138, 141, 142, 143, 144, 147, 149, 150, 154, 157, 159, 161, 165, 167, 168, 169, 170, 171, 177, 179, 181, 183, 185, 186, 187, 190, 192, 197, 198, 199, 200, 202, 206, 207, 209, 210]\n",
      "[2, 4, 8, 10, 13, 18, 19, 20, 24, 26, 27, 28, 29, 30, 38, 40, 42, 43, 47, 49, 50, 52, 53, 54, 55, 57, 58, 61, 64, 66, 67, 70, 75, 77, 78, 82, 84, 90, 91, 93, 94, 96, 100, 101, 103, 108, 111, 115, 119, 120, 123, 130, 131, 134, 140, 141, 142, 143, 147, 149, 152, 153, 156, 157, 160, 164, 165, 166, 167, 173, 175, 177, 180, 181, 185, 186, 187, 188, 189, 193, 196, 197, 199, 201, 202, 203, 205, 206, 207]\n",
      "[4, 5, 7, 8, 12, 13, 14, 18, 20, 21, 25, 28, 29, 31, 32, 38, 39, 42, 43, 46, 48, 51, 52, 53, 57, 61, 64, 66, 72, 75, 77, 78, 80, 81, 82, 83, 90, 91, 93, 94, 96, 97, 98, 101, 103, 104, 105, 108, 111, 112, 114, 117, 120, 121, 122, 124, 125, 129, 132, 136, 141, 143, 147, 149, 150, 154, 157, 158, 160, 161, 163, 164, 168, 169, 174, 175, 180, 184, 186, 187, 188, 196, 197, 203, 205, 206, 207, 208]\n",
      "[2, 3, 4, 5, 7, 9, 11, 14, 18, 22, 23, 25, 27, 28, 30, 32, 34, 38, 39, 41, 42, 44, 46, 48, 50, 54, 55, 56, 59, 60, 61, 65, 67, 68, 69, 71, 72, 74, 76, 78, 79, 81, 83, 84, 90, 91, 93, 94, 96, 99, 100, 103, 104, 105, 108, 110, 111, 112, 113, 114, 117, 119, 122, 123, 124, 125, 130, 131, 132, 135, 136, 138, 139, 143, 144, 147, 148, 149, 151, 152, 154, 160, 161, 164, 166, 169, 170, 172, 177, 180, 181, 182, 183, 186, 187, 190, 196, 197, 198, 199, 200, 203, 205, 207, 209, 210]\n",
      "imgs/people/FECYsfjXwAIEYmJ.jpeg\n",
      "[3, 4, 6, 9, 14, 18, 22, 23, 26, 27, 29, 30, 33, 34, 38, 40, 42, 43, 44, 46, 49, 50, 53, 55, 57, 61, 66, 71, 72, 73, 74, 77, 83, 90, 91, 93, 94, 96, 98, 99, 100, 104, 105, 111, 112, 114, 115, 118, 120, 122, 123, 126, 130, 132, 133, 135, 136, 137, 140, 141, 145, 147, 148, 149, 151, 154, 156, 158, 161, 162, 165, 171, 174, 177, 179, 184, 186, 189, 196, 199, 200, 201, 203, 207, 209, 210]\n",
      "[1, 2, 8, 11, 13, 14, 18, 20, 21, 23, 24, 25, 26, 27, 28, 29, 32, 33, 38, 40, 41, 42, 45, 48, 50, 56, 57, 58, 59, 61, 67, 69, 72, 73, 74, 75, 77, 80, 81, 82, 90, 91, 93, 94, 96, 98, 99, 101, 106, 111, 113, 114, 115, 121, 123, 124, 126, 127, 129, 130, 139, 141, 142, 143, 144, 147, 148, 150, 156, 157, 159, 162, 163, 169, 170, 172, 173, 174, 175, 177, 179, 180, 182, 183, 184, 185, 187, 188, 190, 192, 197, 198, 201, 203, 204, 206, 207, 208, 209, 210]\n",
      "[1, 2, 3, 4, 5, 7, 9, 10, 11, 12, 13, 15, 18, 19, 20, 22, 25, 27, 29, 32, 38, 40, 41, 46, 47, 50, 52, 53, 56, 57, 61, 64, 66, 69, 71, 72, 75, 76, 77, 79, 80, 81, 83, 90, 91, 93, 94, 96, 97, 99, 101, 104, 105, 108, 110, 115, 117, 119, 121, 123, 124, 125, 126, 127, 129, 133, 135, 138, 141, 142, 143, 144, 147, 149, 150, 154, 157, 159, 161, 165, 167, 168, 169, 170, 171, 177, 179, 181, 183, 185, 186, 187, 190, 192, 197, 198, 199, 200, 202, 206, 207, 209, 210]\n",
      "[1, 2, 3, 6, 9, 11, 12, 13, 14, 15, 18, 20, 22, 26, 27, 30, 32, 34, 38, 41, 43, 44, 45, 48, 53, 54, 56, 58, 59, 60, 65, 66, 68, 70, 71, 72, 75, 76, 78, 79, 82, 90, 91, 93, 94, 96, 100, 101, 102, 104, 107, 108, 110, 111, 112, 115, 116, 118, 119, 120, 131, 132, 133, 136, 137, 142, 143, 144, 148, 150, 152, 153, 154, 156, 159, 160, 161, 162, 164, 165, 166, 167, 168, 173, 177, 179, 181, 185, 186, 187, 188, 190, 193, 196, 198, 199, 200, 201, 204, 207, 208, 210]\n",
      "[1, 2, 4, 5, 7, 8, 10, 11, 14, 18, 20, 23, 27, 30, 32, 33, 38, 39, 41, 42, 44, 45, 47, 48, 50, 53, 54, 57, 58, 59, 61, 62, 64, 65, 68, 71, 73, 76, 78, 81, 82, 83, 84, 90, 91, 93, 94, 96, 98, 103, 106, 113, 114, 117, 121, 123, 126, 127, 129, 130, 131, 132, 133, 136, 138, 141, 142, 144, 148, 152, 154, 156, 158, 160, 164, 166, 167, 169, 172, 173, 175, 185, 186, 190, 191, 196, 199, 200, 203, 208]\n",
      "[1, 2, 3, 4, 5, 7, 9, 10, 11, 18, 19, 24, 25, 26, 27, 29, 30, 38, 40, 43, 44, 45, 47, 48, 56, 57, 60, 61, 67, 69, 71, 72, 79, 91, 93, 97, 98, 103, 115, 116, 117, 122, 127, 129, 130, 135, 137, 151, 163, 164, 165, 169, 171, 177, 178, 179, 182, 184, 186, 187, 188, 190, 197, 199, 204, 205, 207, 208]\n",
      "[1, 2, 4, 5, 7, 10, 12, 13, 14, 18, 19, 20, 22, 24, 25, 26, 27, 28, 32, 34, 38, 39, 43, 44, 46, 47, 48, 49, 56, 58, 63, 66, 68, 69, 70, 71, 73, 74, 79, 80, 90, 91, 93, 94, 96, 98, 100, 101, 104, 105, 108, 115, 116, 117, 118, 119, 122, 123, 124, 125, 126, 131, 132, 133, 135, 136, 138, 139, 140, 141, 143, 147, 149, 150, 151, 157, 165, 166, 167, 169, 170, 174, 177, 181, 183, 186, 189, 196, 201, 203, 206, 210]\n",
      "[1, 2, 5, 7, 11, 13, 14, 15, 18, 19, 20, 21, 25, 26, 27, 29, 30, 32, 33, 38, 39, 40, 42, 44, 45, 50, 53, 54, 56, 57, 58, 69, 71, 73, 74, 76, 77, 80, 83, 84, 90, 91, 93, 94, 96, 97, 98, 105, 108, 112, 114, 116, 118, 122, 124, 125, 129, 130, 134, 136, 137, 139, 140, 141, 142, 143, 144, 148, 149, 153, 156, 157, 159, 162, 164, 165, 166, 168, 170, 171, 172, 174, 175, 177, 179, 181, 183, 187, 188, 189, 190, 193, 197, 201, 202, 203, 206, 208, 209, 210]\n",
      "[1, 2, 4, 9, 10, 12, 14, 18, 22, 25, 27, 28, 30, 31, 34, 38, 39, 40, 41, 43, 44, 45, 49, 50, 54, 57, 61, 62, 64, 65, 66, 68, 69, 70, 72, 73, 74, 75, 79, 90, 91, 93, 94, 96, 101, 102, 103, 104, 105, 108, 111, 114, 117, 125, 126, 127, 128, 131, 133, 135, 137, 138, 139, 140, 142, 143, 149, 152, 157, 160, 162, 167, 172, 173, 174, 175, 177, 179, 180, 181, 185, 187, 196, 197, 198, 199, 200, 201, 204, 205, 206, 207, 208, 210]\n",
      "[]\n",
      "imgs/people/FEK1L9cXoAgulGK.jpeg\n",
      "[3, 6, 7, 8, 9, 11, 12, 15, 18, 21, 22, 25, 28, 31, 32, 34, 38, 39, 40, 42, 43, 48, 50, 52, 55, 56, 57, 58, 61, 62, 65, 68, 72, 73, 76, 78, 79, 80, 82, 90, 91, 93, 94, 96, 97, 99, 101, 102, 105, 108, 110, 111, 112, 115, 116, 118, 119, 120, 122, 123, 127, 129, 131, 133, 134, 135, 136, 137, 143, 149, 151, 154, 156, 159, 161, 164, 165, 166, 167, 168, 169, 170, 171, 174, 177, 179, 180, 181, 182, 184, 185, 186, 187, 190, 191, 196, 198, 200, 201, 203, 204, 205, 209, 210]\n",
      "[2, 3, 5, 10, 18, 20, 21, 23, 24, 25, 26, 28, 29, 31, 32, 33, 34, 38, 44, 46, 47, 48, 49, 51, 53, 55, 56, 58, 59, 64, 65, 66, 68, 69, 71, 73, 75, 76, 77, 78, 79, 83, 84, 90, 91, 93, 94, 96, 97, 98, 99, 104, 105, 107, 108, 112, 115, 118, 119, 120, 122, 123, 124, 125, 126, 127, 130, 131, 132, 135, 139, 144, 148, 151, 152, 153, 154, 156, 157, 159, 160, 164, 165, 166, 168, 169, 170, 175, 177, 179, 183, 184, 186, 188, 190, 192, 193, 197, 199, 200, 202, 205, 207, 208, 210]\n",
      "[1, 4, 5, 6, 8, 9, 13, 18, 20, 21, 23, 25, 26, 29, 31, 38, 40, 42, 47, 48, 49, 55, 56, 58, 61, 67, 68, 69, 71, 72, 77, 78, 80, 91, 93, 98, 99, 104, 105, 111, 122, 123, 130, 136, 138, 139, 147, 149, 159, 162, 165, 167, 169, 170, 181, 183, 188, 189, 196, 197, 198, 199, 200, 203, 204, 205, 207]\n"
     ]
    },
    {
     "name": "stdout",
     "output_type": "stream",
     "text": [
      "[1, 3, 5, 9, 10, 12, 13, 15, 18, 19, 20, 21, 23, 24, 29, 30, 32, 33, 34, 38, 39, 41, 43, 46, 49, 50, 51, 52, 54, 56, 57, 58, 61, 62, 63, 64, 66, 67, 69, 70, 72, 73, 76, 78, 81, 82, 87, 90, 93, 94, 96, 97, 100, 101, 102, 108, 110, 111, 113, 115, 118, 119, 121, 126, 127, 129, 138, 139, 140, 146, 150, 152, 153, 155, 157, 158, 159, 160, 161, 162, 163, 164, 165, 169, 170, 171, 173, 175, 177, 178, 179, 181, 183, 184, 186, 187, 190, 192, 193, 196, 200, 201, 202, 204, 206]\n",
      "[3, 4, 7, 8, 9, 10, 13, 15, 18, 19, 20, 22, 23, 27, 28, 29, 34, 38, 39, 41, 42, 44, 45, 49, 50, 51, 54, 55, 56, 57, 59, 62, 65, 68, 69, 70, 72, 73, 75, 77, 78, 79, 80, 82, 83, 87, 90, 93, 94, 96, 97, 98, 99, 100, 101, 102, 103, 105, 108, 109, 112, 114, 118, 121, 128, 129, 131, 134, 135, 136, 137, 139, 141, 144, 147, 148, 150, 151, 152, 154, 155, 157, 159, 161, 162, 164, 166, 170, 171, 172, 173, 177, 178, 180, 182, 186, 187, 190, 191, 196, 198, 200, 201, 203, 205, 206, 209, 210]\n",
      "[1, 2, 4, 6, 7, 8, 9, 11, 12, 14, 18, 19, 21, 28, 29, 30, 31, 32, 33, 38, 39, 42, 44, 45, 48, 49, 50, 52, 53, 54, 56, 60, 63, 65, 67, 68, 71, 72, 75, 76, 87, 90, 93, 94, 96, 97, 98, 104, 107, 114, 117, 118, 120, 122, 123, 124, 126, 130, 134, 138, 140, 144, 145, 148, 149, 150, 153, 154, 155, 158, 159, 161, 162, 164, 165, 166, 169, 172, 180, 181, 183, 185, 186, 189, 191, 192, 193, 196, 200, 202, 204, 205, 206, 209, 210]\n",
      "[6, 9, 11, 14, 18, 20, 22, 26, 28, 30, 31, 33, 38, 39, 41, 42, 43, 44, 45, 48, 51, 52, 54, 59, 60, 61, 63, 65, 66, 69, 70, 74, 75, 77, 78, 79, 80, 84, 87, 90, 93, 94, 96, 97, 98, 100, 101, 102, 103, 107, 109, 111, 115, 116, 118, 119, 121, 124, 125, 127, 128, 131, 132, 135, 136, 138, 139, 141, 144, 150, 151, 152, 153, 155, 158, 160, 163, 167, 169, 170, 172, 177, 178, 181, 184, 186, 192, 196, 198, 199, 200, 203, 205, 208, 209]\n",
      "[3, 4, 6, 8, 9, 10, 11, 12, 18, 20, 21, 23, 25, 26, 27, 31, 33, 34, 38, 39, 41, 42, 43, 48, 51, 53, 55, 60, 61, 63, 64, 65, 67, 68, 70, 72, 78, 79, 80, 81, 87, 90, 93, 94, 96, 98, 99, 101, 105, 109, 114, 115, 116, 120, 121, 122, 123, 126, 128, 130, 132, 133, 134, 136, 138, 139, 140, 145, 148, 149, 151, 153, 155, 158, 159, 164, 166, 169, 171, 174, 178, 179, 180, 182, 183, 185, 187, 188, 189, 193, 197, 199, 201, 203, 204, 207]\n",
      "[1, 4, 8, 9, 10, 11, 18, 19, 21, 23, 24, 26, 27, 28, 29, 30, 32, 33, 38, 39, 42, 43, 47, 48, 50, 51, 52, 54, 55, 56, 57, 59, 61, 62, 65, 66, 67, 69, 71, 72, 73, 74, 78, 79, 82, 87, 90, 93, 94, 96, 105, 108, 111, 112, 113, 114, 115, 117, 120, 121, 126, 130, 131, 133, 136, 137, 138, 144, 147, 152, 154, 155, 157, 161, 164, 165, 168, 169, 170, 171, 172, 177, 179, 182, 183, 184, 185, 187, 188, 190, 191, 198, 200, 201, 202, 207, 210]\n",
      "[1, 4, 6, 7, 14, 15, 18, 19, 26, 28, 29, 32, 33, 34, 38, 39, 41, 43, 44, 45, 46, 47, 50, 51, 52, 53, 54, 55, 56, 57, 63, 64, 65, 66, 67, 76, 77, 79, 81, 82, 83, 87, 90, 93, 94, 96, 97, 100, 101, 103, 104, 105, 107, 116, 119, 120, 122, 126, 127, 128, 130, 132, 133, 137, 138, 139, 140, 144, 146, 148, 149, 152, 154, 155, 157, 158, 161, 168, 170, 171, 172, 173, 178, 180, 181, 183, 184, 185, 188, 190, 191, 198, 199, 200, 201, 202, 205, 207, 208, 209]\n",
      "[3, 5, 6, 10, 13, 15, 18, 20, 21, 23, 24, 25, 28, 29, 30, 32, 34, 38, 39, 42, 46, 50, 56, 58, 60, 62, 64, 65, 67, 70, 72, 73, 75, 76, 78, 81, 84, 87, 90, 93, 94, 96, 100, 102, 107, 108, 109, 115, 118, 119, 120, 121, 122, 123, 124, 125, 127, 128, 130, 132, 134, 138, 145, 146, 147, 150, 151, 153, 155, 157, 159, 161, 163, 164, 166, 169, 173, 175, 178, 179, 180, 182, 183, 184, 186, 187, 190, 192, 193, 197, 200, 203, 204, 205]\n",
      "[2, 3, 6, 7, 8, 9, 11, 12, 13, 18, 19, 21, 23, 28, 29, 30, 31, 33, 34, 38, 39, 41, 43, 44, 46, 49, 51, 53, 55, 56, 57, 58, 59, 61, 63, 67, 68, 73, 75, 79, 80, 81, 82, 83, 84, 87, 90, 93, 94, 96, 97, 98, 100, 102, 104, 105, 106, 109, 110, 111, 112, 114, 117, 119, 120, 122, 125, 127, 128, 132, 138, 140, 141, 144, 146, 148, 149, 151, 155, 157, 158, 160, 166, 168, 169, 173, 174, 178, 180, 181, 183, 186, 187, 189, 191, 192, 193, 197, 199, 202, 203, 204, 206, 207]\n",
      "[1, 3, 6, 8, 9, 11, 12, 13, 18, 19, 20, 23, 24, 27, 31, 33, 38, 39, 41, 42, 43, 44, 46, 47, 49, 51, 52, 55, 56, 58, 59, 61, 62, 64, 65, 70, 72, 73, 74, 75, 76, 77, 79, 82, 83, 84, 87, 90, 93, 94, 96, 97, 98, 100, 102, 110, 111, 113, 116, 117, 119, 120, 126, 129, 130, 134, 137, 138, 139, 140, 146, 151, 152, 153, 154, 155, 157, 158, 159, 161, 163, 167, 168, 169, 171, 172, 173, 174, 177, 179, 187, 189, 190, 191, 192, 193, 196, 197, 198, 202, 203, 204, 206, 207, 208, 210]\n",
      "[1, 3, 4, 7, 10, 15, 18, 19, 21, 23, 28, 29, 33, 38, 39, 42, 43, 44, 47, 48, 49, 50, 51, 52, 53, 57, 58, 59, 62, 65, 66, 68, 69, 70, 72, 74, 79, 81, 84, 87, 90, 93, 94, 96, 97, 98, 99, 101, 102, 104, 105, 108, 109, 111, 112, 113, 114, 115, 117, 121, 124, 125, 127, 128, 131, 133, 134, 139, 144, 148, 149, 150, 151, 154, 155, 157, 160, 161, 165, 167, 168, 170, 171, 172, 173, 178, 179, 181, 182, 184, 185, 186, 196, 197, 198, 199, 201, 203, 204, 205, 207, 208]\n",
      "[3, 5, 9, 11, 12, 14, 15, 18, 19, 20, 21, 22, 23, 25, 26, 31, 32, 38, 39, 41, 42, 43, 44, 47, 52, 53, 57, 59, 60, 61, 63, 64, 67, 68, 69, 70, 72, 79, 82, 83, 87, 90, 93, 94, 96, 97, 98, 99, 102, 103, 106, 107, 114, 116, 118, 121, 123, 124, 127, 129, 131, 132, 133, 135, 137, 138, 139, 145, 153, 155, 157, 168, 170, 172, 173, 174, 180, 183, 184, 186, 187, 188, 189, 196, 198, 199, 201, 203, 205, 207, 208, 210]\n",
      "[1, 3, 5, 6, 7, 8, 9, 11, 12, 15, 18, 21, 24, 25, 26, 29, 31, 33, 38, 39, 41, 42, 43, 44, 45, 48, 49, 50, 51, 52, 55, 58, 61, 63, 64, 66, 67, 71, 72, 73, 75, 76, 77, 78, 79, 84, 87, 90, 93, 94, 96, 98, 100, 101, 103, 107, 113, 114, 115, 116, 118, 121, 123, 125, 126, 127, 128, 129, 131, 132, 135, 137, 138, 139, 140, 141, 144, 147, 148, 151, 152, 154, 155, 157, 158, 159, 161, 164, 166, 169, 170, 173, 174, 178, 179, 181, 182, 184, 187, 188, 192, 193, 202, 205, 208, 209, 210]\n",
      "[1, 2, 3, 11, 15, 18, 19, 20, 22, 24, 27, 31, 33, 34, 38, 39, 43, 44, 46, 47, 56, 57, 58, 59, 61, 63, 66, 68, 70, 71, 74, 75, 76, 84, 87, 90, 93, 94, 96, 98, 104, 105, 106, 107, 108, 109, 110, 111, 115, 116, 118, 120, 121, 124, 125, 126, 129, 130, 131, 135, 137, 138, 139, 140, 141, 144, 145, 146, 147, 151, 152, 153, 155, 157, 159, 163, 166, 169, 175, 180, 181, 183, 184, 185, 187, 188, 189, 190, 192, 193, 196, 198, 199, 202, 203, 204, 205, 206, 207, 208, 209]\n",
      "[1, 3, 4, 7, 9, 10, 12, 13, 15, 18, 20, 21, 23, 25, 26, 28, 29, 32, 33, 34, 38, 39, 41, 42, 43, 44, 45, 46, 51, 55, 56, 58, 61, 62, 70, 72, 73, 74, 77, 79, 81, 82, 83, 84, 87, 90, 93, 94, 96, 97, 99, 100, 101, 103, 106, 108, 109, 110, 113, 118, 121, 122, 125, 126, 127, 130, 131, 133, 134, 136, 137, 138, 140, 144, 146, 147, 148, 149, 155, 158, 160, 171, 172, 173, 174, 175, 177, 178, 181, 185, 186, 187, 189, 192, 193, 197, 199, 201, 202, 203, 204, 205]\n",
      "[3, 4, 5, 8, 10, 11, 12, 18, 20, 21, 26, 30, 32, 33, 38, 39, 41, 42, 44, 45, 50, 51, 54, 55, 58, 59, 60, 61, 62, 66, 67, 68, 69, 70, 73, 74, 75, 77, 79, 80, 81, 84, 87, 90, 93, 94, 96, 97, 101, 102, 103, 105, 106, 109, 110, 111, 116, 119, 120, 122, 124, 125, 127, 128, 131, 133, 134, 136, 138, 141, 144, 146, 147, 149, 152, 155, 159, 163, 165, 167, 169, 171, 175, 177, 179, 180, 182, 184, 187, 190, 192, 193, 196, 197, 199, 202, 203, 204, 205, 209, 210]\n",
      "[1, 3, 5, 9, 10, 12, 13, 15, 18, 19, 20, 21, 23, 24, 29, 30, 32, 33, 34, 38, 39, 41, 43, 46, 49, 50, 51, 52, 54, 56, 57, 58, 61, 62, 63, 64, 66, 67, 69, 70, 72, 73, 76, 78, 81, 82, 87, 90, 93, 94, 96, 97, 100, 101, 102, 108, 110, 111, 113, 115, 118, 119, 121, 126, 127, 129, 138, 139, 140, 146, 150, 152, 153, 155, 157, 158, 159, 160, 161, 162, 163, 164, 165, 169, 170, 171, 173, 175, 177, 178, 179, 181, 183, 184, 186, 187, 190, 192, 193, 196, 200, 201, 202, 204, 206]\n",
      "[3, 5, 8, 9, 10, 11, 12, 15, 18, 19, 21, 24, 25, 29, 31, 38, 39, 42, 43, 44, 45, 46, 47, 49, 51, 55, 59, 62, 63, 65, 66, 67, 69, 70, 72, 78, 79, 83, 87, 90, 93, 94, 96, 98, 99, 101, 103, 106, 110, 111, 112, 114, 115, 116, 118, 119, 122, 123, 125, 127, 130, 131, 132, 134, 135, 137, 138, 140, 141, 144, 148, 152, 153, 154, 155, 157, 158, 159, 162, 163, 164, 169, 171, 172, 174, 175, 177, 181, 182, 183, 186, 187, 189, 191, 192, 193, 198, 199, 200, 201, 202, 204, 205, 206, 207]\n",
      "[1, 2, 4, 8, 11, 12, 13, 15, 18, 21, 22, 23, 24, 26, 30, 31, 32, 34, 38, 39, 44, 45, 51, 52, 55, 56, 58, 61, 62, 67, 68, 69, 74, 79, 82, 84, 87, 90, 93, 94, 96, 97, 98, 102, 104, 106, 108, 111, 113, 114, 115, 118, 120, 121, 122, 123, 125, 126, 130, 132, 133, 139, 145, 146, 149, 150, 152, 154, 155, 157, 160, 161, 162, 165, 166, 167, 168, 170, 171, 172, 177, 178, 181, 182, 185, 186, 187, 191, 197, 199, 200, 201, 203, 204, 205, 206, 209]\n",
      "[1, 2, 3, 4, 7, 8, 10, 12, 14, 18, 23, 25, 27, 28, 32, 33, 38, 39, 41, 45, 46, 49, 50, 51, 52, 54, 56, 59, 64, 65, 68, 69, 73, 75, 78, 82, 83, 87, 90, 93, 94, 96, 100, 101, 102, 103, 106, 111, 113, 115, 117, 119, 120, 124, 125, 126, 127, 129, 130, 134, 136, 137, 138, 140, 141, 144, 145, 147, 149, 150, 152, 153, 155, 157, 160, 163, 166, 167, 169, 170, 173, 175, 177, 179, 183, 186, 187, 189, 190, 196, 199, 200, 203, 204, 207, 209, 210]\n",
      "[5, 6, 9, 10, 12, 13, 15, 18, 20, 21, 23, 25, 26, 27, 29, 30, 33, 34, 38, 39, 41, 42, 44, 46, 47, 49, 51, 53, 57, 60, 65, 68, 69, 72, 74, 75, 77, 78, 79, 80, 81, 83, 84, 87, 90, 93, 94, 96, 97, 98, 101, 105, 107, 108, 109, 112, 114, 115, 123, 124, 125, 126, 127, 128, 132, 133, 135, 137, 138, 144, 145, 149, 150, 154, 155, 157, 158, 159, 161, 162, 164, 167, 172, 173, 175, 179, 183, 185, 187, 188, 189, 193, 198, 202, 203, 206, 208, 210]\n",
      "[1, 2, 3, 10, 11, 12, 13, 15, 18, 19, 20, 21, 24, 25, 26, 27, 32, 33, 38, 39, 41, 42, 43, 44, 47, 48, 49, 54, 55, 60, 61, 62, 63, 64, 66, 69, 70, 71, 72, 73, 74, 82, 87, 90, 93, 94, 96, 99, 100, 101, 103, 104, 105, 107, 112, 113, 120, 121, 122, 125, 126, 127, 131, 132, 139, 141, 144, 148, 149, 151, 152, 155, 158, 159, 162, 164, 166, 168, 173, 174, 177, 178, 180, 181, 182, 183, 184, 185, 186, 187, 188, 190, 191, 193, 201, 202, 206, 207, 210]\n",
      "[5, 6, 7, 8, 13, 14, 15, 18, 19, 20, 21, 22, 23, 31, 32, 33, 34, 38, 39, 41, 42, 43, 45, 49, 52, 53, 54, 57, 58, 60, 61, 62, 64, 69, 71, 76, 77, 78, 79, 80, 82, 84, 87, 90, 93, 94, 96, 99, 100, 101, 108, 109, 110, 114, 117, 118, 120, 126, 127, 130, 132, 133, 134, 136, 137, 138, 139, 141, 144, 147, 148, 152, 155, 157, 160, 161, 162, 164, 169, 173, 178, 180, 181, 182, 183, 185, 188, 189, 197, 198, 208]\n",
      "[2, 3, 4, 5, 8, 9, 10, 13, 18, 19, 22, 23, 24, 26, 27, 28, 29, 32, 33, 38, 39, 46, 48, 49, 50, 51, 57, 61, 64, 67, 69, 71, 72, 77, 78, 79, 83, 87, 90, 93, 94, 96, 97, 98, 100, 103, 105, 106, 114, 115, 117, 119, 121, 123, 125, 126, 127, 128, 129, 131, 135, 138, 141, 147, 148, 154, 155, 158, 161, 163, 164, 166, 167, 168, 169, 170, 172, 173, 175, 179, 180, 181, 182, 183, 185, 186, 189, 191, 193, 196, 197, 198, 199, 200, 204, 205, 209, 210]\n"
     ]
    }
   ],
   "source": [
    "all_bb, _ = get_bb_2(\"generated/all_dots_yellow.png\")\n",
    "\n",
    "for f in files:\n",
    "    try:\n",
    "        _, centers = get_bb_2(f)\n",
    "        nums = get_numbers(centers, all_bb)\n",
    "        print(nums)\n",
    "    except:\n",
    "        print(f)"
   ]
  },
  {
   "cell_type": "code",
   "execution_count": 32,
   "id": "political-arena",
   "metadata": {},
   "outputs": [],
   "source": [
    "folders = [os.path.join('imgs', f) for f in os.listdir('imgs') if f != '.DS_Store']"
   ]
  },
  {
   "cell_type": "code",
   "execution_count": 33,
   "id": "fatty-motor",
   "metadata": {},
   "outputs": [],
   "source": [
    "files = []\n",
    "for f in folders:\n",
    "    files += [os.path.join(f, i) for i in os.listdir(f) if i.endswith(\".png\") or i.endswith(\".jpeg\")]"
   ]
  },
  {
   "cell_type": "code",
   "execution_count": null,
   "id": "mounted-brass",
   "metadata": {},
   "outputs": [],
   "source": []
  },
  {
   "cell_type": "code",
   "execution_count": 34,
   "id": "sophisticated-positive",
   "metadata": {},
   "outputs": [
    {
     "name": "stdout",
     "output_type": "stream",
     "text": [
      "[6, 8, 9, 12, 13, 14, 15, 18, 19, 20, 22, 23, 24, 27, 32, 34, 38, 39, 41, 42, 47, 48, 52, 53, 55, 57, 60, 64, 66, 71, 72, 73, 74, 78, 80, 90, 91, 93, 94, 96, 97, 98, 99, 101, 105, 108, 110, 112, 117, 118, 119, 123, 125, 126, 127, 129, 131, 132, 139, 142, 143, 144, 145, 147, 148, 149, 152, 153, 154, 156, 157, 158, 159, 160, 161, 162, 163, 165, 166, 167, 169, 171, 172, 173, 174, 175, 179, 185, 187, 188, 189, 191, 192, 193, 196, 200, 201, 204, 205, 209]\n",
      "[]\n",
      "[]\n",
      "imgs/twitter/FA4iYT9VEAc6bJg.jpeg\n",
      "[3, 5, 7, 10, 11, 14, 15, 18, 19, 21, 22, 25, 26, 32, 33, 34, 38, 39, 41, 44, 45, 46, 53, 56, 57, 63, 64, 65, 66, 69, 70, 72, 74, 76, 77, 78, 80, 83, 90, 91, 93, 94, 96, 98, 100, 104, 105, 108, 111, 114, 115, 116, 118, 122, 127, 129, 130, 131, 134, 135, 139, 140, 141, 142, 146, 147, 149, 152, 153, 154, 156, 158, 160, 161, 162, 163, 164, 165, 167, 170, 171, 174, 180, 181, 182, 184, 186, 187, 188, 189, 190, 192, 193, 196, 198, 199, 200, 203, 205]\n",
      "[3, 4, 6, 7, 8, 11, 12, 13, 15, 18, 19, 21, 23, 25, 28, 30, 34, 38, 40, 43, 44, 45, 51, 53, 54, 67, 69, 72, 76, 77, 79, 80, 81, 84, 90, 91, 93, 94, 96, 97, 100, 101, 102, 105, 108, 113, 114, 120, 123, 124, 126, 128, 131, 133, 135, 140, 142, 147, 149, 150, 152, 154, 156, 157, 159, 163, 166, 167, 168, 169, 170, 171, 175, 177, 179, 181, 187, 190, 192, 196, 199, 201, 202, 204, 207, 208, 210]\n",
      "[8, 69, 71, 72, 80, 81, 91, 93, 99, 105, 116, 117, 121, 129, 131, 137, 138, 140, 150, 153, 158, 159, 160, 163, 164, 166, 168, 177, 184, 188, 196, 197, 201, 202, 203, 204, 205, 206, 209]\n",
      "[3, 7, 8, 10, 13, 14, 15, 18, 20, 21, 22, 24, 27, 28, 29, 30, 33, 34, 38, 42, 43, 44, 45, 46, 51, 53, 54, 56, 57, 59, 60, 66, 67, 69, 73, 75, 76, 78, 79, 80, 81, 83, 84, 90, 91, 93, 94, 96, 97, 104, 105, 107, 112, 117, 118, 119, 120, 121, 123, 124, 129, 133, 134, 135, 140, 141, 143, 144, 147, 148, 151, 154, 159, 160, 161, 163, 164, 165, 168, 172, 173, 175, 179, 182, 183, 187, 188, 189, 199, 200, 201, 202, 203, 205, 206, 207, 210]\n",
      "[1, 2, 5, 9, 11, 14, 18, 24, 26, 27, 28, 30, 31, 38, 40, 41, 42, 48, 50, 51, 53, 54, 55, 56, 58, 59, 60, 61, 62, 64, 65, 68, 70, 74, 75, 78, 79, 80, 82, 83, 90, 91, 93, 94, 96, 110, 111, 112, 114, 115, 116, 118, 120, 123, 124, 125, 126, 128, 130, 131, 132, 135, 136, 138, 143, 144, 150, 153, 154, 159, 160, 161, 167, 168, 172, 173, 175, 177, 179, 181, 182, 183, 185, 187, 188, 189, 193, 197, 199, 201, 203, 206, 207, 209]\n",
      "[2, 3, 4, 5, 6, 9, 13, 14, 15, 18, 19, 20, 24, 28, 29, 30, 31, 33, 38, 39, 40, 41, 42, 43, 45, 46, 59, 61, 62, 63, 64, 65, 67, 70, 71, 72, 73, 74, 75, 79, 81, 82, 83, 84, 90, 91, 93, 94, 96, 97, 98, 102, 105, 114, 115, 118, 119, 121, 122, 124, 126, 127, 130, 131]\n",
      "[1, 2, 4, 5, 6, 7, 8, 9, 10, 12, 14, 15, 18, 20, 21, 23, 24, 26, 28, 29, 30, 33, 34, 38, 39, 40, 43, 49, 50, 51, 52, 53, 54, 56, 57, 59, 62, 65, 67, 68, 69, 75, 76, 77, 80, 81, 83, 84, 90, 91, 93, 94, 96, 97, 99, 101, 104, 105, 116, 117, 121, 125, 126, 127, 129, 132, 133, 138, 139, 141, 142, 144, 148, 152, 156, 159, 161, 162, 163, 164, 165, 166, 167, 168, 169, 170, 171, 173, 175, 177, 179, 181, 182, 185, 186, 189, 191, 196, 197, 198, 199, 200, 201, 202, 206, 207, 208]\n",
      "[1, 2, 4, 5, 12, 15, 18, 20, 21, 22, 23, 25, 26, 27, 29, 30, 31, 33, 38, 39, 40, 41, 46, 49, 50, 53, 54, 55, 57, 65, 66, 68, 69, 72, 75, 76, 79, 81, 83, 84, 90, 91, 93, 94, 96, 97, 100, 102, 104, 108, 111, 114, 115, 116, 119, 120, 122, 125, 127, 129, 131, 132, 133, 135, 136, 138, 139, 142, 147, 149, 151, 152, 153, 155, 157, 165, 166, 167, 170, 171, 174, 177, 181, 182, 184, 185, 187, 188, 189, 191, 193, 196, 201, 202, 204, 206, 207, 208, 209, 210]\n",
      "imgs/twitter/FA4SmddX0A4unCW.jpeg\n",
      "[1, 3, 9, 10, 11, 12, 15, 18, 20, 21, 22, 23, 25, 27, 30, 31, 38, 40, 43, 44, 45, 48, 49, 51, 52, 55, 56, 57, 60, 62, 63, 65, 68, 69, 70, 72, 75, 76, 77, 81, 90, 91, 93, 94, 96, 98, 99, 101, 102, 103, 104, 108, 110, 111, 112, 113, 114, 115, 117, 118, 119, 120, 121, 124, 126, 127, 128, 131, 133, 136, 138, 139, 141, 144, 148, 149, 151, 152, 153, 156, 159, 160, 162, 163, 164, 165, 166, 169, 170, 175, 177, 179, 183, 185, 186, 192, 196, 199, 201, 202, 203, 204, 206, 207, 208]\n",
      "[4, 5, 6, 8, 9, 14, 15, 18, 19, 20, 22, 24, 27, 28, 31, 32, 33, 38, 40, 41, 42, 44, 45, 47, 48, 49, 52, 53, 56, 62, 64, 68, 70, 73, 75, 78, 79, 80, 81, 82, 90, 91, 93, 94, 96, 97, 98, 99, 101, 102, 110, 111, 112, 117, 121, 124, 127, 129, 131, 133, 134, 139, 141, 142, 143, 144, 145, 148, 153, 154, 159, 161, 165, 166, 167, 168, 172, 173, 174, 175, 177, 183, 184, 185, 186, 191, 193, 200, 202, 205, 207, 208]\n",
      "[2, 3, 7, 9, 12, 13, 14, 15, 18, 23, 24, 25, 31, 34, 38, 43, 44, 46, 49, 52, 57, 61, 66, 68, 69, 70, 72, 73, 76, 78, 79, 80, 82, 84, 90, 91, 93, 94, 96, 98, 99, 100, 101, 104, 105, 107, 108, 113, 115, 116, 118, 120, 123, 128, 130, 132, 133, 139, 141, 142, 144, 147, 148, 152, 153, 154, 156, 157, 159, 160, 164, 168, 172, 173, 174, 177, 179, 183, 186, 188, 192, 196, 197, 199, 202, 203, 204, 205, 207, 208, 210]\n",
      "[1, 4, 7, 8, 9, 13, 18, 20, 21, 23, 25, 26, 28, 29, 31, 32, 33, 38, 39, 41, 42, 44, 45, 46, 50, 54, 65, 67, 68, 70, 71, 74, 76, 77, 80, 82, 90, 91, 93, 94, 96, 100, 105, 106, 108, 111, 113, 114, 115, 116, 117, 119, 122, 123, 124, 125, 127, 130, 132, 133, 142, 147, 153, 154, 155, 159, 164, 165, 166, 167, 169, 171, 172, 174, 177, 179, 184, 187, 191, 197, 202, 203, 204, 210]\n",
      "[2, 3, 5, 13, 18, 19, 23, 31, 34, 38, 39, 40, 41, 42, 51, 52, 53, 54, 55, 56, 60, 66, 68, 73, 75, 77, 83, 91, 93, 95, 97, 98, 101, 104, 111, 114, 116, 119, 120, 122, 123, 127, 133, 135, 136, 138, 142, 149, 150, 159, 160, 162, 171, 173, 175, 177, 180, 182, 190, 191, 194]\n",
      "imgs/twitter/FIkqnScXMAEsQeq.jpeg\n",
      "[1, 2, 4, 5, 6, 12, 13, 14, 15, 18, 20, 21, 22, 23, 24, 26, 29, 32, 33, 38, 40, 43, 44, 46, 47, 50, 52, 57, 58, 59, 61, 62, 64, 66, 68, 71, 72, 73, 74, 77, 80, 90, 91, 93, 94, 96, 97, 98, 99, 102, 105, 108, 114, 116, 118, 120, 121, 122, 124, 126, 127, 131, 132, 133, 135, 136, 137, 143, 144, 150, 151, 152, 154, 162, 164, 167, 170, 173, 174, 175, 177, 179, 180, 181, 182, 189, 190, 193, 196, 197, 198, 199, 200, 204, 206, 207]\n",
      "imgs/twitter/FA4qFzKWYAc35dw.jpeg\n",
      "[6, 8, 12, 14, 18, 20, 21, 24, 27, 29, 30, 31, 38, 44, 46, 47, 49, 51, 54, 55, 59, 60, 62, 64, 65, 67, 68, 69, 71, 72, 74, 79, 81, 90, 91, 93, 94, 96, 98, 99, 100, 101, 102, 104, 107, 111, 112, 114, 115, 116, 118, 119, 120, 121, 123, 128, 132, 133, 136, 137, 138, 140, 142, 148, 149, 150, 152, 154, 156, 158, 159, 160, 162, 166, 168, 171, 173, 175, 179, 183, 186, 187, 189, 191, 192, 196, 198, 200, 201, 205, 207, 209]\n",
      "[]\n",
      "[1, 3, 4, 5, 8, 9, 10, 11, 18, 19, 21, 22, 25, 28, 29, 33, 34, 38, 40, 44, 45, 47, 48, 50, 51, 53, 56, 57, 58, 59, 62, 64, 65, 67, 72, 78, 80, 81, 83, 90, 91, 93, 94, 96, 97, 99, 100, 101, 103, 108, 110, 115, 116, 117, 118, 122, 126, 131, 133, 135, 136, 137, 139, 141, 143, 144, 147, 149, 150, 152, 153, 156, 159, 161, 162, 163, 165, 166, 168, 171, 172, 173, 177, 179, 181, 186, 187, 191, 193, 197, 199, 201, 205, 207, 208, 210]\n",
      "[1, 2, 4, 6, 10, 12, 14, 15, 18, 20, 21, 22, 26, 27, 28, 29, 31, 33, 38, 44, 46, 48, 52, 53, 55, 56, 57, 58, 59, 60, 61, 64, 66, 67, 68, 74, 75, 76, 79, 81, 83, 84, 90, 91, 93, 94, 96, 97, 103, 105, 107, 108, 120, 121, 122, 123, 124, 126, 129, 132, 136, 138, 139, 142, 144, 147, 148, 149, 150, 153, 156, 160, 161, 162, 163, 168, 169, 170, 172, 173, 174, 177, 180, 182, 184, 190, 192, 193, 196, 197, 198, 200, 205, 206, 210]\n",
      "imgs/twitter/FIotM6hWQAURLqG.jpeg\n",
      "[1, 2, 3, 4, 5, 6, 7, 8, 9, 10, 13, 15, 18, 20, 21, 23, 29, 34, 38, 40, 45, 47, 49, 56, 57, 59, 61, 62, 65, 68, 69, 70, 71, 76, 77, 80, 82, 84, 90, 91, 93, 94, 96, 97, 100, 102, 104, 111, 113, 115, 117, 119, 122, 123, 124, 132, 133, 135, 137, 138, 141, 147, 148, 149, 152, 154, 156, 159, 160, 161, 162, 163, 165, 166, 167, 170, 171, 173, 174, 175, 180, 182, 184, 186, 188, 191, 192, 197, 198, 199, 200, 201, 203, 205, 206, 207, 210]\n",
      "imgs/twitter/FIzI7g2VQAA_R9d.jpeg\n",
      "imgs/twitter/FA6ijkxUUAARLJ_.jpeg\n",
      "[1, 2, 3, 4, 7, 8, 14, 15, 18, 19, 20, 23, 24, 27, 30, 33, 38, 39, 42, 46, 47, 50, 51, 54, 57, 58, 61, 64, 69, 71, 76, 80, 81, 82, 90, 91, 93, 94, 96, 97, 99, 101, 102, 103, 104, 105, 106, 108, 110, 111, 112, 114, 116, 117, 123, 127, 129, 130, 131, 133, 134, 137, 140, 142, 143, 144, 147, 149, 150, 151, 153, 154, 156, 158, 159, 161, 162, 163, 164, 167, 168, 170, 172, 174, 175, 179, 187, 188, 189, 190, 191, 192, 193, 196, 199, 200, 201, 202, 203, 206, 208]\n",
      "[91, 93, 97, 98, 99, 103, 111, 121, 122, 127, 135, 136, 137, 138, 147, 150, 159, 160, 164, 165, 166, 167, 168, 169, 179, 183, 196, 197, 199, 200, 201, 203, 204]\n",
      "[5, 6, 7, 18, 19, 38, 41, 43, 44, 55, 56, 57, 59, 69, 77, 78, 79, 80, 91, 93, 97, 103, 111, 117, 121, 127, 129, 136, 137, 138, 139, 145, 147, 148, 158, 160, 161, 163, 167, 177, 185, 196, 197, 198, 200, 201, 202, 203, 204]\n"
     ]
    },
    {
     "name": "stdout",
     "output_type": "stream",
     "text": [
      "[2, 3, 6, 8, 9, 12, 18, 19, 22, 26, 27, 28, 29, 30, 31, 33, 34, 38, 43, 44, 47, 49, 53, 56, 58, 60, 65, 66, 67, 68, 69, 72, 74, 75, 76, 78, 80, 81, 82, 83, 84, 90, 91, 93, 94, 96, 98, 100, 103, 105, 111, 112, 116, 117, 118, 119, 123, 125, 132, 133, 135, 140, 143, 147, 148, 149, 151, 152, 154, 156, 159, 161, 165, 167, 170, 175, 179, 181, 183, 184, 185, 186, 188, 190, 193, 196, 198, 199, 203, 207, 208, 210]\n",
      "[1, 2, 3, 4, 5, 7, 8, 10, 11, 12, 13, 15, 18, 20, 21, 22, 28, 29, 30, 32, 34, 38, 40, 41, 43, 44, 45, 49, 50, 54, 56, 62, 64, 66, 67, 68, 70, 72, 73, 74, 75, 78, 80, 81, 83, 90, 91, 93, 94, 96, 97, 98, 99, 103, 104, 105, 110, 111, 113, 115, 117, 120, 121, 122, 124, 126, 127, 130, 133, 135, 139, 142, 143, 144, 146, 147, 148, 150, 152, 153, 159, 160, 165, 166, 168, 170, 172, 173, 174, 177, 179, 181, 182, 183, 184, 185, 187, 188, 190, 192, 193, 196, 197, 199, 201, 204, 205]\n",
      "imgs/twitter/FA5bEZlXMAA5G26.jpeg\n",
      "[2, 3, 5, 6, 7, 9, 10, 13, 18, 20, 23, 24, 28, 30, 33, 38, 40, 41, 42, 43, 49, 51, 53, 54, 55, 56, 57, 58, 59, 60, 62, 63, 77, 78, 79, 81, 84, 90, 91, 93, 94, 96, 98, 101, 102, 104, 105, 113, 115, 118, 119, 123, 124, 125, 126, 127, 129, 130, 131, 138, 139, 140, 142, 143, 148, 149, 152, 156, 158, 160, 161, 162, 166, 169, 171, 173, 174, 175, 178, 181, 184, 186, 187, 189, 190, 192, 193, 197, 199, 200, 201, 204, 205, 206, 208]\n",
      "[1, 2, 3, 10, 13, 14, 15, 18, 24, 25, 28, 34, 38, 39, 40, 42, 43, 45, 46, 48, 49, 51, 53, 54, 56, 58, 62, 64, 67, 68, 71, 74, 76, 78, 80, 81, 82, 83, 84, 90, 91, 93, 94, 96, 97, 98, 99, 101, 104, 113, 114, 115, 116, 117, 120, 125, 126, 127, 129, 130, 132, 135, 136, 143, 148, 149, 150, 152, 154, 156, 158, 159, 160, 162, 165, 168, 172, 174, 175, 181, 182, 186, 187, 189, 191, 192, 193, 197, 198, 199, 200, 201, 202, 205, 207, 208, 209]\n",
      "[]\n",
      "[]\n",
      "[2, 3, 6, 12, 13, 15, 18, 21, 25, 27, 29, 30, 32, 38, 39, 40, 41, 44, 45, 46, 48, 52, 55, 56, 62, 64, 65, 72, 73, 79, 80, 81, 82, 84, 90, 91, 93, 94, 96, 98, 99, 103, 104, 112, 114, 115, 118, 120, 121, 124, 125, 126, 127, 129, 141, 142, 143, 144, 147, 149, 150, 154, 156, 157, 159, 160, 161, 162, 163, 164, 165, 167, 168, 169, 173, 174, 175, 177, 182, 183, 184, 185, 186, 190, 191, 192, 193, 196, 197, 199, 202, 204, 205, 208, 209]\n",
      "[1, 2, 3, 4, 9, 10, 14, 15, 18, 19, 20, 21, 23, 28, 29, 31, 38, 39, 43, 47, 48, 51, 52, 53, 54, 57, 60, 61, 62, 65, 67, 68, 71, 72, 73, 75, 80, 81, 90, 91, 93, 94, 96, 97, 98, 99, 100, 105, 111, 113, 114, 116, 119, 120, 122, 123, 126, 127, 131, 132, 133, 135, 136, 138, 141, 143, 144, 153, 154, 159, 161, 162, 166, 167, 168, 169, 172, 177, 179, 181, 182, 183, 184, 185, 187, 196, 199, 200, 202, 203, 204, 205, 207, 208, 210]\n",
      "imgs/twitter/FA4cRa-XMAkfx6B.jpeg\n",
      "[4, 5, 6, 9, 10, 11, 18, 19, 20, 23, 25, 26, 29, 32, 34, 38, 40, 41, 43, 44, 45, 46, 47, 54, 56, 58, 59, 64, 67, 68, 69, 76, 77, 78, 79, 80, 81, 83, 84, 90, 91, 93, 94, 96, 97, 98, 99, 101, 103, 105, 108, 110, 113, 114, 115, 119, 120, 121, 127, 128, 133, 134, 138, 140, 142, 143, 144, 145, 148, 149, 150, 151, 154, 159, 160, 164, 165, 166, 167, 177, 179, 182, 184, 187, 188, 190, 192, 197, 200, 203, 205, 206, 207, 208, 210]\n",
      "[2, 3, 4, 5, 6, 10, 11, 14, 18, 21, 25, 26, 31, 32, 38, 43, 45, 46, 48, 50, 55, 57, 59, 60, 61, 64, 69, 71, 73, 75, 82, 83, 91, 93, 94, 98, 99, 100, 103, 104, 105, 107, 110, 113, 116, 117, 118, 119, 122, 124, 125, 131, 136, 137, 138, 139, 141, 142, 148, 149, 150, 151, 154, 157, 159, 162, 163, 167, 170, 172, 174, 177, 180, 182, 183, 185, 186, 187, 188, 189, 190, 191, 192, 193, 196, 197, 199, 201, 204, 205, 207, 209, 210]\n",
      "[1, 2, 3, 4, 8, 10, 14, 18, 20, 27, 28, 30, 32, 38, 39, 42, 44, 45, 51, 52, 55, 56, 58, 59, 61, 62, 67, 68, 70, 71, 72, 74, 76, 77, 90, 91, 93, 94, 96, 97, 102, 105, 110, 112, 114, 116, 122, 123, 124, 126, 141, 142, 144, 147, 150, 155, 159, 160, 162, 163, 164, 165, 166, 167, 168, 170, 171, 173, 175, 179, 181, 185, 187, 188, 189, 190, 191, 197, 198, 199, 200, 202, 203, 204, 208, 209, 210]\n",
      "[]\n",
      "[1, 2, 4, 9, 11, 12, 13, 18, 20, 22, 26, 31, 33, 34, 38, 40, 41, 42, 43, 44, 46, 48, 49, 51, 52, 57, 58, 60, 61, 66, 67, 68, 69, 71, 72, 76, 79, 80, 81, 82, 84, 90, 91, 93, 94, 96, 98, 100, 101, 103, 105, 106, 110, 112, 113, 116, 118, 119, 122, 123, 126, 130, 131, 133, 135, 138, 143, 148, 149, 154, 156, 160, 161, 162, 164, 165, 166, 169, 170, 171, 174, 177, 179, 181, 184, 185, 186, 189, 190, 191, 192, 193, 196, 198, 200, 205, 206, 207, 208, 209, 210]\n",
      "[]\n",
      "imgs/twitter/FA4Xqy-XEAYSGH1.jpeg\n",
      "[1, 2, 3, 4, 5, 8, 11, 12, 13, 15, 18, 19, 24, 26, 27, 28, 31, 34, 38, 40, 41, 44, 46, 48, 51, 52, 53, 54, 56, 58, 60, 71, 74, 75, 76, 77, 78, 79, 80, 81, 82, 83, 84, 90, 91, 93, 94, 96, 98, 99, 100, 102, 110, 112, 115, 119, 124, 127, 132, 133, 136, 137, 140, 144, 147, 148, 150, 151, 152, 153, 154, 156, 157, 158, 161, 162, 164, 167, 171, 172, 184, 188, 189, 191, 192, 196, 202, 203, 206, 208, 210]\n",
      "imgs/twitter/FA4PFdkWYBIuKRg.jpeg\n",
      "imgs/twitter/FA4NgUfXIA80TGx.jpeg\n",
      "imgs/twitter/FA4gaIcWUAMmySl.jpeg\n",
      "[3, 8, 10, 14, 18, 19, 20, 21, 22, 24, 25, 26, 27, 28, 29, 30, 31, 32, 33, 34, 38, 39, 40, 43, 44, 45, 46, 47, 48, 51, 52, 54, 56, 59, 61, 65, 68, 73, 77, 80, 82, 83, 84, 90, 91, 93, 94, 96, 98, 100, 103, 104, 105, 108, 114, 115, 121, 123, 127, 129, 134, 135, 138, 139, 141, 144, 147, 149, 150, 152, 156, 159, 161, 162, 163, 167, 170, 172, 175, 177, 179, 184, 186, 187, 192, 193, 197, 199, 202, 204, 205, 206, 207, 208]\n",
      "imgs/twitter/FA4z6EDXEAErNes.jpeg\n",
      "[]\n",
      "[3, 5, 10, 18, 20, 21, 23, 25, 27, 29, 30, 34, 38, 42, 46, 48, 49, 50, 51, 52, 53, 54, 57, 59, 60, 62, 63, 64, 65, 66, 68, 79, 81, 82, 90, 91, 93, 94, 96, 102, 111, 113, 114, 116, 117, 119, 121, 131, 132, 136, 137, 138, 139, 140, 141, 144, 149, 151, 152, 154, 156, 157, 159, 160, 163, 164, 168, 170, 172, 174, 180, 182, 184, 186, 187, 188, 190, 193, 196, 197, 198, 200, 204, 208, 210]\n",
      "[2, 3, 4, 6, 7, 9, 14, 15, 18, 20, 22, 23, 25, 26, 28, 29, 31, 33, 34, 38, 44, 47, 49, 52, 53, 54, 57, 59, 60, 61, 62, 65, 66, 68, 71, 73, 74, 75, 81, 82, 83, 84, 90, 93, 94, 96, 98, 99, 100, 104, 105, 107, 110, 112, 113, 116, 117, 123, 126, 128, 130, 131, 133, 139, 141, 142, 143, 147, 148, 153, 154, 156, 159, 161, 164, 172, 174, 175, 180, 181, 182, 184, 186, 187, 189, 191, 192, 197, 198, 200, 202, 204, 205, 207, 210]\n",
      "[3, 4, 6, 8, 9, 11, 12, 13, 18, 21, 27, 30, 32, 34, 38, 39, 42, 47, 50, 52, 53, 54, 55, 58, 59, 61, 62, 65, 66, 68, 70, 71, 75, 76, 81, 82, 83, 84, 90, 91, 93, 94, 96, 99, 106, 108, 112, 113, 114, 115, 117, 118, 120, 124, 125, 126, 127, 129, 131, 142, 143, 144, 147, 148, 151, 153, 154, 159, 160, 163, 165, 166, 169, 171, 172, 175, 177, 185, 186, 190, 193, 196, 198, 200, 201, 202, 203, 206, 209]\n",
      "imgs/twitter/FA7ZyaNXIAMzXqs.jpeg\n",
      "[2, 3, 5, 7, 8, 9, 12, 14, 18, 21, 22, 23, 25, 26, 27, 29, 30, 31, 38, 39, 42, 44, 45, 48, 51, 52, 53, 57, 58, 59, 60, 62, 63, 65, 66, 67, 69, 70, 71, 76, 78, 79, 81, 83, 90, 91, 93, 94, 96, 97, 98, 99, 100, 102, 103, 104, 106, 114, 115, 116, 119, 121, 127, 128, 131, 133, 134, 139, 142, 148, 151, 153, 154, 156, 157, 158, 162, 163, 166, 167, 168, 170, 175, 178, 179, 187, 188, 190, 191, 192, 198, 200, 203, 205, 208, 209, 210]\n",
      "[1, 2, 3, 4, 6, 10, 11, 12, 14, 15, 18, 20, 21, 22, 25, 28, 31, 32, 33, 34, 38, 39, 41, 45, 47, 51, 55, 57, 59, 62, 65, 66, 71, 75, 77, 79, 81, 82, 90, 91, 93, 94, 96, 99, 103, 106, 108, 110, 111, 114, 115, 122, 123, 124, 125, 126, 127, 129, 130, 131, 132, 135, 139, 143, 144, 149, 150, 152, 154, 163, 164, 165, 166, 168, 172, 173, 174, 177, 179, 180, 182, 184, 185, 187, 191, 193, 196, 197, 201, 202, 204, 205, 210]\n",
      "[]\n",
      "[2, 4, 6, 9, 11, 12, 13, 18, 19, 20, 21, 23, 26, 27, 28, 29, 31, 38, 40, 41, 42, 44, 46, 49, 56, 61, 62, 70, 80, 91, 93, 97, 103, 110, 111, 116, 117, 121, 123, 129, 135, 136, 137, 138, 139, 148, 157, 159, 160, 161, 165, 166, 167, 168, 169, 171, 177, 179, 181, 182, 184, 185, 186, 187, 190, 197, 198, 200, 203, 204, 205]\n",
      "[2, 4, 5, 8, 9, 11, 13, 15, 18, 19, 21, 22, 23, 24, 25, 26, 27, 28, 33, 34, 38, 40, 41, 43, 44, 45, 48, 49, 55, 57, 63, 64, 66, 67, 68, 72, 74, 75, 77, 80, 82, 83, 84, 90, 91, 93, 94, 96, 97, 99, 100, 105, 108, 110, 111, 112, 114, 115, 117, 120, 122, 123, 126, 127, 131, 133, 136, 137, 141, 143, 144, 156, 159, 160, 161, 164, 165, 166, 168, 169, 171, 173, 175, 177, 179, 180, 181, 184, 185, 186, 187, 188, 190, 192, 193, 198, 202, 203, 206, 208, 209]\n"
     ]
    },
    {
     "name": "stdout",
     "output_type": "stream",
     "text": [
      "[2, 3, 5, 8, 9, 10, 13, 18, 19, 21, 22, 23, 25, 27, 28, 31, 38, 40, 42, 43, 45, 46, 48, 49, 50, 53, 57, 58, 62, 65, 66, 67, 69, 70, 71, 76, 78, 79, 81, 90, 91, 93, 94, 96, 97, 101, 102, 104, 105, 112, 115, 116, 118, 121, 122, 124, 129, 134, 135, 142, 143, 144, 147, 150, 151, 153, 154, 157, 159, 161, 162, 165, 166, 167, 169, 172, 173, 174, 177, 179, 181, 182, 185, 187, 189, 190, 192, 193, 197, 201, 202, 203, 204, 206, 207, 209, 210]\n",
      "[3, 4, 5, 6, 8, 10, 11, 14, 18, 19, 21, 22, 23, 25, 28, 30, 31, 38, 39, 40, 41, 42, 45, 46, 47, 50, 52, 54, 56, 58, 65, 66, 67, 68, 69, 70, 71, 72, 73, 82, 84, 90, 91, 93, 94, 96, 98, 99, 102, 104, 113, 116, 118, 119, 120, 123, 125, 127, 129, 130, 131, 132, 133, 136, 138, 139, 141, 142, 144, 147, 154, 155, 160, 164, 168, 169, 171, 173, 177, 179, 187, 188, 190, 193, 196, 198, 200, 202, 204, 206, 207, 208, 209, 210]\n",
      "imgs/twitter/FA4WkUVWUAcer0X.jpeg\n",
      "imgs/twitter/FA4330WXMAgRXOw.jpeg\n",
      "[]\n",
      "[1, 2, 3, 4, 5, 6, 8, 9, 11, 12, 18, 20, 21, 22, 23, 24, 25, 29, 30, 32, 33, 34, 38, 41, 43, 44, 45, 46, 48, 51, 52, 56, 57, 58, 60, 62, 67, 75, 76, 81, 82, 84, 90, 91, 93, 94, 96, 97, 100, 101, 102, 104, 105, 106, 108, 114, 115, 121, 123, 125, 126, 127, 131, 133, 136, 137, 141, 148, 150, 153, 154, 156, 158, 159, 161, 167, 169, 170, 171, 173, 175, 179, 180, 181, 183, 184, 189, 192, 196, 203, 204, 205, 206, 209, 210]\n",
      "imgs/twitter/FA4OYJWWUBICFMU.jpeg\n",
      "[1, 3, 8, 9, 11, 12, 13, 14, 18, 19, 20, 21, 24, 26, 38, 39, 40, 44, 49, 50, 51, 52, 53, 56, 58, 59, 61, 62, 66, 68, 69, 73, 75, 81, 83, 84, 90, 91, 93, 94, 96, 100, 102, 103, 104, 105, 108, 110, 111, 112, 116, 118, 119, 120, 122, 124, 132, 135, 136, 140, 141, 144, 146, 147, 150, 151, 153, 155, 158, 159, 160, 164, 165, 166, 168, 169, 170, 171, 173, 177, 179, 182, 184, 186, 187, 189, 192, 196, 197, 198, 200, 201, 203, 206, 209]\n",
      "[2, 3, 7, 9, 11, 13, 18, 19, 20, 22, 23, 24, 25, 27, 28, 30, 31, 34, 38, 41, 42, 43, 44, 47, 48, 49, 52, 54, 57, 59, 61, 62, 63, 64, 68, 71, 72, 74, 75, 78, 79, 90, 91, 93, 94, 96, 98, 100, 101, 102, 104, 106, 107, 108, 110, 111, 112, 114, 116, 118, 119, 120, 121, 123, 126, 129, 131, 132, 133, 136, 137, 140, 141, 142, 143, 148, 150, 151, 154, 159, 160, 162, 163, 164, 166, 167, 168, 171, 174, 177, 180, 183, 185, 187, 189, 193, 197, 200, 202, 203, 204, 208, 209, 210]\n",
      "[2, 4, 5, 7, 8, 11, 13, 14, 15, 18, 21, 24, 26, 28, 29, 33, 34, 38, 40, 41, 44, 46, 50, 52, 53, 54, 57, 59, 60, 62, 63, 64, 66, 69, 70, 71, 72, 73, 75, 78, 79, 80, 83, 90, 91, 93, 94, 96, 100, 101, 104, 105, 111, 113, 115, 116, 117, 122, 124, 126, 127, 129, 130, 132, 133, 135, 137, 138, 141, 143, 144, 148, 150, 151, 152, 156, 157, 165, 166, 169, 170, 172, 173, 175, 178, 183, 184, 185, 186, 189, 190, 191, 192, 197, 201, 202, 203, 204, 205, 208, 209, 210]\n",
      "imgs/twitter/FA4YGyUWUAEIMf2.jpeg\n",
      "[2, 3, 6, 10, 12, 15, 18, 19, 20, 21, 26, 27, 30, 31, 33, 34, 38, 39, 42, 45, 49, 50, 51, 52, 53, 56, 57, 59, 61, 63, 64, 67, 68, 70, 82, 84, 90, 91, 93, 94, 96, 98, 99, 103, 104, 105, 116, 119, 120, 122, 123, 124, 125, 126, 127, 131, 133, 135, 139, 141, 142, 143, 144, 147, 148, 151, 157, 159, 160, 162, 163, 168, 169, 173, 174, 177, 179, 182, 183, 187, 188, 189, 191, 192, 197, 199, 200, 201, 208, 209, 210]\n",
      "[1, 3, 5, 6, 7, 8, 9, 13, 15, 18, 19, 21, 26, 30, 32, 33, 34, 38, 40, 42, 44, 45, 46, 48, 49, 54, 55, 62, 65, 66, 67, 68, 70, 71, 74, 76, 79, 84, 90, 91, 93, 94, 96, 97, 98, 104, 111, 113, 114, 122, 123, 124, 126, 129, 133, 136, 137, 139, 142, 143, 144, 148, 149, 151, 154, 159, 164, 165, 166, 168, 169, 170, 174, 177, 179, 181, 187, 189, 192, 193, 196, 199, 200, 203, 205, 207, 208, 209, 210]\n",
      "[]\n",
      "[1, 4, 5, 7, 9, 12, 13, 18, 20, 21, 22, 23, 25, 26, 27, 28, 29, 30, 33, 34, 38, 40, 41, 42, 47, 49, 50, 52, 53, 55, 59, 64, 67, 70, 71, 74, 75, 77, 83, 91, 93, 94, 97, 98, 105, 110, 117, 118, 119, 121, 124, 125, 127, 129, 130, 132, 136, 138, 139, 141, 142, 147, 149, 150, 153, 154, 157, 158, 160, 162, 163, 164, 167, 169, 170, 172, 174, 179, 180, 181, 186, 187, 188, 189, 191, 193, 196, 197, 198, 202, 203, 204, 208]\n",
      "[1, 2, 5, 11, 13, 14, 18, 19, 22, 23, 24, 28, 32, 33, 38, 42, 43, 49, 50, 53, 54, 55, 57, 59, 60, 61, 64, 65, 70, 73, 74, 76, 78, 80, 83, 90, 91, 93, 94, 96, 99, 101, 102, 103, 104, 105, 107, 108, 110, 111, 122, 123, 125, 127, 131, 132, 133, 136, 138, 140, 142, 143, 144, 147, 148, 151, 153, 157, 160, 161, 163, 165, 166, 167, 168, 170, 171, 178, 179, 180, 182, 184, 185, 186, 187, 189, 191, 193, 197, 199, 202, 203, 205, 208, 209, 210]\n",
      "imgs/twitter/FA4ZjmkWYAolRnZ.jpeg\n",
      "[1, 2, 4, 6, 10, 12, 14, 15, 18, 20, 21, 22, 26, 27, 28, 29, 31, 33, 38, 44, 46, 48, 52, 53, 55, 56, 57, 58, 59, 60, 61, 64, 66, 67, 68, 74, 75, 76, 79, 81, 83, 84, 90, 91, 93, 94, 96, 97, 103, 105, 107, 108, 120, 121, 122, 123, 124, 126, 129, 132, 136, 138, 139, 142, 144, 147, 148, 149, 150, 153, 156, 160, 161, 162, 163, 168, 169, 170, 172, 173, 174, 177, 180, 182, 184, 190, 192, 193, 196, 197, 198, 200, 205, 206, 210]\n",
      "imgs/twitter/FA4cFAqX0AkLZjl.jpeg\n",
      "imgs/twitter/FA4cMaHWEAQ9371.jpeg\n",
      "[]\n",
      "[1, 2, 3, 5, 9, 10, 12, 13, 15, 18, 19, 24, 25, 26, 27, 28, 30, 34, 38, 40, 45, 46, 48, 50, 53, 59, 60, 64, 65, 67, 68, 73, 76, 83, 84, 90, 91, 93, 94, 96, 98, 99, 100, 102, 103, 106, 110, 113, 114, 115, 116, 118, 121, 122, 123, 126, 132, 133, 135, 136, 137, 138, 139, 143, 149, 151, 152, 156, 163, 166, 169, 170, 171, 173, 174, 177, 179, 183, 184, 185, 186, 187, 192, 196, 197, 198, 201, 202, 204, 205, 206, 207, 208, 209, 210]\n",
      "[]\n",
      "imgs/twitter/FA6czUfXIAIe2jv.jpeg\n",
      "[18, 19, 22, 23, 26, 27, 30, 31, 38, 45, 50, 53, 56, 57, 60, 68, 76, 78, 93, 122, 123, 128, 129, 150, 156]\n",
      "[3, 7, 8, 9, 15, 18, 19, 21, 22, 24, 25, 26, 28, 32, 33, 34, 38, 39, 42, 43, 47, 48, 49, 50, 52, 54, 55, 56, 65, 66, 67, 68, 69, 72, 75, 82, 90, 91, 93, 94, 96, 98, 101, 104, 105, 111, 112, 113, 115, 116, 117, 118, 122, 123, 130, 132, 133, 137, 141, 144, 147, 149, 153, 154, 156, 158, 159, 160, 162, 163, 164, 165, 169, 171, 173, 174, 175, 180, 182, 183, 186, 188, 189, 191, 192, 193, 196, 199, 200, 203, 204, 205, 206, 207, 208]\n",
      "[2, 4, 5, 7, 8, 9, 12, 14, 18, 19, 22, 25, 26, 28, 31, 33, 38, 40, 43, 46, 47, 49, 50, 52, 57, 58, 59, 60, 61, 62, 66, 67, 68, 69, 70, 73, 75, 84, 90, 91, 93, 94, 96, 97, 100, 102, 103, 104, 105, 106, 111, 112, 113, 115, 116, 117, 119, 120, 121, 123, 124, 125, 127, 130, 132, 138, 141, 142, 143, 144, 147, 148, 149, 151, 152, 154, 156, 157, 158, 160, 161, 165, 169, 171, 172, 174, 177, 181, 183, 186, 188, 190, 191, 193, 196, 197, 198, 205, 207, 210]\n",
      "[2, 3, 4, 8, 9, 12, 13, 14, 18, 19, 20, 23, 25, 26, 29, 38, 42, 43, 45, 47, 49, 52, 53, 54, 57, 58, 59, 60, 61, 62, 64, 65, 67, 69, 76, 77, 81, 90, 91, 93, 94, 96, 97, 98, 99, 105, 107, 108, 111, 112, 113, 115, 116, 117, 119, 120, 122, 123, 126, 129, 131, 133, 135, 136, 137, 138, 141, 142, 143, 147, 150, 151, 153, 159, 160, 162, 163, 164, 165, 166, 168, 169, 170, 174, 175, 183, 187, 189, 193, 198, 200, 201, 202, 204, 205, 209, 210]\n",
      "imgs/twitter/FA4wPOzWQAIcXdW.jpeg\n",
      "imgs/twitter/FA4X8oTWEAILtqS.jpeg\n",
      "[0, 1, 2, 3, 5, 12, 13, 14, 16, 19, 20, 21, 22, 30, 31, 32, 34, 35, 36, 38, 39, 40, 50, 52, 54, 56, 59, 63, 65, 66, 75, 85, 87, 89, 91, 92, 105, 107, 113, 115, 117, 120, 121, 123, 124, 125, 126, 127, 128, 131, 134, 137, 138, 139, 143, 147, 149, 152, 154, 155, 158, 160, 162, 170, 173, 178, 179, 181, 182]\n",
      "[1, 2, 3, 4, 6, 10, 11, 14, 15, 18, 19, 21, 22, 23, 27, 33, 34, 38, 39, 42, 47, 48, 50, 51, 52, 53, 54, 55, 56, 64, 66, 67, 79, 80, 83, 84, 90, 91, 93, 94, 96, 97, 104, 108, 114, 115, 116, 119, 120, 122, 123, 124, 125, 126, 127, 131, 132, 133, 136, 142, 143, 147, 150, 156, 157, 158, 159, 160, 162, 168, 170, 171, 172, 175, 179, 180, 181, 186, 187, 191, 196, 197, 199, 201, 203]\n",
      "[2, 5, 9, 10, 12, 18, 22, 23, 24, 26, 29, 30, 31, 33, 38, 39, 40, 43, 45, 46, 47, 51, 53, 55, 61, 62, 65, 66, 67, 68, 71, 75, 76, 78, 80, 81, 82, 90, 91, 93, 94, 96, 102, 103, 116, 118, 119, 120, 121, 123, 126, 131, 132, 138, 140, 142, 144, 150, 156, 159, 160, 161, 163, 166, 168, 170, 171, 172, 177, 179, 182, 183, 184, 185, 187, 191, 192, 198, 199, 200, 201, 202, 204, 206, 207, 210]\n",
      "[1, 4, 5, 6, 7, 8, 9, 10, 14, 15, 18, 19, 20, 21, 23, 24, 26, 29, 30, 34, 38, 41, 43, 44, 46, 47, 48, 52, 53, 54, 55, 57, 58, 60, 61, 62, 64, 65, 68, 71, 75, 78, 79, 80, 81, 84, 90, 91, 93, 94, 96, 97, 99, 101, 102, 103, 105, 107, 108, 111, 115, 117, 118, 119, 120, 124, 128, 130, 133, 134, 135, 138, 139, 142, 144, 147, 149, 150, 156, 157, 160, 161, 163, 164, 167, 168, 169, 171, 172, 175, 177, 179, 180, 183, 185, 186, 187, 190, 192, 196, 200, 201, 205, 206, 207, 208, 209, 210]\n"
     ]
    },
    {
     "name": "stdout",
     "output_type": "stream",
     "text": [
      "[3, 4, 8, 21, 31, 36, 40, 41, 67, 115, 127, 139, 149, 150, 156]\n",
      "[1, 2, 4, 8, 9, 10, 13, 15, 18, 23, 24, 28, 29, 33, 38, 39, 40, 41, 42, 44, 46, 47, 48, 50, 51, 52, 54, 55, 56, 57, 58, 61, 62, 63, 64, 65, 66, 67, 68, 71, 72, 73, 74, 76, 77, 78, 82, 84, 90, 91, 93, 94, 96, 99, 101, 102, 103, 104, 105, 110, 111, 115, 116, 117, 120, 124, 125, 126, 127, 129, 135, 140, 142, 143, 146, 147, 149, 152, 153, 154, 156, 157, 158, 164, 165, 166, 169, 170, 171, 172, 174, 179, 182, 183, 188, 193, 196, 206, 208]\n",
      "[1, 2, 3, 4, 6, 8, 11, 18, 21, 23, 24, 30, 31, 34, 38, 39, 41, 44, 45, 47, 48, 49, 50, 53, 54, 59, 60, 61, 64, 67, 69, 72, 76, 77, 78, 79, 81, 82, 83, 84, 90, 91, 93, 94, 96, 97, 101, 102, 103, 104, 105, 111, 117, 118, 119, 121, 125, 127, 129, 134, 135, 138, 139, 141, 142, 143, 147, 151, 153, 154, 156, 160, 161, 162, 163, 164, 168, 170, 172, 173, 177, 181, 182, 183, 184, 186, 187, 188, 190, 193, 196, 197, 198, 199, 200, 201, 202, 203, 204, 210]\n",
      "[2, 4, 5, 7, 8, 9, 10, 11, 15, 18, 19, 21, 22, 28, 29, 34, 38, 39, 42, 44, 48, 52, 55, 60, 61, 63, 67, 68, 69, 71, 72, 75, 81, 82, 83, 91, 93, 94, 97, 98, 99, 101, 103, 106, 111, 113, 115, 118, 119, 122, 127, 131, 133, 136, 137, 143, 149, 150, 151, 152, 159, 161, 166, 168, 169, 170, 173, 177, 179, 181, 182, 183, 186, 187, 196, 199, 200, 203, 204, 206, 208, 209]\n",
      "imgs/twitter/FA4Nkg2X0AEVeAF.jpeg\n",
      "[2, 3, 4, 6, 9, 11, 12, 13, 14, 18, 20, 21, 23, 24, 25, 26, 31, 32, 33, 38, 39, 40, 41, 42, 44, 48, 49, 50, 51, 53, 58, 59, 60, 63, 65, 68, 69, 71, 72, 75, 76, 77, 80, 83, 90, 91, 93, 94, 96, 97, 98, 99, 102, 104, 108, 111, 112, 116, 118, 120, 122, 123, 126, 127, 129, 130, 131, 135, 136, 137, 140, 148, 151, 152, 154, 156, 160, 161, 163, 165, 166, 167, 169, 174, 177, 181, 186, 187, 188, 189, 196, 198, 199, 200, 204, 205, 206, 207, 209, 210]\n",
      "[4, 7, 10, 11, 12, 18, 20, 21, 23, 25, 30, 33, 34, 38, 40, 43, 46, 47, 50, 51, 55, 56, 60, 65, 66, 78, 79, 82, 83, 90, 91, 93, 94, 96, 98, 100, 101, 103, 104, 105, 108, 110, 112, 114, 116, 117, 118, 120, 122, 123, 127, 132, 133, 136, 139, 147, 149, 151, 152, 154, 156, 158, 159, 164, 166, 168, 169, 173, 174, 175, 177, 179, 180, 184, 186, 189, 193, 197, 201, 202, 205, 206, 207, 208, 209, 210]\n",
      "[1, 3, 4, 7, 11, 12, 13, 15, 18, 20, 21, 23, 25, 26, 27, 30, 31, 32, 34, 38, 39, 42, 43, 44, 45, 46, 49, 54, 55, 56, 60, 64, 67, 69, 70, 71, 72, 76, 77, 80, 83, 84, 90, 91, 93, 94, 96, 100, 112, 114, 115, 118, 119, 121, 122, 126, 133, 135, 136, 138, 139, 143, 147, 149, 153, 154, 156, 157, 159, 160, 164, 165, 166, 169, 170, 172, 173, 174, 177, 180, 181, 184, 189, 190, 191, 202, 203, 207, 209, 210]\n",
      "[5, 9, 12, 18, 19, 20, 21, 23, 25, 27, 29, 32, 33, 34, 38, 39, 47, 48, 51, 52, 53, 61, 62, 63, 64, 66, 71, 73, 76, 79, 82, 83, 84, 90, 91, 93, 94, 96, 99, 102, 110, 111, 112, 115, 116, 117, 118, 119, 120, 121, 123, 126, 127, 128, 131, 133, 137, 139, 143, 144, 148, 149, 151, 152, 153, 154, 156, 157, 158, 159, 161, 162, 163, 164, 165, 166, 169, 170, 171, 173, 174, 175, 179, 181, 182, 183, 187, 190, 193, 196, 198, 199, 201, 203, 205, 206, 208, 209]\n",
      "[1, 2, 3, 5, 6, 7, 9, 11, 12, 18, 23, 28, 29, 31, 34, 38, 39, 41, 42, 44, 48, 49, 51, 52, 54, 59, 61, 62, 64, 65, 66, 73, 75, 77, 78, 79, 80, 81, 90, 91, 93, 94, 96, 97, 98, 101, 104, 105, 113, 117, 118, 122, 126, 129, 130, 132, 133, 135, 136, 137, 138, 140, 141, 151, 152, 154, 156, 157, 161, 162, 164, 165, 166, 168, 169, 170, 171, 172, 175, 177, 181, 184, 185, 186, 192, 193, 196, 197, 198, 203, 204, 208]\n",
      "[2, 5, 6, 7, 8, 10, 11, 13, 14, 15, 18, 19, 20, 27, 28, 30, 31, 38, 40, 41, 42, 43, 44, 46, 48, 49, 51, 52, 53, 55, 56, 57, 58, 59, 60, 62, 68, 69, 70, 72, 74, 75, 76, 78, 84, 90, 91, 93, 94, 96, 108, 110, 111, 114, 118, 119, 120, 121, 123, 124, 126, 127, 128, 130, 131, 133, 135, 139, 141, 143, 147, 149, 150, 152, 154, 156, 161, 162, 164, 166, 167, 168, 170, 171, 172, 177, 179, 180, 183, 184, 185, 186, 187, 189, 190, 192, 196, 197, 198, 200, 207, 208, 209, 210]\n",
      "[2, 3, 4, 6, 7, 9, 14, 18, 22, 24, 27, 29, 31, 33, 34, 38, 40, 44, 47, 48, 50, 52, 55, 59, 61, 64, 67, 68, 69, 70, 72, 73, 74, 78, 82, 84, 90, 91, 93, 94, 96, 103, 104, 105, 108, 111, 112, 113, 114, 116, 117, 118, 119, 120, 121, 125, 127, 129, 130, 131, 132, 133, 136, 138, 139, 141, 143, 144, 147, 148, 150, 151, 152, 153, 154, 160, 162, 163, 165, 172, 174, 177, 179, 183, 184, 186, 188, 189, 191, 192, 193, 196, 197, 202, 203, 207, 210]\n",
      "[2, 4, 6, 7, 8, 9, 10, 11, 14, 15, 18, 20, 21, 23, 24, 28, 29, 32, 33, 34, 38, 39, 40, 46, 48, 51, 54, 55, 57, 61, 62, 64, 65, 66, 68, 70, 72, 73, 75, 76, 77, 78, 80, 83, 90, 91, 93, 94, 96, 98, 99, 101, 102, 104, 105, 108, 110, 111, 112, 113, 115, 116, 117, 119, 122, 123, 125, 132, 133, 136, 142, 143, 144, 147, 156, 159, 160, 166, 167, 168, 173, 174, 177, 180, 182, 183, 185, 186, 189, 191, 192, 197, 199, 203, 204, 208, 210]\n",
      "[1, 3, 5, 6, 7, 10, 11, 13, 15, 18, 21, 23, 26, 29, 30, 31, 32, 33, 34, 38, 39, 41, 42, 43, 46, 52, 54, 55, 61, 65, 66, 67, 68, 69, 73, 76, 77, 78, 79, 80, 82, 83, 90, 91, 93, 94, 96, 99, 100, 101, 104, 105, 108, 110, 112, 113, 117, 118, 119, 120, 122, 126, 127, 129, 131, 132, 136, 138, 139, 140, 141, 143, 144, 151, 152, 156, 159, 161, 166, 167, 170, 173, 174, 175, 179, 180, 181, 182, 185, 188, 189, 190, 191, 192, 199, 200, 202, 203, 204, 205, 206, 208, 210]\n",
      "[2, 4, 9, 12, 13, 15, 18, 19, 20, 21, 22, 23, 28, 29, 38, 42, 44, 46, 48, 51, 52, 57, 58, 59, 64, 67, 71, 74, 75, 76, 81, 82, 90, 91, 93, 94, 96, 98, 104, 107, 108, 111, 113, 114, 116, 117, 118, 121, 122, 129, 131, 132, 133, 139, 140, 142, 143, 147, 148, 150, 152, 156, 157, 159, 161, 162, 163, 164, 166, 167, 169, 171, 174, 175, 177, 179, 180, 184, 185, 190, 191, 192, 193, 196, 197, 199, 201, 203, 207, 208, 209]\n",
      "[6, 7, 8, 9, 10, 11, 12, 14, 15, 18, 20, 26, 27, 29, 31, 32, 38, 39, 40, 41, 43, 44, 46, 47, 48, 49, 50, 52, 56, 60, 61, 64, 66, 68, 71, 73, 75, 77, 80, 83, 84, 90, 91, 93, 94, 96, 97, 98, 103, 104, 108, 119, 121, 122, 123, 124, 126, 129, 133, 137, 138, 142, 144, 145, 147, 154, 156, 157, 169, 171, 175, 179, 180, 181, 182, 184, 186, 187, 188, 189, 192, 193, 196, 198, 199, 205, 207, 208]\n",
      "imgs/twitter/FA6b0i1WQAEVRvZ.jpeg\n",
      "[3, 9, 11, 13, 18, 19, 20, 21, 22, 23, 24, 26, 29, 31, 32, 38, 40, 45, 50, 51, 55, 58, 60, 61, 65, 69, 71, 72, 77, 78, 79, 80, 81, 82, 83, 90, 91, 93, 94, 96, 97, 98, 101, 102, 103, 105, 111, 112, 115, 116, 118, 120, 121, 125, 127, 129, 130, 131, 133, 134, 136, 137, 139, 141, 143, 144, 148, 149, 152, 154, 156, 157, 158, 161, 163, 164, 166, 167, 170, 174, 175, 184, 188, 190, 191, 192, 193, 196, 198, 199, 202, 203, 205, 206, 207]\n",
      "[3, 4, 6, 8, 18, 22, 24, 25, 26, 27, 29, 31, 34, 38, 39, 40, 41, 43, 44, 45, 47, 48, 51, 52, 53, 57, 60, 64, 65, 66, 67, 68, 71, 72, 75, 77, 79, 80, 81, 83, 90, 91, 93, 94, 96, 98, 99, 101, 102, 104, 105, 108, 111, 112, 114, 115, 121, 123, 124, 125, 126, 127, 129, 130, 132, 136, 138, 142, 143, 145, 148, 150, 153, 154, 158, 159, 160, 161, 162, 165, 166, 169, 170, 171, 172, 174, 175, 179, 181, 182, 183, 185, 187, 192, 193, 200, 201, 204, 205, 208]\n",
      "[]\n",
      "[1, 2, 3, 4, 7, 8, 10, 11, 13, 15, 18, 20, 26, 27, 29, 30, 34, 38, 40, 41, 43, 44, 45, 46, 49, 50, 52, 54, 55, 56, 62, 66, 68, 69, 73, 74, 75, 81, 82, 83, 84, 90, 91, 93, 94, 96, 97, 99, 100, 101, 104, 111, 112, 113, 114, 115, 120, 122, 124, 126, 129, 131, 133, 141, 143, 144, 147, 149, 151, 154, 159, 160, 161, 164, 166, 168, 170, 173, 177, 179, 180, 181, 182, 183, 184, 186, 188, 189, 191, 192, 193, 198, 200, 201, 203, 204, 205, 209, 210]\n",
      "[]\n",
      "imgs/twitter/FA4QOZVWUBA-Tdp.jpeg\n",
      "[1, 2, 3, 4, 5, 9, 11, 13, 14, 18, 22, 23, 24, 28, 29, 38, 40, 45, 46, 47, 48, 50, 52, 54, 55, 56, 58, 60, 61, 62, 63, 64, 65, 67, 68, 71, 72, 76, 77, 78, 79, 80, 84, 90, 91, 93, 94, 96, 99, 100, 101, 102, 103, 105, 106, 111, 112, 114, 115, 116, 118, 119, 122, 126, 127, 129, 130, 132, 133, 135, 136, 137, 138, 139, 143, 144, 150, 152, 159, 160, 161, 162, 164, 168, 172, 175, 177, 179, 180, 181, 184, 185, 188, 189, 190, 191, 193, 197, 198, 200, 201, 202, 203, 204, 205, 209]\n",
      "imgs/twitter/FA4h9VBX0BA9H-Z.jpeg\n",
      "[2, 9, 13, 14, 15, 18, 22, 25, 26, 28, 29, 32, 33, 38, 39, 41, 43, 46, 47, 54, 56, 57, 58, 64, 65, 67, 72, 74, 76, 77, 78, 79, 82, 90, 91, 93, 94, 96, 100, 105, 113, 114, 115, 119, 120, 122, 123, 124, 125, 126, 131, 132, 133, 136, 139, 141, 143, 147, 150, 151, 153, 154, 157, 158, 160, 162, 164, 170, 171, 172, 174, 179, 185, 186, 187, 196, 197, 198, 199, 200, 201, 203, 205, 208, 209, 210]\n",
      "imgs/twitter/FA6Mcj0WYAArfDH.jpeg\n",
      "[1, 4, 5, 7, 11, 12, 13, 14, 18, 20, 21, 24, 26, 27, 28, 32, 38, 39, 40, 42, 44, 48, 49, 50, 51, 52, 54, 55, 56, 58, 61, 65, 67, 68, 75, 76, 81, 90, 91, 93, 94, 96, 99, 101, 103, 104, 105, 108, 111, 113, 115, 117, 118, 120, 121, 122, 124, 125, 126, 127, 132, 133, 139, 141, 143, 149, 151, 156, 158, 162, 167, 168, 169, 170, 172, 175, 180, 181, 183, 184, 185, 186, 190, 192, 193, 196, 197, 198, 203, 205, 207]\n"
     ]
    },
    {
     "name": "stdout",
     "output_type": "stream",
     "text": [
      "[1, 3, 7, 9, 11, 13, 14, 15, 18, 20, 21, 23, 24, 25, 28, 29, 30, 32, 33, 34, 38, 39, 41, 42, 43, 44, 45, 46, 47, 48, 49, 50, 52, 53, 54, 55, 57, 59, 61, 64, 65, 66, 68, 69, 72, 77, 80, 81, 82, 90, 91, 93, 94, 96, 97, 98, 99, 100, 105, 108, 110, 112, 116, 122, 123, 126, 127, 135, 143, 147, 148, 152, 154, 156, 161, 162, 163, 164, 166, 167, 168, 170, 172, 175, 181, 183, 184, 185, 187, 191, 193, 196, 197, 198, 199, 200, 204, 205, 207, 210]\n",
      "[1, 2, 3, 6, 8, 9, 10, 11, 13, 15, 18, 19, 22, 23, 24, 30, 31, 32, 34, 38, 39, 40, 45, 46, 47, 48, 49, 51, 53, 54, 56, 59, 61, 62, 66, 68, 69, 70, 72, 73, 74, 80, 82, 83, 84, 90, 91, 93, 94, 96, 97, 98, 102, 104, 112, 113, 117, 118, 119, 120, 121, 125, 127, 129, 130, 131, 134, 136, 137, 140, 141, 148, 154, 155, 157, 159, 160, 164, 165, 166, 167, 168, 169, 171, 177, 185, 186, 188, 191, 193, 198, 200, 201, 202, 204, 206, 208, 210]\n",
      "[4, 8, 9, 59, 60, 67, 104, 151, 204, 206]\n",
      "[1, 2, 5, 7, 9, 10, 12, 14, 15, 18, 20, 21, 22, 25, 28, 33, 38, 39, 40, 42, 44, 46, 50, 51, 52, 53, 58, 62, 64, 65, 66, 67, 68, 74, 75, 76, 77, 78, 79, 82, 84, 90, 91, 93, 94, 96, 98, 102, 103, 104, 105, 111, 112, 113, 115, 116, 118, 119, 120, 123, 124, 125, 127, 129, 130, 131, 134, 138, 141, 143, 144, 147, 148, 149, 150, 152, 153, 156, 159, 162, 166, 174, 175, 177, 180, 182, 183, 187, 189, 191, 193, 197, 203, 204, 207, 208, 209]\n",
      "imgs/twitter/FA4NtWVXMAAGE9O.jpeg\n",
      "[5, 7, 8, 11, 12, 15, 18, 19, 20, 23, 25, 28, 30, 31, 38, 39, 43, 44, 46, 47, 49, 53, 55, 56, 57, 58, 65, 74, 75, 76, 77, 78, 79, 80, 81, 84, 90, 91, 93, 94, 96, 97, 100, 101, 104, 105, 108, 110, 115, 119, 121, 123, 124, 125, 129, 130, 132, 133, 139, 140, 142, 143, 144, 145, 147, 149, 150, 153, 154, 159, 162, 163, 165, 167, 168, 170, 171, 172, 177, 180, 183, 184, 185, 190, 197, 201, 203, 204, 205, 206, 207, 210]\n",
      "imgs/twitter/FA4anBBVEAQ42NA.jpeg\n",
      "imgs/twitter/FJDF5kmXMAMdAtI.jpeg\n",
      "[1, 2, 3, 7, 8, 9, 15, 18, 20, 21, 22, 25, 27, 29, 31, 33, 38, 40, 41, 43, 44, 47, 48, 49, 51, 52, 57, 58, 61, 63, 64, 65, 68, 70, 71, 73, 74, 75, 78, 79, 82, 84, 90, 91, 93, 94, 96, 100, 103, 105, 114, 121, 124, 126, 133, 135, 141, 142, 143, 144, 147, 148, 149, 151, 152, 153, 154, 156, 159, 161, 162, 163, 165, 167, 168, 169, 170, 172, 174, 177, 180, 181, 184, 186, 189, 190, 192, 196, 198, 200, 201, 202, 204, 205, 206, 208, 209, 210]\n",
      "[4, 5, 10, 12, 16, 18, 22, 24, 29, 38, 41, 43, 48, 53, 54, 55, 60, 65, 67, 68, 69, 75, 76, 78, 91, 93, 97, 98, 99, 104, 116, 117, 121, 122, 127, 129, 134, 135, 136, 147, 150]\n",
      "[]\n",
      "[1, 2, 4, 6, 10, 12, 13, 14, 18, 19, 20, 22, 24, 26, 27, 29, 30, 31, 32, 33, 34, 38, 39, 43, 44, 45, 46, 48, 50, 51, 52, 53, 54, 55, 60, 63, 65, 66, 68, 70, 71, 72, 74, 76, 77, 79, 81, 82, 87, 90, 93, 94, 96, 97, 98, 99, 102, 111, 112, 114, 116, 118, 121, 124, 125, 127, 129, 130, 131, 132, 134, 136, 137, 138, 139, 144, 147, 148, 149, 153, 154, 155, 160, 163, 166, 169, 170, 172, 177, 179, 181, 182, 185, 186, 188, 189, 190, 192, 193, 197, 198, 200, 201, 202, 204, 206, 207, 208]\n",
      "[2, 3, 4, 6, 9, 10, 11, 13, 18, 21, 24, 26, 28, 29, 31, 33, 38, 39, 41, 42, 43, 44, 46, 49, 51, 53, 54, 55, 56, 58, 60, 61, 62, 65, 66, 67, 68, 69, 70, 76, 78, 79, 83, 84, 87, 90, 93, 94, 96, 97, 98, 103, 104, 107, 110, 111, 112, 113, 120, 121, 122, 123, 125, 126, 127, 129, 130, 131, 135, 144, 150, 151, 152, 153, 155, 160, 162, 163, 165, 168, 171, 172, 175, 179, 181, 184, 185, 186, 187, 188, 189, 191, 196, 198, 200, 206, 207, 209]\n",
      "[2, 3, 5, 7, 13, 14, 18, 21, 22, 24, 25, 26, 27, 29, 31, 38, 39, 41, 42, 43, 44, 45, 46, 54, 55, 56, 58, 59, 60, 62, 64, 65, 67, 68, 72, 75, 77, 83, 87, 90, 93, 94, 96, 97, 100, 101, 102, 105, 106, 107, 109, 110, 111, 113, 115, 117, 118, 120, 121, 124, 129, 130, 131, 133, 134, 136, 137, 139, 140, 141, 144, 145, 148, 149, 150, 151, 154, 155, 159, 162, 163, 168, 171, 174, 179, 180, 185, 189, 196, 197, 198, 202, 204, 205, 208, 209, 210]\n",
      "[1, 2, 4, 6, 12, 13, 14, 18, 19, 21, 22, 23, 25, 27, 28, 32, 33, 38, 39, 42, 43, 44, 45, 46, 49, 50, 51, 53, 54, 55, 57, 59, 60, 61, 62, 63, 66, 68, 69, 70, 78, 79, 80, 81, 84, 87, 90, 93, 94, 96, 102, 103, 104, 105, 107, 109, 110, 119, 120, 121, 124, 127, 128, 131, 133, 136, 138, 141, 144, 145, 147, 148, 153, 155, 158, 161, 164, 165, 166, 167, 168, 170, 171, 172, 177, 180, 187, 191, 198, 199, 200, 201, 204, 207, 210]\n",
      "[3, 4, 9, 14, 15, 18, 19, 20, 21, 22, 24, 26, 29, 30, 31, 33, 34, 38, 39, 44, 47, 48, 49, 52, 55, 57, 58, 60, 61, 62, 63, 64, 65, 67, 70, 71, 72, 74, 75, 76, 77, 78, 80, 83, 87, 90, 93, 94, 96, 97, 98, 99, 101, 106, 110, 111, 113, 114, 116, 118, 119, 120, 123, 126, 129, 131, 133, 137, 138, 140, 141, 144, 146, 148, 149, 153, 154, 155, 158, 159, 161, 162, 164, 166, 168, 169, 170, 172, 175, 180, 185, 187, 188, 190, 191, 193, 196, 199, 203, 207, 208, 210]\n",
      "[3, 8, 9, 11, 15, 18, 19, 20, 23, 24, 29, 30, 32, 33, 38, 39, 41, 42, 46, 51, 52, 53, 55, 57, 58, 59, 61, 62, 65, 68, 71, 72, 74, 75, 76, 78, 79, 80, 81, 82, 83, 84, 87, 90, 93, 94, 96, 97, 98, 101, 105, 106, 107, 108, 109, 111, 112, 115, 116, 117, 119, 123, 128, 131, 132, 134, 135, 136, 138, 139, 141, 145, 146, 147, 150, 153, 154, 155, 157, 158, 159, 160, 161, 163, 164, 167, 168, 169, 170, 171, 173, 174, 180, 182, 187, 188, 189, 196, 197, 201, 203, 209]\n",
      "[1, 3, 4, 5, 6, 7, 8, 9, 11, 12, 13, 15, 18, 19, 20, 21, 23, 25, 28, 31, 32, 33, 34, 38, 39, 42, 43, 46, 47, 48, 50, 51, 54, 57, 58, 64, 65, 67, 68, 70, 71, 74, 77, 82, 83, 90, 91, 93, 94, 96, 108, 111, 113, 115, 117, 124, 125, 127, 130, 132, 136, 139, 141, 143, 147, 148, 150, 151, 153, 154, 156, 159, 160, 162, 163, 164, 165, 166, 167, 168, 169, 173, 177, 179, 181, 182, 185, 186, 187, 188, 192, 193, 196, 199, 201, 202, 204, 205, 210]\n",
      "[1, 2, 3, 5, 6, 7, 8, 12, 14, 18, 20, 21, 23, 24, 25, 26, 29, 34, 38, 39, 41, 42, 45, 47, 48, 55, 58, 61, 64, 68, 72, 75, 82, 83, 91, 93, 94, 98, 100, 101, 105, 115, 119, 122, 124, 125, 129, 131, 132, 133, 136, 138, 141, 142, 147, 151, 152, 154, 157, 158, 159, 161, 164, 165, 166, 168, 171, 174, 179, 181, 184, 185, 189, 193, 196, 197, 199, 200, 202, 203, 204, 205, 206, 208, 209, 210]\n",
      "[2, 4, 5, 8, 10, 13, 14, 15, 18, 19, 22, 23, 24, 30, 32, 38, 40, 41, 42, 44, 48, 49, 51, 55, 56, 57, 58, 60, 63, 64, 66, 68, 72, 75, 76, 77, 79, 80, 82, 83, 90, 91, 93, 94, 96, 104, 105, 108, 110, 111, 112, 116, 119, 122, 123, 124, 126, 127, 131, 133, 139, 143, 147, 149, 150, 151, 159, 160, 161, 162, 165, 166, 168, 169, 170, 172, 174, 177, 179, 180, 181, 183, 185, 186, 193, 197, 198, 199, 200, 201, 202, 205, 206, 207, 208, 209, 210]\n",
      "[4, 8, 11, 12, 13, 14, 18, 19, 22, 23, 25, 26, 27, 28, 29, 30, 31, 32, 34, 38, 39, 40, 41, 44, 46, 47, 48, 55, 58, 59, 60, 61, 65, 68, 69, 72, 73, 74, 75, 76, 77, 80, 82, 90, 91, 93, 94, 96, 98, 99, 101, 104, 105, 108, 110, 111, 112, 114, 115, 118, 119, 120, 122, 125, 132, 133, 136, 139, 143, 145, 147, 148, 153, 156, 157, 158, 160, 161, 162, 165, 169, 172, 173, 174, 175, 179, 181, 185, 186, 187, 188, 189, 190, 191, 193, 196, 200, 203, 204, 205, 206, 208]\n",
      "[2, 3, 4, 5, 7, 12, 15, 18, 19, 22, 25, 26, 28, 31, 38, 39, 40, 41, 42, 43, 45, 46, 47, 48, 51, 52, 53, 54, 56, 58, 65, 66, 68, 72, 74, 76, 78, 79, 81, 82, 83, 84, 90, 91, 93, 94, 96, 97, 98, 101, 104, 108, 110, 112, 115, 116, 122, 125, 129, 132, 133, 135, 143, 144, 147, 148, 149, 156, 159, 165, 167, 168, 170, 171, 173, 177, 179, 182, 183, 184, 187, 189, 191, 192, 193, 198, 199, 200, 201, 202, 204, 205, 206, 207, 210]\n",
      "[1, 2, 3, 4, 5, 7, 9, 10, 11, 12, 13, 15, 18, 19, 20, 22, 25, 27, 29, 32, 38, 40, 41, 46, 47, 50, 52, 53, 56, 57, 61, 64, 66, 69, 71, 72, 75, 76, 77, 79, 80, 81, 83, 90, 91, 93, 94, 96, 97, 99, 101, 104, 105, 108, 110, 115, 117, 119, 121, 123, 124, 125, 126, 127, 129, 133, 135, 138, 141, 142, 143, 144, 147, 149, 150, 154, 157, 159, 161, 165, 167, 168, 169, 170, 171, 177, 179, 181, 183, 185, 186, 187, 190, 192, 197, 198, 199, 200, 202, 206, 207, 209, 210]\n",
      "[2, 4, 8, 10, 13, 18, 19, 20, 24, 26, 27, 28, 29, 30, 38, 40, 42, 43, 47, 49, 50, 52, 53, 54, 55, 57, 58, 61, 64, 66, 67, 70, 75, 77, 78, 82, 84, 90, 91, 93, 94, 96, 100, 101, 103, 108, 111, 115, 119, 120, 123, 130, 131, 134, 140, 141, 142, 143, 147, 149, 152, 153, 156, 157, 160, 164, 165, 166, 167, 173, 175, 177, 180, 181, 185, 186, 187, 188, 189, 193, 196, 197, 199, 201, 202, 203, 205, 206, 207]\n",
      "[4, 5, 7, 8, 12, 13, 14, 18, 20, 21, 25, 28, 29, 31, 32, 38, 39, 42, 43, 46, 48, 51, 52, 53, 57, 61, 64, 66, 72, 75, 77, 78, 80, 81, 82, 83, 90, 91, 93, 94, 96, 97, 98, 101, 103, 104, 105, 108, 111, 112, 114, 117, 120, 121, 122, 124, 125, 129, 132, 136, 141, 143, 147, 149, 150, 154, 157, 158, 160, 161, 163, 164, 168, 169, 174, 175, 180, 184, 186, 187, 188, 196, 197, 203, 205, 206, 207, 208]\n",
      "[2, 3, 4, 5, 7, 9, 11, 14, 18, 22, 23, 25, 27, 28, 30, 32, 34, 38, 39, 41, 42, 44, 46, 48, 50, 54, 55, 56, 59, 60, 61, 65, 67, 68, 69, 71, 72, 74, 76, 78, 79, 81, 83, 84, 90, 91, 93, 94, 96, 99, 100, 103, 104, 105, 108, 110, 111, 112, 113, 114, 117, 119, 122, 123, 124, 125, 130, 131, 132, 135, 136, 138, 139, 143, 144, 147, 148, 149, 151, 152, 154, 160, 161, 164, 166, 169, 170, 172, 177, 180, 181, 182, 183, 186, 187, 190, 196, 197, 198, 199, 200, 203, 205, 207, 209, 210]\n",
      "imgs/people/FECYsfjXwAIEYmJ.jpeg\n",
      "[3, 4, 6, 9, 14, 18, 22, 23, 26, 27, 29, 30, 33, 34, 38, 40, 42, 43, 44, 46, 49, 50, 53, 55, 57, 61, 66, 71, 72, 73, 74, 77, 83, 90, 91, 93, 94, 96, 98, 99, 100, 104, 105, 111, 112, 114, 115, 118, 120, 122, 123, 126, 130, 132, 133, 135, 136, 137, 140, 141, 145, 147, 148, 149, 151, 154, 156, 158, 161, 162, 165, 171, 174, 177, 179, 184, 186, 189, 196, 199, 200, 201, 203, 207, 209, 210]\n"
     ]
    },
    {
     "name": "stdout",
     "output_type": "stream",
     "text": [
      "[1, 2, 8, 11, 13, 14, 18, 20, 21, 23, 24, 25, 26, 27, 28, 29, 32, 33, 38, 40, 41, 42, 45, 48, 50, 56, 57, 58, 59, 61, 67, 69, 72, 73, 74, 75, 77, 80, 81, 82, 90, 91, 93, 94, 96, 98, 99, 101, 106, 111, 113, 114, 115, 121, 123, 124, 126, 127, 129, 130, 139, 141, 142, 143, 144, 147, 148, 150, 156, 157, 159, 162, 163, 169, 170, 172, 173, 174, 175, 177, 179, 180, 182, 183, 184, 185, 187, 188, 190, 192, 197, 198, 201, 203, 204, 206, 207, 208, 209, 210]\n",
      "[1, 2, 3, 4, 5, 7, 9, 10, 11, 12, 13, 15, 18, 19, 20, 22, 25, 27, 29, 32, 38, 40, 41, 46, 47, 50, 52, 53, 56, 57, 61, 64, 66, 69, 71, 72, 75, 76, 77, 79, 80, 81, 83, 90, 91, 93, 94, 96, 97, 99, 101, 104, 105, 108, 110, 115, 117, 119, 121, 123, 124, 125, 126, 127, 129, 133, 135, 138, 141, 142, 143, 144, 147, 149, 150, 154, 157, 159, 161, 165, 167, 168, 169, 170, 171, 177, 179, 181, 183, 185, 186, 187, 190, 192, 197, 198, 199, 200, 202, 206, 207, 209, 210]\n",
      "[1, 2, 3, 6, 9, 11, 12, 13, 14, 15, 18, 20, 22, 26, 27, 30, 32, 34, 38, 41, 43, 44, 45, 48, 53, 54, 56, 58, 59, 60, 65, 66, 68, 70, 71, 72, 75, 76, 78, 79, 82, 90, 91, 93, 94, 96, 100, 101, 102, 104, 107, 108, 110, 111, 112, 115, 116, 118, 119, 120, 131, 132, 133, 136, 137, 142, 143, 144, 148, 150, 152, 153, 154, 156, 159, 160, 161, 162, 164, 165, 166, 167, 168, 173, 177, 179, 181, 185, 186, 187, 188, 190, 193, 196, 198, 199, 200, 201, 204, 207, 208, 210]\n",
      "[1, 2, 4, 5, 7, 8, 10, 11, 14, 18, 20, 23, 27, 30, 32, 33, 38, 39, 41, 42, 44, 45, 47, 48, 50, 53, 54, 57, 58, 59, 61, 62, 64, 65, 68, 71, 73, 76, 78, 81, 82, 83, 84, 90, 91, 93, 94, 96, 98, 103, 106, 113, 114, 117, 121, 123, 126, 127, 129, 130, 131, 132, 133, 136, 138, 141, 142, 144, 148, 152, 154, 156, 158, 160, 164, 166, 167, 169, 172, 173, 175, 185, 186, 190, 191, 196, 199, 200, 203, 208]\n",
      "[1, 2, 3, 4, 5, 7, 9, 10, 11, 18, 19, 24, 25, 26, 27, 29, 30, 38, 40, 43, 44, 45, 47, 48, 56, 57, 60, 61, 67, 69, 71, 72, 79, 91, 93, 97, 98, 103, 115, 116, 117, 122, 127, 129, 130, 135, 137, 151, 163, 164, 165, 169, 171, 177, 178, 179, 182, 184, 186, 187, 188, 190, 197, 199, 204, 205, 207, 208]\n",
      "[1, 2, 4, 5, 7, 10, 12, 13, 14, 18, 19, 20, 22, 24, 25, 26, 27, 28, 32, 34, 38, 39, 43, 44, 46, 47, 48, 49, 56, 58, 63, 66, 68, 69, 70, 71, 73, 74, 79, 80, 90, 91, 93, 94, 96, 98, 100, 101, 104, 105, 108, 115, 116, 117, 118, 119, 122, 123, 124, 125, 126, 131, 132, 133, 135, 136, 138, 139, 140, 141, 143, 147, 149, 150, 151, 157, 165, 166, 167, 169, 170, 174, 177, 181, 183, 186, 189, 196, 201, 203, 206, 210]\n",
      "[1, 2, 5, 7, 11, 13, 14, 15, 18, 19, 20, 21, 25, 26, 27, 29, 30, 32, 33, 38, 39, 40, 42, 44, 45, 50, 53, 54, 56, 57, 58, 69, 71, 73, 74, 76, 77, 80, 83, 84, 90, 91, 93, 94, 96, 97, 98, 105, 108, 112, 114, 116, 118, 122, 124, 125, 129, 130, 134, 136, 137, 139, 140, 141, 142, 143, 144, 148, 149, 153, 156, 157, 159, 162, 164, 165, 166, 168, 170, 171, 172, 174, 175, 177, 179, 181, 183, 187, 188, 189, 190, 193, 197, 201, 202, 203, 206, 208, 209, 210]\n",
      "[1, 2, 4, 9, 10, 12, 14, 18, 22, 25, 27, 28, 30, 31, 34, 38, 39, 40, 41, 43, 44, 45, 49, 50, 54, 57, 61, 62, 64, 65, 66, 68, 69, 70, 72, 73, 74, 75, 79, 90, 91, 93, 94, 96, 101, 102, 103, 104, 105, 108, 111, 114, 117, 125, 126, 127, 128, 131, 133, 135, 137, 138, 139, 140, 142, 143, 149, 152, 157, 160, 162, 167, 172, 173, 174, 175, 177, 179, 180, 181, 185, 187, 196, 197, 198, 199, 200, 201, 204, 205, 206, 207, 208, 210]\n",
      "[]\n",
      "imgs/people/FEK1L9cXoAgulGK.jpeg\n",
      "[3, 6, 7, 8, 9, 11, 12, 15, 18, 21, 22, 25, 28, 31, 32, 34, 38, 39, 40, 42, 43, 48, 50, 52, 55, 56, 57, 58, 61, 62, 65, 68, 72, 73, 76, 78, 79, 80, 82, 90, 91, 93, 94, 96, 97, 99, 101, 102, 105, 108, 110, 111, 112, 115, 116, 118, 119, 120, 122, 123, 127, 129, 131, 133, 134, 135, 136, 137, 143, 149, 151, 154, 156, 159, 161, 164, 165, 166, 167, 168, 169, 170, 171, 174, 177, 179, 180, 181, 182, 184, 185, 186, 187, 190, 191, 196, 198, 200, 201, 203, 204, 205, 209, 210]\n",
      "[2, 3, 5, 10, 18, 20, 21, 23, 24, 25, 26, 28, 29, 31, 32, 33, 34, 38, 44, 46, 47, 48, 49, 51, 53, 55, 56, 58, 59, 64, 65, 66, 68, 69, 71, 73, 75, 76, 77, 78, 79, 83, 84, 90, 91, 93, 94, 96, 97, 98, 99, 104, 105, 107, 108, 112, 115, 118, 119, 120, 122, 123, 124, 125, 126, 127, 130, 131, 132, 135, 139, 144, 148, 151, 152, 153, 154, 156, 157, 159, 160, 164, 165, 166, 168, 169, 170, 175, 177, 179, 183, 184, 186, 188, 190, 192, 193, 197, 199, 200, 202, 205, 207, 208, 210]\n",
      "[1, 4, 5, 6, 8, 9, 13, 18, 20, 21, 23, 25, 26, 29, 31, 38, 40, 42, 47, 48, 49, 55, 56, 58, 61, 67, 68, 69, 71, 72, 77, 78, 80, 91, 93, 98, 99, 104, 105, 111, 122, 123, 130, 136, 138, 139, 147, 149, 159, 162, 165, 167, 169, 170, 181, 183, 188, 189, 196, 197, 198, 199, 200, 203, 204, 205, 207]\n",
      "[1, 3, 5, 9, 10, 12, 13, 15, 18, 19, 20, 21, 23, 24, 29, 30, 32, 33, 34, 38, 39, 41, 43, 46, 49, 50, 51, 52, 54, 56, 57, 58, 61, 62, 63, 64, 66, 67, 69, 70, 72, 73, 76, 78, 81, 82, 87, 90, 93, 94, 96, 97, 100, 101, 102, 108, 110, 111, 113, 115, 118, 119, 121, 126, 127, 129, 138, 139, 140, 146, 150, 152, 153, 155, 157, 158, 159, 160, 161, 162, 163, 164, 165, 169, 170, 171, 173, 175, 177, 178, 179, 181, 183, 184, 186, 187, 190, 192, 193, 196, 200, 201, 202, 204, 206]\n",
      "[3, 4, 7, 8, 9, 10, 13, 15, 18, 19, 20, 22, 23, 27, 28, 29, 34, 38, 39, 41, 42, 44, 45, 49, 50, 51, 54, 55, 56, 57, 59, 62, 65, 68, 69, 70, 72, 73, 75, 77, 78, 79, 80, 82, 83, 87, 90, 93, 94, 96, 97, 98, 99, 100, 101, 102, 103, 105, 108, 109, 112, 114, 118, 121, 128, 129, 131, 134, 135, 136, 137, 139, 141, 144, 147, 148, 150, 151, 152, 154, 155, 157, 159, 161, 162, 164, 166, 170, 171, 172, 173, 177, 178, 180, 182, 186, 187, 190, 191, 196, 198, 200, 201, 203, 205, 206, 209, 210]\n",
      "[]\n",
      "[1, 2, 4, 6, 7, 8, 9, 11, 12, 14, 18, 19, 21, 28, 29, 30, 31, 32, 33, 38, 39, 42, 44, 45, 48, 49, 50, 52, 53, 54, 56, 60, 63, 65, 67, 68, 71, 72, 75, 76, 87, 90, 93, 94, 96, 97, 98, 104, 107, 114, 117, 118, 120, 122, 123, 124, 126, 130, 134, 138, 140, 144, 145, 148, 149, 150, 153, 154, 155, 158, 159, 161, 162, 164, 165, 166, 169, 172, 180, 181, 183, 185, 186, 189, 191, 192, 193, 196, 200, 202, 204, 205, 206, 209, 210]\n",
      "[6, 9, 11, 14, 18, 20, 22, 26, 28, 30, 31, 33, 38, 39, 41, 42, 43, 44, 45, 48, 51, 52, 54, 59, 60, 61, 63, 65, 66, 69, 70, 74, 75, 77, 78, 79, 80, 84, 87, 90, 93, 94, 96, 97, 98, 100, 101, 102, 103, 107, 109, 111, 115, 116, 118, 119, 121, 124, 125, 127, 128, 131, 132, 135, 136, 138, 139, 141, 144, 150, 151, 152, 153, 155, 158, 160, 163, 167, 169, 170, 172, 177, 178, 181, 184, 186, 192, 196, 198, 199, 200, 203, 205, 208, 209]\n",
      "[3, 4, 6, 8, 9, 10, 11, 12, 18, 20, 21, 23, 25, 26, 27, 31, 33, 34, 38, 39, 41, 42, 43, 48, 51, 53, 55, 60, 61, 63, 64, 65, 67, 68, 70, 72, 78, 79, 80, 81, 87, 90, 93, 94, 96, 98, 99, 101, 105, 109, 114, 115, 116, 120, 121, 122, 123, 126, 128, 130, 132, 133, 134, 136, 138, 139, 140, 145, 148, 149, 151, 153, 155, 158, 159, 164, 166, 169, 171, 174, 178, 179, 180, 182, 183, 185, 187, 188, 189, 193, 197, 199, 201, 203, 204, 207]\n",
      "[1, 4, 8, 9, 10, 11, 18, 19, 21, 23, 24, 26, 27, 28, 29, 30, 32, 33, 38, 39, 42, 43, 47, 48, 50, 51, 52, 54, 55, 56, 57, 59, 61, 62, 65, 66, 67, 69, 71, 72, 73, 74, 78, 79, 82, 87, 90, 93, 94, 96, 105, 108, 111, 112, 113, 114, 115, 117, 120, 121, 126, 130, 131, 133, 136, 137, 138, 144, 147, 152, 154, 155, 157, 161, 164, 165, 168, 169, 170, 171, 172, 177, 179, 182, 183, 184, 185, 187, 188, 190, 191, 198, 200, 201, 202, 207, 210]\n",
      "[1, 4, 6, 7, 14, 15, 18, 19, 26, 28, 29, 32, 33, 34, 38, 39, 41, 43, 44, 45, 46, 47, 50, 51, 52, 53, 54, 55, 56, 57, 63, 64, 65, 66, 67, 76, 77, 79, 81, 82, 83, 87, 90, 93, 94, 96, 97, 100, 101, 103, 104, 105, 107, 116, 119, 120, 122, 126, 127, 128, 130, 132, 133, 137, 138, 139, 140, 144, 146, 148, 149, 152, 154, 155, 157, 158, 161, 168, 170, 171, 172, 173, 178, 180, 181, 183, 184, 185, 188, 190, 191, 198, 199, 200, 201, 202, 205, 207, 208, 209]\n",
      "[3, 5, 6, 10, 13, 15, 18, 20, 21, 23, 24, 25, 28, 29, 30, 32, 34, 38, 39, 42, 46, 50, 56, 58, 60, 62, 64, 65, 67, 70, 72, 73, 75, 76, 78, 81, 84, 87, 90, 93, 94, 96, 100, 102, 107, 108, 109, 115, 118, 119, 120, 121, 122, 123, 124, 125, 127, 128, 130, 132, 134, 138, 145, 146, 147, 150, 151, 153, 155, 157, 159, 161, 163, 164, 166, 169, 173, 175, 178, 179, 180, 182, 183, 184, 186, 187, 190, 192, 193, 197, 200, 203, 204, 205]\n",
      "[2, 3, 6, 7, 8, 9, 11, 12, 13, 18, 19, 21, 23, 28, 29, 30, 31, 33, 34, 38, 39, 41, 43, 44, 46, 49, 51, 53, 55, 56, 57, 58, 59, 61, 63, 67, 68, 73, 75, 79, 80, 81, 82, 83, 84, 87, 90, 93, 94, 96, 97, 98, 100, 102, 104, 105, 106, 109, 110, 111, 112, 114, 117, 119, 120, 122, 125, 127, 128, 132, 138, 140, 141, 144, 146, 148, 149, 151, 155, 157, 158, 160, 166, 168, 169, 173, 174, 178, 180, 181, 183, 186, 187, 189, 191, 192, 193, 197, 199, 202, 203, 204, 206, 207]\n",
      "[1, 3, 6, 8, 9, 11, 12, 13, 18, 19, 20, 23, 24, 27, 31, 33, 38, 39, 41, 42, 43, 44, 46, 47, 49, 51, 52, 55, 56, 58, 59, 61, 62, 64, 65, 70, 72, 73, 74, 75, 76, 77, 79, 82, 83, 84, 87, 90, 93, 94, 96, 97, 98, 100, 102, 110, 111, 113, 116, 117, 119, 120, 126, 129, 130, 134, 137, 138, 139, 140, 146, 151, 152, 153, 154, 155, 157, 158, 159, 161, 163, 167, 168, 169, 171, 172, 173, 174, 177, 179, 187, 189, 190, 191, 192, 193, 196, 197, 198, 202, 203, 204, 206, 207, 208, 210]\n",
      "[1, 3, 4, 7, 10, 15, 18, 19, 21, 23, 28, 29, 33, 38, 39, 42, 43, 44, 47, 48, 49, 50, 51, 52, 53, 57, 58, 59, 62, 65, 66, 68, 69, 70, 72, 74, 79, 81, 84, 87, 90, 93, 94, 96, 97, 98, 99, 101, 102, 104, 105, 108, 109, 111, 112, 113, 114, 115, 117, 121, 124, 125, 127, 128, 131, 133, 134, 139, 144, 148, 149, 150, 151, 154, 155, 157, 160, 161, 165, 167, 168, 170, 171, 172, 173, 178, 179, 181, 182, 184, 185, 186, 196, 197, 198, 199, 201, 203, 204, 205, 207, 208]\n",
      "[3, 5, 9, 11, 12, 14, 15, 18, 19, 20, 21, 22, 23, 25, 26, 31, 32, 38, 39, 41, 42, 43, 44, 47, 52, 53, 57, 59, 60, 61, 63, 64, 67, 68, 69, 70, 72, 79, 82, 83, 87, 90, 93, 94, 96, 97, 98, 99, 102, 103, 106, 107, 114, 116, 118, 121, 123, 124, 127, 129, 131, 132, 133, 135, 137, 138, 139, 145, 153, 155, 157, 168, 170, 172, 173, 174, 180, 183, 184, 186, 187, 188, 189, 196, 198, 199, 201, 203, 205, 207, 208, 210]\n"
     ]
    },
    {
     "name": "stdout",
     "output_type": "stream",
     "text": [
      "[1, 3, 5, 6, 7, 8, 9, 11, 12, 15, 18, 21, 24, 25, 26, 29, 31, 33, 38, 39, 41, 42, 43, 44, 45, 48, 49, 50, 51, 52, 55, 58, 61, 63, 64, 66, 67, 71, 72, 73, 75, 76, 77, 78, 79, 84, 87, 90, 93, 94, 96, 98, 100, 101, 103, 107, 113, 114, 115, 116, 118, 121, 123, 125, 126, 127, 128, 129, 131, 132, 135, 137, 138, 139, 140, 141, 144, 147, 148, 151, 152, 154, 155, 157, 158, 159, 161, 164, 166, 169, 170, 173, 174, 178, 179, 181, 182, 184, 187, 188, 192, 193, 202, 205, 208, 209, 210]\n",
      "[1, 2, 3, 11, 15, 18, 19, 20, 22, 24, 27, 31, 33, 34, 38, 39, 43, 44, 46, 47, 56, 57, 58, 59, 61, 63, 66, 68, 70, 71, 74, 75, 76, 84, 87, 90, 93, 94, 96, 98, 104, 105, 106, 107, 108, 109, 110, 111, 115, 116, 118, 120, 121, 124, 125, 126, 129, 130, 131, 135, 137, 138, 139, 140, 141, 144, 145, 146, 147, 151, 152, 153, 155, 157, 159, 163, 166, 169, 175, 180, 181, 183, 184, 185, 187, 188, 189, 190, 192, 193, 196, 198, 199, 202, 203, 204, 205, 206, 207, 208, 209]\n",
      "[1, 3, 4, 7, 9, 10, 12, 13, 15, 18, 20, 21, 23, 25, 26, 28, 29, 32, 33, 34, 38, 39, 41, 42, 43, 44, 45, 46, 51, 55, 56, 58, 61, 62, 70, 72, 73, 74, 77, 79, 81, 82, 83, 84, 87, 90, 93, 94, 96, 97, 99, 100, 101, 103, 106, 108, 109, 110, 113, 118, 121, 122, 125, 126, 127, 130, 131, 133, 134, 136, 137, 138, 140, 144, 146, 147, 148, 149, 155, 158, 160, 171, 172, 173, 174, 175, 177, 178, 181, 185, 186, 187, 189, 192, 193, 197, 199, 201, 202, 203, 204, 205]\n",
      "[3, 4, 5, 8, 10, 11, 12, 18, 20, 21, 26, 30, 32, 33, 38, 39, 41, 42, 44, 45, 50, 51, 54, 55, 58, 59, 60, 61, 62, 66, 67, 68, 69, 70, 73, 74, 75, 77, 79, 80, 81, 84, 87, 90, 93, 94, 96, 97, 101, 102, 103, 105, 106, 109, 110, 111, 116, 119, 120, 122, 124, 125, 127, 128, 131, 133, 134, 136, 138, 141, 144, 146, 147, 149, 152, 155, 159, 163, 165, 167, 169, 171, 175, 177, 179, 180, 182, 184, 187, 190, 192, 193, 196, 197, 199, 202, 203, 204, 205, 209, 210]\n",
      "[1, 3, 5, 9, 10, 12, 13, 15, 18, 19, 20, 21, 23, 24, 29, 30, 32, 33, 34, 38, 39, 41, 43, 46, 49, 50, 51, 52, 54, 56, 57, 58, 61, 62, 63, 64, 66, 67, 69, 70, 72, 73, 76, 78, 81, 82, 87, 90, 93, 94, 96, 97, 100, 101, 102, 108, 110, 111, 113, 115, 118, 119, 121, 126, 127, 129, 138, 139, 140, 146, 150, 152, 153, 155, 157, 158, 159, 160, 161, 162, 163, 164, 165, 169, 170, 171, 173, 175, 177, 178, 179, 181, 183, 184, 186, 187, 190, 192, 193, 196, 200, 201, 202, 204, 206]\n",
      "[3, 5, 8, 9, 10, 11, 12, 15, 18, 19, 21, 24, 25, 29, 31, 38, 39, 42, 43, 44, 45, 46, 47, 49, 51, 55, 59, 62, 63, 65, 66, 67, 69, 70, 72, 78, 79, 83, 87, 90, 93, 94, 96, 98, 99, 101, 103, 106, 110, 111, 112, 114, 115, 116, 118, 119, 122, 123, 125, 127, 130, 131, 132, 134, 135, 137, 138, 140, 141, 144, 148, 152, 153, 154, 155, 157, 158, 159, 162, 163, 164, 169, 171, 172, 174, 175, 177, 181, 182, 183, 186, 187, 189, 191, 192, 193, 198, 199, 200, 201, 202, 204, 205, 206, 207]\n",
      "[1, 2, 4, 8, 11, 12, 13, 15, 18, 21, 22, 23, 24, 26, 30, 31, 32, 34, 38, 39, 44, 45, 51, 52, 55, 56, 58, 61, 62, 67, 68, 69, 74, 79, 82, 84, 87, 90, 93, 94, 96, 97, 98, 102, 104, 106, 108, 111, 113, 114, 115, 118, 120, 121, 122, 123, 125, 126, 130, 132, 133, 139, 145, 146, 149, 150, 152, 154, 155, 157, 160, 161, 162, 165, 166, 167, 168, 170, 171, 172, 177, 178, 181, 182, 185, 186, 187, 191, 197, 199, 200, 201, 203, 204, 205, 206, 209]\n",
      "[1, 2, 3, 4, 7, 8, 10, 12, 14, 18, 23, 25, 27, 28, 32, 33, 38, 39, 41, 45, 46, 49, 50, 51, 52, 54, 56, 59, 64, 65, 68, 69, 73, 75, 78, 82, 83, 87, 90, 93, 94, 96, 100, 101, 102, 103, 106, 111, 113, 115, 117, 119, 120, 124, 125, 126, 127, 129, 130, 134, 136, 137, 138, 140, 141, 144, 145, 147, 149, 150, 152, 153, 155, 157, 160, 163, 166, 167, 169, 170, 173, 175, 177, 179, 183, 186, 187, 189, 190, 196, 199, 200, 203, 204, 207, 209, 210]\n",
      "[5, 6, 9, 10, 12, 13, 15, 18, 20, 21, 23, 25, 26, 27, 29, 30, 33, 34, 38, 39, 41, 42, 44, 46, 47, 49, 51, 53, 57, 60, 65, 68, 69, 72, 74, 75, 77, 78, 79, 80, 81, 83, 84, 87, 90, 93, 94, 96, 97, 98, 101, 105, 107, 108, 109, 112, 114, 115, 123, 124, 125, 126, 127, 128, 132, 133, 135, 137, 138, 144, 145, 149, 150, 154, 155, 157, 158, 159, 161, 162, 164, 167, 172, 173, 175, 179, 183, 185, 187, 188, 189, 193, 198, 202, 203, 206, 208, 210]\n",
      "[1, 2, 3, 10, 11, 12, 13, 15, 18, 19, 20, 21, 24, 25, 26, 27, 32, 33, 38, 39, 41, 42, 43, 44, 47, 48, 49, 54, 55, 60, 61, 62, 63, 64, 66, 69, 70, 71, 72, 73, 74, 82, 87, 90, 93, 94, 96, 99, 100, 101, 103, 104, 105, 107, 112, 113, 120, 121, 122, 125, 126, 127, 131, 132, 139, 141, 144, 148, 149, 151, 152, 155, 158, 159, 162, 164, 166, 168, 173, 174, 177, 178, 180, 181, 182, 183, 184, 185, 186, 187, 188, 190, 191, 193, 201, 202, 206, 207, 210]\n",
      "[5, 6, 7, 8, 13, 14, 15, 18, 19, 20, 21, 22, 23, 31, 32, 33, 34, 38, 39, 41, 42, 43, 45, 49, 52, 53, 54, 57, 58, 60, 61, 62, 64, 69, 71, 76, 77, 78, 79, 80, 82, 84, 87, 90, 93, 94, 96, 99, 100, 101, 108, 109, 110, 114, 117, 118, 120, 126, 127, 130, 132, 133, 134, 136, 137, 138, 139, 141, 144, 147, 148, 152, 155, 157, 160, 161, 162, 164, 169, 173, 178, 180, 181, 182, 183, 185, 188, 189, 197, 198, 208]\n",
      "[2, 3, 4, 5, 8, 9, 10, 13, 18, 19, 22, 23, 24, 26, 27, 28, 29, 32, 33, 38, 39, 46, 48, 49, 50, 51, 57, 61, 64, 67, 69, 71, 72, 77, 78, 79, 83, 87, 90, 93, 94, 96, 97, 98, 100, 103, 105, 106, 114, 115, 117, 119, 121, 123, 125, 126, 127, 128, 129, 131, 135, 138, 141, 147, 148, 154, 155, 158, 161, 163, 164, 166, 167, 168, 169, 170, 172, 173, 175, 179, 180, 181, 182, 183, 185, 186, 189, 191, 193, 196, 197, 198, 199, 200, 204, 205, 209, 210]\n",
      "[1, 2, 3, 5, 6, 7, 8, 12, 14, 18, 20, 21, 23, 24, 25, 26, 29, 34, 38, 39, 41, 42, 45, 47, 48, 55, 58, 61, 64, 68, 72, 75, 82, 83, 91, 93, 94, 98, 100, 101, 105, 115, 119, 122, 124, 125, 129, 131, 132, 133, 136, 138, 141, 142, 147, 151, 152, 154, 157, 158, 159, 161, 164, 165, 166, 168, 171, 174, 179, 181, 184, 185, 189, 193, 196, 197, 199, 200, 202, 203, 204, 205, 206, 208, 209, 210]\n",
      "[]\n",
      "[2, 3, 4, 5, 7, 9, 11, 14, 18, 22, 23, 25, 27, 28, 30, 32, 34, 38, 39, 41, 42, 44, 46, 48, 50, 54, 55, 56, 59, 60, 61, 65, 67, 68, 69, 71, 72, 74, 76, 78, 79, 81, 83, 84, 90, 91, 93, 94, 96, 99, 100, 103, 104, 105, 108, 110, 111, 112, 113, 114, 117, 119, 122, 123, 124, 125, 130, 131, 132, 135, 136, 138, 139, 143, 144, 147, 148, 149, 151, 152, 154, 160, 161, 164, 166, 169, 170, 172, 177, 180, 181, 182, 183, 186, 187, 190, 196, 197, 198, 199, 200, 203, 205, 207, 209, 210]\n",
      "[3, 4, 6, 9, 14, 18, 22, 23, 26, 27, 29, 30, 33, 34, 38, 40, 42, 43, 44, 46, 49, 50, 53, 55, 57, 61, 66, 71, 72, 73, 74, 77, 83, 90, 91, 93, 94, 96, 98, 99, 100, 104, 105, 111, 112, 114, 115, 118, 120, 122, 123, 126, 130, 132, 133, 135, 136, 137, 140, 141, 145, 147, 148, 149, 151, 154, 156, 158, 161, 162, 165, 171, 174, 177, 179, 184, 186, 189, 196, 199, 200, 201, 203, 207, 209, 210]\n",
      "[1, 2, 3, 4, 5, 7, 9, 10, 11, 18, 19, 24, 25, 26, 27, 29, 30, 38, 40, 43, 44, 45, 47, 48, 56, 57, 60, 61, 67, 69, 71, 72, 79, 91, 93, 97, 98, 103, 115, 116, 117, 122, 127, 129, 130, 135, 137, 151, 163, 164, 165, 169, 171, 177, 178, 179, 182, 184, 186, 187, 188, 190, 197, 199, 204, 205, 207, 208]\n",
      "[1, 2, 4, 5, 7, 10, 12, 13, 14, 18, 19, 20, 22, 24, 25, 26, 27, 28, 32, 34, 38, 39, 43, 44, 46, 47, 48, 49, 56, 58, 63, 66, 68, 69, 70, 71, 73, 74, 79, 80, 90, 91, 93, 94, 96, 98, 100, 101, 104, 105, 108, 115, 116, 117, 118, 119, 122, 123, 124, 125, 126, 131, 132, 133, 135, 136, 138, 139, 140, 141, 143, 147, 149, 150, 151, 157, 165, 166, 167, 169, 170, 174, 177, 181, 183, 186, 189, 196, 201, 203, 206, 210]\n",
      "[1, 2, 5, 7, 11, 13, 14, 15, 18, 19, 20, 21, 25, 26, 27, 29, 30, 32, 33, 38, 39, 40, 42, 44, 45, 50, 53, 54, 56, 57, 58, 69, 71, 73, 74, 76, 77, 80, 83, 84, 90, 91, 93, 94, 96, 97, 98, 105, 108, 112, 114, 116, 118, 122, 124, 125, 129, 130, 134, 136, 137, 139, 140, 141, 142, 143, 144, 148, 149, 153, 156, 157, 159, 162, 164, 165, 166, 168, 170, 171, 172, 174, 175, 177, 179, 181, 183, 187, 188, 189, 190, 193, 197, 201, 202, 203, 206, 208, 209, 210]\n",
      "[1, 2, 4, 9, 10, 12, 14, 18, 22, 25, 27, 28, 30, 31, 34, 38, 39, 40, 41, 43, 44, 45, 49, 50, 54, 57, 61, 62, 64, 65, 66, 68, 69, 70, 72, 73, 74, 75, 79, 90, 91, 93, 94, 96, 101, 102, 103, 104, 105, 108, 111, 114, 117, 125, 126, 127, 128, 131, 133, 135, 137, 138, 139, 140, 142, 143, 149, 152, 157, 160, 162, 167, 172, 173, 174, 175, 177, 179, 180, 181, 185, 187, 196, 197, 198, 199, 200, 201, 204, 205, 206, 207, 208, 210]\n"
     ]
    },
    {
     "name": "stdout",
     "output_type": "stream",
     "text": [
      "[]\n",
      "[]\n",
      "[1, 4, 5, 6, 8, 9, 13, 18, 20, 21, 23, 25, 26, 29, 31, 38, 40, 42, 47, 48, 49, 55, 56, 58, 61, 67, 68, 69, 71, 72, 77, 78, 80, 91, 93, 98, 99, 104, 105, 111, 122, 123, 130, 136, 138, 139, 147, 149, 159, 162, 165, 167, 169, 170, 181, 183, 188, 189, 196, 197, 198, 199, 200, 203, 204, 205, 207]\n",
      "[1, 2, 3, 4, 6, 9, 14, 18, 20, 21, 22, 23, 27, 28, 29, 30, 32, 38, 39, 41, 43, 44, 45, 49, 53, 58, 59, 62, 64, 65, 66, 67, 70, 71, 73, 76, 77, 83, 87, 90, 93, 94, 96, 99, 100, 101, 103, 104, 105, 106, 107, 108, 109, 110, 112, 113, 115, 118, 119, 120, 130, 131, 134, 140, 141, 144, 145, 146, 150, 153, 155, 157, 159, 161, 163, 169, 170, 171, 172, 173, 174, 175, 178, 182, 183, 184, 185, 188, 190, 192, 193, 196, 197, 202, 204, 206, 207, 209]\n",
      "[2, 4, 7, 8, 9, 11, 14, 18, 19, 20, 21, 22, 23, 26, 30, 38, 39, 43, 50, 52, 55, 59, 60, 61, 68, 69, 70, 71, 72, 74, 77, 79, 81, 83, 87, 90, 93, 94, 96, 97, 99, 102, 105, 107, 109, 111, 112, 113, 114, 116, 117, 118, 123, 124, 129, 130, 131, 132, 133, 134, 136, 139, 140, 141, 144, 147, 149, 151, 153, 155, 158, 159, 161, 162, 166, 168, 170, 171, 174, 175, 178, 183, 184, 186, 187, 188, 193, 196, 198, 201, 202, 203, 205, 207, 209, 210]\n",
      "[2, 3, 4, 12, 15, 18, 19, 22, 25, 28, 29, 32, 33, 34, 38, 39, 41, 47, 51, 52, 53, 54, 58, 61, 66, 67, 68, 70, 71, 72, 73, 76, 79, 81, 87, 90, 93, 94, 96, 103, 105, 106, 107, 108, 112, 113, 114, 115, 116, 117, 126, 127, 132, 133, 136, 137, 139, 145, 148, 149, 153, 154, 155, 157, 163, 164, 165, 167, 170, 172, 173, 174, 178, 179, 182, 183, 186, 189, 190, 192, 193, 197, 199, 202, 203, 204, 205, 207, 208, 209, 210]\n",
      "[2, 3, 4, 5, 6, 10, 12, 15, 18, 20, 21, 22, 23, 30, 32, 38, 39, 47, 50, 52, 53, 55, 56, 57, 58, 59, 61, 66, 68, 69, 71, 75, 77, 78, 79, 81, 83, 84, 87, 90, 93, 94, 96, 97, 100, 101, 102, 103, 105, 107, 108, 109, 110, 111, 112, 114, 115, 122, 125, 126, 129, 130, 131, 133, 135, 137, 139, 140, 145, 146, 147, 149, 150, 153, 154, 155, 157, 158, 159, 162, 163, 164, 165, 173, 177, 179, 181, 186, 189, 190, 192, 193, 198, 200, 204, 205, 210]\n",
      "[2, 5, 6, 7, 10, 13, 14, 15, 18, 19, 20, 21, 22, 23, 25, 28, 29, 30, 33, 34, 38, 39, 41, 43, 44, 45, 46, 49, 50, 52, 53, 54, 55, 56, 58, 62, 64, 68, 71, 72, 73, 74, 75, 77, 78, 79, 80, 81, 87, 90, 93, 94, 96, 97, 98, 99, 102, 103, 105, 107, 109, 110, 114, 115, 116, 117, 118, 120, 122, 123, 125, 129, 131, 132, 133, 135, 137, 138, 139, 140, 141, 144, 145, 146, 151, 152, 153, 155, 158, 161, 162, 163, 164, 166, 167, 169, 172, 173, 174, 177, 178, 183, 184, 185, 187, 189, 190, 192, 193, 198, 203, 206, 208, 210]\n",
      "[3, 5, 8, 9, 10, 11, 14, 15, 18, 20, 22, 23, 26, 27, 29, 31, 32, 33, 38, 39, 42, 43, 44, 45, 47, 52, 54, 55, 56, 57, 58, 62, 63, 65, 69, 70, 73, 74, 76, 77, 78, 83, 84, 87, 90, 93, 94, 96, 98, 100, 101, 102, 103, 104, 105, 106, 111, 112, 114, 115, 116, 117, 119, 123, 127, 128, 131, 134, 135, 137, 139, 148, 149, 150, 152, 153, 154, 155, 158, 159, 160, 161, 164, 165, 166, 167, 168, 172, 175, 179, 187, 188, 189, 192, 193, 196, 198, 199, 200, 204, 206]\n",
      "[3, 4, 7, 9, 11, 12, 14, 15, 18, 19, 20, 21, 27, 28, 29, 31, 34, 38, 39, 41, 42, 43, 44, 46, 50, 51, 52, 56, 57, 58, 68, 71, 73, 76, 77, 78, 83, 87, 90, 93, 94, 96, 100, 102, 103, 104, 105, 106, 107, 108, 109, 110, 113, 115, 118, 119, 120, 125, 126, 130, 131, 134, 135, 136, 138, 139, 141, 149, 152, 153, 155, 159, 164, 166, 172, 175, 180, 183, 184, 185, 187, 191, 193, 197, 199, 200, 202, 205, 208, 210]\n",
      "[1, 2, 5, 8, 10, 11, 12, 14, 18, 20, 22, 23, 25, 26, 27, 28, 32, 38, 39, 43, 44, 45, 46, 47, 48, 49, 51, 52, 54, 55, 56, 58, 60, 61, 62, 63, 64, 65, 66, 68, 70, 72, 73, 74, 75, 76, 79, 84, 87, 90, 93, 94, 96, 97, 98, 100, 103, 106, 107, 108, 111, 112, 114, 117, 119, 121, 122, 123, 126, 127, 131, 133, 134, 137, 140, 141, 144, 147, 148, 151, 152, 155, 158, 159, 162, 163, 164, 166, 167, 169, 172, 173, 177, 180, 182, 183, 185, 186, 187, 190, 191, 193, 197, 198, 200, 204, 205, 206, 207]\n",
      "[1, 2, 4, 5, 6, 7, 10, 11, 12, 13, 14, 15, 18, 20, 22, 23, 29, 31, 32, 33, 34, 38, 39, 43, 45, 50, 52, 55, 56, 58, 59, 62, 67, 73, 74, 75, 77, 78, 79, 83, 84, 87, 90, 93, 94, 96, 97, 99, 100, 104, 105, 107, 113, 115, 116, 118, 120, 121, 123, 124, 125, 126, 130, 135, 140, 141, 145, 147, 149, 155, 157, 160, 162, 163, 166, 167, 168, 174, 178, 179, 180, 181, 182, 185, 187, 190, 192, 193, 196, 198, 199, 201, 204, 207, 210]\n",
      "[4, 10, 11, 12, 13, 15, 18, 20, 21, 22, 23, 25, 26, 28, 29, 30, 34, 38, 39, 48, 51, 52, 54, 56, 57, 58, 59, 60, 63, 64, 69, 70, 72, 74, 76, 77, 79, 80, 83, 84, 87, 90, 93, 94, 96, 97, 98, 99, 102, 103, 106, 107, 109, 111, 112, 113, 114, 116, 118, 119, 120, 123, 124, 125, 128, 129, 130, 131, 134, 136, 137, 138, 139, 140, 145, 148, 150, 151, 153, 155, 157, 159, 160, 162, 163, 166, 171, 172, 175, 178, 179, 180, 181, 185, 188, 190, 191, 192, 193, 197, 201, 202, 204, 205, 207, 210]\n",
      "[3, 5, 6, 9, 10, 13, 18, 21, 22, 23, 26, 28, 29, 32, 34, 38, 39, 42, 44, 45, 47, 48, 49, 50, 51, 54, 56, 57, 58, 60, 61, 64, 65, 66, 68, 69, 70, 71, 72, 73, 75, 76, 79, 80, 82, 87, 90, 93, 94, 96, 98, 100, 101, 102, 103, 104, 107, 108, 110, 112, 116, 118, 122, 124, 125, 129, 132, 134, 135, 137, 138, 141, 144, 145, 147, 149, 151, 152, 153, 154, 155, 157, 159, 161, 162, 166, 167, 172, 173, 175, 180, 183, 184, 185, 188, 189, 191, 196, 199, 200, 201, 202, 204, 206, 209]\n",
      "[3, 5, 7, 8, 12, 13, 18, 20, 21, 22, 23, 24, 25, 26, 29, 30, 32, 33, 34, 38, 39, 41, 42, 43, 44, 45, 49, 50, 51, 52, 53, 54, 57, 58, 60, 61, 62, 66, 68, 69, 70, 72, 73, 75, 78, 79, 81, 82, 83, 84, 87, 90, 93, 94, 96, 97, 99, 102, 104, 108, 112, 114, 115, 116, 119, 121, 122, 126, 127, 128, 129, 131, 132, 133, 134, 135, 137, 138, 140, 146, 152, 154, 155, 158, 159, 160, 161, 162, 168, 169, 170, 172, 175, 177, 178, 179, 182, 183, 188, 191, 192, 193, 197, 200, 201, 203, 206, 207, 208]\n",
      "[2, 3, 5, 6, 8, 10, 12, 13, 14, 18, 19, 21, 23, 24, 25, 27, 34, 38, 39, 41, 43, 45, 48, 49, 51, 53, 55, 57, 59, 61, 62, 63, 64, 65, 74, 75, 79, 80, 81, 87, 90, 93, 94, 96, 97, 98, 100, 101, 102, 103, 104, 105, 106, 107, 108, 111, 113, 114, 116, 118, 120, 125, 130, 131, 132, 133, 134, 135, 136, 140, 145, 146, 148, 151, 152, 155, 158, 159, 160, 161, 164, 165, 166, 168, 169, 173, 179, 181, 182, 183, 187, 188, 189, 192, 193, 196, 197, 198, 200, 201, 203, 204, 205, 206, 207]\n",
      "[2, 3, 4, 7, 9, 10, 12, 14, 18, 20, 21, 22, 25, 27, 29, 32, 38, 39, 42, 43, 44, 45, 48, 49, 50, 52, 54, 55, 56, 57, 58, 60, 62, 64, 65, 66, 68, 70, 74, 79, 87, 90, 93, 94, 96, 97, 100, 101, 104, 105, 106, 108, 110, 111, 112, 113, 115, 120, 122, 125, 126, 129, 130, 133, 134, 135, 140, 141, 144, 145, 147, 149, 150, 151, 153, 154, 155, 158, 159, 160, 161, 162, 166, 168, 169, 171, 172, 180, 183, 184, 185, 186, 190, 191, 192, 197, 198, 200, 204, 205, 207, 208]\n",
      "[1, 3, 5, 7, 9, 13, 15, 18, 20, 21, 22, 25, 29, 31, 32, 38, 39, 42, 46, 49, 51, 52, 53, 56, 57, 58, 61, 62, 63, 67, 68, 70, 72, 76, 77, 80, 81, 82, 87, 90, 93, 94, 96, 97, 99, 102, 103, 104, 105, 107, 109, 111, 112, 113, 114, 118, 119, 120, 121, 123, 124, 126, 127, 128, 129, 130, 131, 133, 135, 137, 138, 139, 144, 145, 147, 148, 150, 155, 157, 160, 162, 163, 164, 165, 166, 168, 170, 172, 174, 175, 180, 184, 185, 187, 188, 196, 198, 199, 201, 204, 205, 206, 207]\n"
     ]
    }
   ],
   "source": [
    "all_bb, _ = get_bb_2(\"generated/all_dots_yellow.png\")\n",
    "\n",
    "for f in files:\n",
    "    try:\n",
    "        _, centers = get_bb_2(f)\n",
    "        nums = get_numbers(centers, all_bb)\n",
    "        print(nums)\n",
    "    except:\n",
    "        print(f)"
   ]
  },
  {
   "cell_type": "code",
   "execution_count": 35,
   "id": "mediterranean-membership",
   "metadata": {},
   "outputs": [
    {
     "name": "stdout",
     "output_type": "stream",
     "text": [
      "imgs/twitter/FA4iYT9VEAc6bJg.jpeg\n",
      "imgs/twitter/FA4SmddX0A4unCW.jpeg\n",
      "imgs/twitter/FIkqnScXMAEsQeq.jpeg\n",
      "imgs/twitter/FA4qFzKWYAc35dw.jpeg\n",
      "imgs/twitter/FIotM6hWQAURLqG.jpeg\n",
      "imgs/twitter/FIzI7g2VQAA_R9d.jpeg\n",
      "imgs/twitter/FA6ijkxUUAARLJ_.jpeg\n",
      "imgs/twitter/FA5bEZlXMAA5G26.jpeg\n",
      "imgs/twitter/FA4cRa-XMAkfx6B.jpeg\n",
      "imgs/twitter/FA4Xqy-XEAYSGH1.jpeg\n",
      "imgs/twitter/FA4PFdkWYBIuKRg.jpeg\n",
      "imgs/twitter/FA4NgUfXIA80TGx.jpeg\n",
      "imgs/twitter/FA4gaIcWUAMmySl.jpeg\n",
      "imgs/twitter/FA4z6EDXEAErNes.jpeg\n",
      "imgs/twitter/FA7ZyaNXIAMzXqs.jpeg\n",
      "imgs/twitter/FA4WkUVWUAcer0X.jpeg\n",
      "imgs/twitter/FA4330WXMAgRXOw.jpeg\n",
      "imgs/twitter/FA4OYJWWUBICFMU.jpeg\n",
      "imgs/twitter/FA4YGyUWUAEIMf2.jpeg\n",
      "imgs/twitter/FA4ZjmkWYAolRnZ.jpeg\n",
      "imgs/twitter/FA4cFAqX0AkLZjl.jpeg\n",
      "imgs/twitter/FA4cMaHWEAQ9371.jpeg\n",
      "imgs/twitter/FA6czUfXIAIe2jv.jpeg\n",
      "imgs/twitter/FA4wPOzWQAIcXdW.jpeg\n",
      "imgs/twitter/FA4X8oTWEAILtqS.jpeg\n",
      "imgs/twitter/FA4Nkg2X0AEVeAF.jpeg\n",
      "imgs/twitter/FA6b0i1WQAEVRvZ.jpeg\n",
      "imgs/twitter/FA4QOZVWUBA-Tdp.jpeg\n",
      "imgs/twitter/FA4h9VBX0BA9H-Z.jpeg\n",
      "imgs/twitter/FA6Mcj0WYAArfDH.jpeg\n",
      "imgs/twitter/FA4NtWVXMAAGE9O.jpeg\n",
      "imgs/twitter/FA4anBBVEAQ42NA.jpeg\n",
      "imgs/twitter/FJDF5kmXMAMdAtI.jpeg\n",
      "imgs/people/FECYsfjXwAIEYmJ.jpeg\n",
      "imgs/people/FEK1L9cXoAgulGK.jpeg\n",
      "{0: 1, 1: 76, 2: 94, 3: 97, 4: 92, 5: 81, 6: 64, 7: 69, 8: 73, 9: 89, 10: 73, 11: 73, 12: 79, 13: 79, 14: 77, 15: 79, 16: 2, 17: 0, 18: 158, 19: 75, 20: 94, 21: 94, 22: 80, 23: 88, 24: 64, 25: 78, 26: 79, 27: 73, 28: 77, 29: 91, 30: 72, 31: 72, 32: 73, 33: 77, 34: 82, 35: 1, 36: 2, 37: 0, 38: 159, 39: 101, 40: 65, 41: 77, 42: 81, 43: 83, 44: 94, 45: 71, 46: 78, 47: 67, 48: 78, 49: 74, 50: 73, 51: 73, 52: 82, 53: 74, 54: 76, 55: 77, 56: 84, 57: 83, 58: 80, 59: 67, 60: 64, 61: 87, 62: 71, 63: 40, 64: 75, 65: 79, 66: 75, 67: 75, 68: 97, 69: 76, 70: 62, 71: 72, 72: 85, 73: 63, 74: 65, 75: 77, 76: 77, 77: 70, 78: 71, 79: 84, 80: 71, 81: 71, 82: 69, 83: 78, 84: 71, 85: 1, 86: 0, 87: 46, 88: 0, 89: 1, 90: 144, 91: 114, 92: 1, 93: 160, 94: 149, 95: 1, 96: 144, 97: 83, 98: 86, 99: 70, 100: 66, 101: 73, 102: 63, 103: 68, 104: 84, 105: 98, 106: 34, 107: 40, 108: 76, 109: 21, 110: 57, 111: 84, 112: 69, 113: 61, 114: 74, 115: 88, 116: 77, 117: 67, 118: 76, 119: 77, 120: 74, 121: 69, 122: 81, 123: 82, 124: 71, 125: 72, 126: 84, 127: 89, 128: 32, 129: 76, 130: 67, 131: 86, 132: 74, 133: 90, 134: 43, 135: 70, 136: 77, 137: 63, 138: 82, 139: 81, 140: 55, 141: 76, 142: 54, 143: 69, 144: 84, 145: 31, 146: 21, 147: 89, 148: 75, 149: 83, 150: 70, 151: 68, 152: 71, 153: 69, 154: 87, 155: 52, 156: 63, 157: 67, 158: 56, 159: 96, 160: 79, 161: 80, 162: 79, 163: 66, 164: 80, 165: 76, 166: 89, 167: 70, 168: 80, 169: 84, 170: 81, 171: 70, 172: 78, 173: 69, 174: 74, 175: 70, 176: 0, 177: 92, 178: 28, 179: 92, 180: 63, 181: 79, 182: 65, 183: 75, 184: 74, 185: 76, 186: 84, 187: 95, 188: 67, 189: 74, 190: 71, 191: 61, 192: 73, 193: 87, 194: 1, 195: 0, 196: 92, 197: 87, 198: 77, 199: 80, 200: 87, 201: 77, 202: 72, 203: 85, 204: 89, 205: 89, 206: 74, 207: 84, 208: 78, 209: 67, 210: 89, 211: 0}\n"
     ]
    }
   ],
   "source": [
    "counts = {i:0 for i in range(212)}\n",
    "for f in files:\n",
    "    try:\n",
    "        _, centers = get_bb_2(f)\n",
    "        nums = get_numbers(centers, all_bb)\n",
    "        for n in nums:\n",
    "            counts[n] += 1\n",
    "    except:\n",
    "        print(f)\n",
    "print(counts)"
   ]
  },
  {
   "cell_type": "code",
   "execution_count": 36,
   "id": "female-walnut",
   "metadata": {},
   "outputs": [
    {
     "name": "stdout",
     "output_type": "stream",
     "text": [
      "[1, 2, 3, 4, 5, 6, 7, 8, 9, 10, 11, 12, 13, 14, 15, 18, 19, 20, 21, 22, 23, 24, 25, 26, 27, 28, 29, 30, 31, 32, 33, 34, 38, 39, 40, 41, 42, 43, 44, 45, 46, 47, 48, 49, 50, 51, 52, 53, 54, 55, 56, 57, 58, 59, 60, 61, 62, 63, 64, 65, 66, 67, 68, 69, 70, 71, 72, 73, 74, 75, 76, 77, 78, 79, 80, 81, 82, 83, 84, 87, 90, 91, 93, 94, 96, 97, 98, 99, 100, 101, 102, 103, 104, 105, 106, 107, 108, 109, 110, 111, 112, 113, 114, 115, 116, 117, 118, 119, 120, 121, 122, 123, 124, 125, 126, 127, 128, 129, 130, 131, 132, 133, 134, 135, 136, 137, 138, 139, 140, 141, 142, 143, 144, 145, 146, 147, 148, 149, 150, 151, 152, 153, 154, 155, 156, 157, 158, 159, 160, 161, 162, 163, 164, 165, 166, 167, 168, 169, 170, 171, 172, 173, 174, 175, 177, 178, 179, 180, 181, 182, 183, 184, 185, 186, 187, 188, 189, 190, 191, 192, 193, 196, 197, 198, 199, 200, 201, 202, 203, 204, 205, 206, 207, 208, 209, 210]\n",
      "[18, 38, 93, 94]\n"
     ]
    }
   ],
   "source": [
    "d = {0: 0, 1: 38, 2: 42, 3: 47, 4: 45, 5: 41, 6: 28, 7: 35, 8: 32, 9: 41, 10: 38, 11: 35, 12: 41, 13: 38, 14: 37, 15: 35, 16: 1, 17: 0, 18: 76, 19: 37, 20: 47, 21: 44, 22: 41, 23: 43, 24: 29, 25: 43, 26: 40, 27: 38, 28: 34, 29: 49, 30: 34, 31: 30, 32: 44, 33: 38, 34: 37, 35: 0, 36: 0, 37: 0, 38: 76, 39: 61, 40: 19, 41: 41, 42: 44, 43: 46, 44: 47, 45: 35, 46: 34, 47: 32, 48: 37, 49: 37, 50: 37, 51: 36, 52: 35, 53: 32, 54: 35, 55: 40, 56: 43, 57: 42, 58: 48, 59: 27, 60: 28, 61: 49, 62: 31, 63: 24, 64: 34, 65: 36, 66: 35, 67: 31, 68: 46, 69: 41, 70: 36, 71: 36, 72: 49, 73: 35, 74: 36, 75: 36, 76: 35, 77: 37, 78: 36, 79: 48, 80: 28, 81: 28, 82: 31, 83: 38, 84: 30, 85: 0, 86: 0, 87: 45, 88: 0, 89: 0, 90: 69, 91: 31, 92: 0, 93: 76, 94: 71, 95: 0, 96: 69, 97: 41, 98: 43, 99: 30, 100: 35, 101: 39, 102: 29, 103: 34, 104: 37, 105: 47, 106: 22, 107: 27, 108: 40, 109: 21, 110: 28, 111: 41, 112: 34, 113: 27, 114: 38, 115: 43, 116: 32, 117: 29, 118: 35, 119: 35, 120: 33, 121: 30, 122: 38, 123: 35, 124: 33, 125: 41, 126: 39, 127: 38, 128: 19, 129: 35, 130: 39, 131: 43, 132: 35, 133: 39, 134: 29, 135: 37, 136: 36, 137: 34, 138: 43, 139: 40, 140: 33, 141: 39, 142: 13, 143: 20, 144: 40, 145: 24, 146: 17, 147: 41, 148: 36, 149: 42, 150: 29, 151: 34, 152: 34, 153: 34, 154: 36, 155: 45, 156: 14, 157: 40, 158: 32, 159: 43, 160: 31, 161: 39, 162: 36, 163: 28, 164: 39, 165: 37, 166: 40, 167: 31, 168: 35, 169: 44, 170: 37, 171: 32, 172: 39, 173: 33, 174: 32, 175: 30, 176: 0, 177: 41, 178: 23, 179: 42, 180: 33, 181: 42, 182: 28, 183: 40, 184: 32, 185: 39, 186: 42, 187: 48, 188: 34, 189: 36, 190: 36, 191: 23, 192: 30, 193: 40, 194: 0, 195: 0, 196: 43, 197: 40, 198: 39, 199: 42, 200: 43, 201: 38, 202: 34, 203: 39, 204: 44, 205: 43, 206: 38, 207: 44, 208: 33, 209: 31, 210: 43, 211: 0}\n",
    "\n",
    "all_points = []\n",
    "no_points = [i for i in range(212)]\n",
    "for k, v in d.items():\n",
    "    if v < 5:\n",
    "        no_points.remove(k)\n",
    "    if v > 70:\n",
    "        all_points.append(k)\n",
    "print(no_points)\n",
    "print(all_points)\n",
    "        "
   ]
  },
  {
   "cell_type": "code",
   "execution_count": 37,
   "id": "tender-findings",
   "metadata": {},
   "outputs": [
    {
     "data": {
      "text/plain": [
       "[(0.025, 0.07604166666666666, 0.058333333333333334, 0.109375),\n",
       " (0.025, 0.12708333333333333, 0.058333333333333334, 0.16041666666666668),\n",
       " (0.025, 0.178125, 0.058333333333333334, 0.21145833333333333),\n",
       " (0.025, 0.22916666666666666, 0.058333333333333334, 0.2625),\n",
       " (0.025, 0.28020833333333334, 0.058333333333333334, 0.31354166666666666),\n",
       " (0.025, 0.3302083333333333, 0.058333333333333334, 0.36354166666666665),\n",
       " (0.025, 0.38125, 0.058333333333333334, 0.41458333333333336),\n",
       " (0.025, 0.4322916666666667, 0.058333333333333334, 0.465625),\n",
       " (0.025, 0.48333333333333334, 0.058333333333333334, 0.5166666666666667),\n",
       " (0.025, 0.534375, 0.058333333333333334, 0.5677083333333334),\n",
       " (0.025, 0.5854166666666667, 0.058333333333333334, 0.61875),\n",
       " (0.025, 0.6364583333333333, 0.058333333333333334, 0.6697916666666667),\n",
       " (0.025, 0.6864583333333333, 0.058333333333333334, 0.7197916666666667),\n",
       " (0.025, 0.7375, 0.058333333333333334, 0.7708333333333334),\n",
       " (0.025, 0.7885416666666667, 0.058333333333333334, 0.821875),\n",
       " (0.025, 0.8395833333333333, 0.058333333333333334, 0.8729166666666667),\n",
       " (0.025, 0.890625, 0.058333333333333334, 0.9239583333333333),\n",
       " (0.07604166666666666, 0.025, 0.109375, 0.058333333333333334),\n",
       " (0.07604166666666666, 0.07604166666666666, 0.109375, 0.109375),\n",
       " (0.07604166666666666, 0.12708333333333333, 0.109375, 0.16041666666666668),\n",
       " (0.07604166666666666, 0.178125, 0.109375, 0.21145833333333333),\n",
       " (0.07604166666666666, 0.22916666666666666, 0.109375, 0.2625),\n",
       " (0.07604166666666666, 0.28020833333333334, 0.109375, 0.31354166666666666),\n",
       " (0.07604166666666666, 0.3302083333333333, 0.109375, 0.36354166666666665),\n",
       " (0.07604166666666666, 0.38125, 0.109375, 0.41458333333333336),\n",
       " (0.07604166666666666, 0.4322916666666667, 0.109375, 0.465625),\n",
       " (0.07604166666666666, 0.48333333333333334, 0.109375, 0.5166666666666667),\n",
       " (0.07604166666666666, 0.534375, 0.109375, 0.5677083333333334),\n",
       " (0.07604166666666666, 0.5854166666666667, 0.109375, 0.61875),\n",
       " (0.07604166666666666, 0.6364583333333333, 0.109375, 0.6697916666666667),\n",
       " (0.07604166666666666, 0.6864583333333333, 0.109375, 0.7197916666666667),\n",
       " (0.07604166666666666, 0.7375, 0.109375, 0.7708333333333334),\n",
       " (0.07604166666666666, 0.7885416666666667, 0.109375, 0.821875),\n",
       " (0.07604166666666666, 0.8395833333333333, 0.109375, 0.8729166666666667),\n",
       " (0.07604166666666666, 0.890625, 0.109375, 0.9239583333333333),\n",
       " (0.07604166666666666, 0.9416666666666667, 0.109375, 0.975),\n",
       " (0.12708333333333333, 0.025, 0.16041666666666668, 0.058333333333333334),\n",
       " (0.12708333333333333, 0.07604166666666666, 0.16041666666666668, 0.109375),\n",
       " (0.12708333333333333,\n",
       "  0.12708333333333333,\n",
       "  0.16041666666666668,\n",
       "  0.16041666666666668),\n",
       " (0.12708333333333333, 0.178125, 0.16041666666666668, 0.21145833333333333),\n",
       " (0.12708333333333333, 0.22916666666666666, 0.16041666666666668, 0.2625),\n",
       " (0.12708333333333333,\n",
       "  0.28020833333333334,\n",
       "  0.16041666666666668,\n",
       "  0.31354166666666666),\n",
       " (0.12708333333333333, 0.33125, 0.16041666666666668, 0.36354166666666665),\n",
       " (0.12708333333333333, 0.38125, 0.16041666666666668, 0.41458333333333336),\n",
       " (0.12708333333333333, 0.4322916666666667, 0.16041666666666668, 0.465625),\n",
       " (0.12708333333333333,\n",
       "  0.48333333333333334,\n",
       "  0.16041666666666668,\n",
       "  0.5166666666666667),\n",
       " (0.12708333333333333, 0.534375, 0.16041666666666668, 0.5677083333333334),\n",
       " (0.12708333333333333, 0.5854166666666667, 0.16041666666666668, 0.61875),\n",
       " (0.12708333333333333,\n",
       "  0.6364583333333333,\n",
       "  0.16041666666666668,\n",
       "  0.6697916666666667),\n",
       " (0.12708333333333333,\n",
       "  0.6864583333333333,\n",
       "  0.16041666666666668,\n",
       "  0.7197916666666667),\n",
       " (0.12708333333333333, 0.7375, 0.16041666666666668, 0.7708333333333334),\n",
       " (0.12708333333333333, 0.7885416666666667, 0.16041666666666668, 0.821875),\n",
       " (0.12708333333333333,\n",
       "  0.8395833333333333,\n",
       "  0.16041666666666668,\n",
       "  0.8729166666666667),\n",
       " (0.12708333333333333, 0.890625, 0.16041666666666668, 0.9239583333333333),\n",
       " (0.12708333333333333, 0.9416666666666667, 0.16041666666666668, 0.975),\n",
       " (0.178125, 0.025, 0.21145833333333333, 0.058333333333333334),\n",
       " (0.178125, 0.07604166666666666, 0.21145833333333333, 0.109375),\n",
       " (0.178125, 0.12708333333333333, 0.21145833333333333, 0.16041666666666668),\n",
       " (0.178125, 0.178125, 0.21145833333333333, 0.21145833333333333),\n",
       " (0.178125, 0.22916666666666666, 0.21145833333333333, 0.2625),\n",
       " (0.178125, 0.28020833333333334, 0.21145833333333333, 0.31354166666666666),\n",
       " (0.178125, 0.6864583333333333, 0.21145833333333333, 0.7197916666666667),\n",
       " (0.178125, 0.7375, 0.21145833333333333, 0.7708333333333334),\n",
       " (0.178125, 0.7885416666666667, 0.21145833333333333, 0.821875),\n",
       " (0.178125, 0.8395833333333333, 0.21145833333333333, 0.8729166666666667),\n",
       " (0.178125, 0.890625, 0.21145833333333333, 0.9239583333333333),\n",
       " (0.178125, 0.9416666666666667, 0.21145833333333333, 0.975),\n",
       " (0.22916666666666666, 0.025, 0.2625, 0.058333333333333334),\n",
       " (0.22916666666666666, 0.07604166666666666, 0.2625, 0.109375),\n",
       " (0.22916666666666666, 0.12708333333333333, 0.2625, 0.16041666666666668),\n",
       " (0.22916666666666666, 0.178125, 0.2625, 0.21145833333333333),\n",
       " (0.22916666666666666, 0.22916666666666666, 0.2625, 0.2625),\n",
       " (0.22916666666666666, 0.7375, 0.2625, 0.7708333333333334),\n",
       " (0.22916666666666666, 0.7885416666666667, 0.2625, 0.821875),\n",
       " (0.22916666666666666, 0.8395833333333333, 0.2625, 0.8729166666666667),\n",
       " (0.22916666666666666, 0.890625, 0.2625, 0.9239583333333333),\n",
       " (0.22916666666666666, 0.9416666666666667, 0.2625, 0.975),\n",
       " (0.28020833333333334, 0.025, 0.31354166666666666, 0.058333333333333334),\n",
       " (0.28020833333333334, 0.07604166666666666, 0.31354166666666666, 0.109375),\n",
       " (0.28020833333333334,\n",
       "  0.12708333333333333,\n",
       "  0.31354166666666666,\n",
       "  0.16041666666666668),\n",
       " (0.28020833333333334, 0.178125, 0.31354166666666666, 0.21145833333333333),\n",
       " (0.28020833333333334, 0.7885416666666667, 0.31354166666666666, 0.821875),\n",
       " (0.28020833333333334,\n",
       "  0.8395833333333333,\n",
       "  0.31354166666666666,\n",
       "  0.8729166666666667),\n",
       " (0.28020833333333334, 0.890625, 0.31354166666666666, 0.9239583333333333),\n",
       " (0.28020833333333334, 0.9416666666666667, 0.31354166666666666, 0.975),\n",
       " (0.3302083333333333, 0.025, 0.36354166666666665, 0.058333333333333334),\n",
       " (0.3302083333333333, 0.07604166666666666, 0.36354166666666665, 0.109375),\n",
       " (0.3302083333333333,\n",
       "  0.12708333333333333,\n",
       "  0.36354166666666665,\n",
       "  0.16041666666666668),\n",
       " (0.3302083333333333,\n",
       "  0.8395833333333333,\n",
       "  0.36354166666666665,\n",
       "  0.8729166666666667),\n",
       " (0.3302083333333333, 0.890625, 0.36354166666666665, 0.9239583333333333),\n",
       " (0.3302083333333333, 0.9416666666666667, 0.36354166666666665, 0.975),\n",
       " (0.38125, 0.025, 0.41458333333333336, 0.058333333333333334),\n",
       " (0.38125, 0.07604166666666666, 0.41458333333333336, 0.109375),\n",
       " (0.38125, 0.12708333333333333, 0.41458333333333336, 0.16041666666666668),\n",
       " (0.38125, 0.8395833333333333, 0.41458333333333336, 0.8729166666666667),\n",
       " (0.38125, 0.890625, 0.41458333333333336, 0.9239583333333333),\n",
       " (0.38125, 0.9416666666666667, 0.41458333333333336, 0.975),\n",
       " (0.4322916666666667, 0.025, 0.465625, 0.058333333333333334),\n",
       " (0.4322916666666667, 0.07604166666666666, 0.465625, 0.109375),\n",
       " (0.4322916666666667, 0.12708333333333333, 0.465625, 0.16041666666666668),\n",
       " (0.4322916666666667, 0.8395833333333333, 0.465625, 0.8729166666666667),\n",
       " (0.4322916666666667, 0.890625, 0.465625, 0.9239583333333333),\n",
       " (0.4322916666666667, 0.9416666666666667, 0.465625, 0.975),\n",
       " (0.48333333333333334, 0.025, 0.5166666666666667, 0.058333333333333334),\n",
       " (0.48333333333333334, 0.07604166666666666, 0.5166666666666667, 0.109375),\n",
       " (0.48333333333333334,\n",
       "  0.12708333333333333,\n",
       "  0.5166666666666667,\n",
       "  0.16041666666666668),\n",
       " (0.48333333333333334,\n",
       "  0.8395833333333333,\n",
       "  0.5166666666666667,\n",
       "  0.8729166666666667),\n",
       " (0.48333333333333334, 0.890625, 0.5166666666666667, 0.9239583333333333),\n",
       " (0.48333333333333334, 0.9416666666666667, 0.5166666666666667, 0.975),\n",
       " (0.534375, 0.025, 0.5677083333333334, 0.058333333333333334),\n",
       " (0.534375, 0.07604166666666666, 0.5677083333333334, 0.109375),\n",
       " (0.534375, 0.12708333333333333, 0.5677083333333334, 0.16041666666666668),\n",
       " (0.534375, 0.8395833333333333, 0.5677083333333334, 0.8729166666666667),\n",
       " (0.534375, 0.890625, 0.5677083333333334, 0.9239583333333333),\n",
       " (0.534375, 0.9416666666666667, 0.5677083333333334, 0.975),\n",
       " (0.5854166666666667, 0.025, 0.61875, 0.058333333333333334),\n",
       " (0.5854166666666667, 0.07604166666666666, 0.61875, 0.109375),\n",
       " (0.5854166666666667, 0.12708333333333333, 0.61875, 0.16041666666666668),\n",
       " (0.5854166666666667, 0.8395833333333333, 0.61875, 0.8729166666666667),\n",
       " (0.5854166666666667, 0.890625, 0.61875, 0.9239583333333333),\n",
       " (0.5854166666666667, 0.9416666666666667, 0.61875, 0.975),\n",
       " (0.6364583333333333, 0.025, 0.6697916666666667, 0.058333333333333334),\n",
       " (0.6364583333333333, 0.07604166666666666, 0.6697916666666667, 0.109375),\n",
       " (0.6364583333333333,\n",
       "  0.12708333333333333,\n",
       "  0.6697916666666667,\n",
       "  0.16041666666666668),\n",
       " (0.6364583333333333,\n",
       "  0.8395833333333333,\n",
       "  0.6697916666666667,\n",
       "  0.8729166666666667),\n",
       " (0.6364583333333333, 0.890625, 0.6697916666666667, 0.9239583333333333),\n",
       " (0.6364583333333333, 0.9416666666666667, 0.6697916666666667, 0.975),\n",
       " (0.6864583333333333, 0.025, 0.7197916666666667, 0.058333333333333334),\n",
       " (0.6864583333333333, 0.07604166666666666, 0.7197916666666667, 0.109375),\n",
       " (0.6864583333333333,\n",
       "  0.12708333333333333,\n",
       "  0.7197916666666667,\n",
       "  0.16041666666666668),\n",
       " (0.6864583333333333, 0.178125, 0.7197916666666667, 0.21145833333333333),\n",
       " (0.6864583333333333, 0.7885416666666667, 0.7197916666666667, 0.821875),\n",
       " (0.6864583333333333,\n",
       "  0.8395833333333333,\n",
       "  0.7197916666666667,\n",
       "  0.8729166666666667),\n",
       " (0.6864583333333333, 0.890625, 0.7197916666666667, 0.9239583333333333),\n",
       " (0.6864583333333333, 0.9416666666666667, 0.7197916666666667, 0.975),\n",
       " (0.7375, 0.025, 0.7708333333333334, 0.058333333333333334),\n",
       " (0.7375, 0.07604166666666666, 0.7708333333333334, 0.109375),\n",
       " (0.7375, 0.12708333333333333, 0.7708333333333334, 0.16041666666666668),\n",
       " (0.7375, 0.178125, 0.7708333333333334, 0.21145833333333333),\n",
       " (0.7375, 0.22916666666666666, 0.7708333333333334, 0.2625),\n",
       " (0.7375, 0.7375, 0.7708333333333334, 0.7708333333333334),\n",
       " (0.7375, 0.7885416666666667, 0.7708333333333334, 0.821875),\n",
       " (0.7375, 0.8395833333333333, 0.7708333333333334, 0.8729166666666667),\n",
       " (0.7375, 0.890625, 0.7708333333333334, 0.9239583333333333),\n",
       " (0.7375, 0.9416666666666667, 0.7708333333333334, 0.975),\n",
       " (0.7885416666666667, 0.025, 0.821875, 0.058333333333333334),\n",
       " (0.7885416666666667, 0.07604166666666666, 0.821875, 0.109375),\n",
       " (0.7885416666666667, 0.12708333333333333, 0.821875, 0.16041666666666668),\n",
       " (0.7885416666666667, 0.178125, 0.821875, 0.21145833333333333),\n",
       " (0.7885416666666667, 0.22916666666666666, 0.821875, 0.2625),\n",
       " (0.7885416666666667, 0.28020833333333334, 0.821875, 0.31354166666666666),\n",
       " (0.7885416666666667, 0.6864583333333333, 0.821875, 0.7197916666666667),\n",
       " (0.7885416666666667, 0.7375, 0.821875, 0.7708333333333334),\n",
       " (0.7885416666666667, 0.7885416666666667, 0.821875, 0.821875),\n",
       " (0.7885416666666667, 0.8395833333333333, 0.821875, 0.8729166666666667),\n",
       " (0.7885416666666667, 0.890625, 0.821875, 0.9239583333333333),\n",
       " (0.7885416666666667, 0.9416666666666667, 0.821875, 0.975),\n",
       " (0.8395833333333333, 0.025, 0.8729166666666667, 0.058333333333333334),\n",
       " (0.8395833333333333, 0.07604166666666666, 0.8729166666666667, 0.109375),\n",
       " (0.8395833333333333,\n",
       "  0.12708333333333333,\n",
       "  0.8729166666666667,\n",
       "  0.16041666666666668),\n",
       " (0.8395833333333333, 0.178125, 0.8729166666666667, 0.21145833333333333),\n",
       " (0.8395833333333333, 0.22916666666666666, 0.8729166666666667, 0.2625),\n",
       " (0.8395833333333333,\n",
       "  0.28020833333333334,\n",
       "  0.8729166666666667,\n",
       "  0.31354166666666666),\n",
       " (0.8395833333333333, 0.33125, 0.8729166666666667, 0.36354166666666665),\n",
       " (0.8395833333333333, 0.38125, 0.8729166666666667, 0.41458333333333336),\n",
       " (0.8395833333333333, 0.4322916666666667, 0.8729166666666667, 0.465625),\n",
       " (0.8395833333333333,\n",
       "  0.48333333333333334,\n",
       "  0.8729166666666667,\n",
       "  0.5166666666666667),\n",
       " (0.8395833333333333, 0.534375, 0.8729166666666667, 0.5677083333333334),\n",
       " (0.8395833333333333, 0.5854166666666667, 0.8729166666666667, 0.61875),\n",
       " (0.8395833333333333,\n",
       "  0.6364583333333333,\n",
       "  0.8729166666666667,\n",
       "  0.6697916666666667),\n",
       " (0.8395833333333333,\n",
       "  0.6864583333333333,\n",
       "  0.8729166666666667,\n",
       "  0.7197916666666667),\n",
       " (0.8395833333333333, 0.7375, 0.8729166666666667, 0.7708333333333334),\n",
       " (0.8395833333333333, 0.7885416666666667, 0.8729166666666667, 0.821875),\n",
       " (0.8395833333333333,\n",
       "  0.8395833333333333,\n",
       "  0.8729166666666667,\n",
       "  0.8729166666666667),\n",
       " (0.8395833333333333, 0.890625, 0.8729166666666667, 0.9239583333333333),\n",
       " (0.8395833333333333, 0.9416666666666667, 0.8729166666666667, 0.975),\n",
       " (0.890625, 0.025, 0.9239583333333333, 0.058333333333333334),\n",
       " (0.890625, 0.07604166666666666, 0.9239583333333333, 0.109375),\n",
       " (0.890625, 0.12708333333333333, 0.9239583333333333, 0.16041666666666668),\n",
       " (0.890625, 0.178125, 0.9239583333333333, 0.21145833333333333),\n",
       " (0.890625, 0.22916666666666666, 0.9239583333333333, 0.2625),\n",
       " (0.890625, 0.28020833333333334, 0.9239583333333333, 0.31354166666666666),\n",
       " (0.890625, 0.3302083333333333, 0.9239583333333333, 0.36354166666666665),\n",
       " (0.890625, 0.38125, 0.9239583333333333, 0.41458333333333336),\n",
       " (0.890625, 0.4322916666666667, 0.9239583333333333, 0.465625),\n",
       " (0.890625, 0.48333333333333334, 0.9239583333333333, 0.5166666666666667),\n",
       " (0.890625, 0.534375, 0.9239583333333333, 0.5677083333333334),\n",
       " (0.890625, 0.5854166666666667, 0.9239583333333333, 0.61875),\n",
       " (0.890625, 0.6364583333333333, 0.9239583333333333, 0.6697916666666667),\n",
       " (0.890625, 0.6864583333333333, 0.9239583333333333, 0.7197916666666667),\n",
       " (0.890625, 0.7375, 0.9239583333333333, 0.7708333333333334),\n",
       " (0.890625, 0.7885416666666667, 0.9239583333333333, 0.821875),\n",
       " (0.890625, 0.8395833333333333, 0.9239583333333333, 0.8729166666666667),\n",
       " (0.890625, 0.890625, 0.9239583333333333, 0.9239583333333333),\n",
       " (0.890625, 0.9416666666666667, 0.9239583333333333, 0.975),\n",
       " (0.9416666666666667, 0.07604166666666666, 0.975, 0.109375),\n",
       " (0.9416666666666667, 0.12708333333333333, 0.975, 0.16041666666666668),\n",
       " (0.9416666666666667, 0.178125, 0.975, 0.21145833333333333),\n",
       " (0.9416666666666667, 0.22916666666666666, 0.975, 0.2625),\n",
       " (0.9416666666666667, 0.28020833333333334, 0.975, 0.31354166666666666),\n",
       " (0.9416666666666667, 0.3302083333333333, 0.975, 0.36354166666666665),\n",
       " (0.9416666666666667, 0.38125, 0.975, 0.41458333333333336),\n",
       " (0.9416666666666667, 0.4322916666666667, 0.975, 0.465625),\n",
       " (0.9416666666666667, 0.48333333333333334, 0.975, 0.5166666666666667),\n",
       " (0.9416666666666667, 0.534375, 0.975, 0.5677083333333334),\n",
       " (0.9416666666666667, 0.5854166666666667, 0.975, 0.61875),\n",
       " (0.9416666666666667, 0.6364583333333333, 0.975, 0.6697916666666667),\n",
       " (0.9416666666666667, 0.6864583333333333, 0.975, 0.7197916666666667),\n",
       " (0.9416666666666667, 0.7375, 0.975, 0.7708333333333334),\n",
       " (0.9416666666666667, 0.7885416666666667, 0.975, 0.821875),\n",
       " (0.9416666666666667, 0.8395833333333333, 0.975, 0.8729166666666667),\n",
       " (0.9416666666666667, 0.890625, 0.975, 0.9239583333333333)]"
      ]
     },
     "execution_count": 37,
     "metadata": {},
     "output_type": "execute_result"
    }
   ],
   "source": [
    "all_bb"
   ]
  },
  {
   "cell_type": "code",
   "execution_count": null,
   "id": "qualified-forge",
   "metadata": {},
   "outputs": [],
   "source": []
  }
 ],
 "metadata": {
  "kernelspec": {
   "display_name": "Python 3",
   "language": "python",
   "name": "python3"
  },
  "language_info": {
   "codemirror_mode": {
    "name": "ipython",
    "version": 3
   },
   "file_extension": ".py",
   "mimetype": "text/x-python",
   "name": "python",
   "nbconvert_exporter": "python",
   "pygments_lexer": "ipython3",
   "version": "3.9.7"
  }
 },
 "nbformat": 4,
 "nbformat_minor": 5
}
